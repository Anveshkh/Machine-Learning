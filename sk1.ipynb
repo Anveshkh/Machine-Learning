{
  "nbformat": 4,
  "nbformat_minor": 0,
  "metadata": {
    "colab": {
      "provenance": [],
      "authorship_tag": "ABX9TyM1Oc1xhMpcBqcGXVIPLObw",
      "include_colab_link": true
    },
    "kernelspec": {
      "name": "python3",
      "display_name": "Python 3"
    },
    "language_info": {
      "name": "python"
    }
  },
  "cells": [
    {
      "cell_type": "markdown",
      "metadata": {
        "id": "view-in-github",
        "colab_type": "text"
      },
      "source": [
        "<a href=\"https://colab.research.google.com/github/Anveshkh/Machine-Learning/blob/master/sk1.ipynb\" target=\"_parent\"><img src=\"https://colab.research.google.com/assets/colab-badge.svg\" alt=\"Open In Colab\"/></a>"
      ]
    },
    {
      "cell_type": "code",
      "execution_count": 1,
      "metadata": {
        "id": "JPFEpd_uaVtS"
      },
      "outputs": [],
      "source": [
        "import pandas as pd\n",
        "import numpy as np\n",
        "import matplotlib.pyplot as plt"
      ]
    },
    {
      "cell_type": "code",
      "source": [
        "heart_disease = pd.read_csv(\"heart-disease.csv\")\n",
        "heart_disease.head()"
      ],
      "metadata": {
        "colab": {
          "base_uri": "https://localhost:8080/",
          "height": 206
        },
        "id": "iAXVCjj2aqf2",
        "outputId": "6c9b7aa1-467b-4139-a212-5c9f5f76e9a5"
      },
      "execution_count": 2,
      "outputs": [
        {
          "output_type": "execute_result",
          "data": {
            "text/plain": [
              "   age  sex  cp  trestbps  chol  fbs  restecg  thalach  exang  oldpeak  slope  \\\n",
              "0   63    1   3       145   233    1        0      150      0      2.3      0   \n",
              "1   37    1   2       130   250    0        1      187      0      3.5      0   \n",
              "2   41    0   1       130   204    0        0      172      0      1.4      2   \n",
              "3   56    1   1       120   236    0        1      178      0      0.8      2   \n",
              "4   57    0   0       120   354    0        1      163      1      0.6      2   \n",
              "\n",
              "   ca  thal  target  \n",
              "0   0     1       1  \n",
              "1   0     2       1  \n",
              "2   0     2       1  \n",
              "3   0     2       1  \n",
              "4   0     2       1  "
            ],
            "text/html": [
              "\n",
              "  <div id=\"df-5ae5fbb7-ae91-4edd-b748-1c796e0114fc\" class=\"colab-df-container\">\n",
              "    <div>\n",
              "<style scoped>\n",
              "    .dataframe tbody tr th:only-of-type {\n",
              "        vertical-align: middle;\n",
              "    }\n",
              "\n",
              "    .dataframe tbody tr th {\n",
              "        vertical-align: top;\n",
              "    }\n",
              "\n",
              "    .dataframe thead th {\n",
              "        text-align: right;\n",
              "    }\n",
              "</style>\n",
              "<table border=\"1\" class=\"dataframe\">\n",
              "  <thead>\n",
              "    <tr style=\"text-align: right;\">\n",
              "      <th></th>\n",
              "      <th>age</th>\n",
              "      <th>sex</th>\n",
              "      <th>cp</th>\n",
              "      <th>trestbps</th>\n",
              "      <th>chol</th>\n",
              "      <th>fbs</th>\n",
              "      <th>restecg</th>\n",
              "      <th>thalach</th>\n",
              "      <th>exang</th>\n",
              "      <th>oldpeak</th>\n",
              "      <th>slope</th>\n",
              "      <th>ca</th>\n",
              "      <th>thal</th>\n",
              "      <th>target</th>\n",
              "    </tr>\n",
              "  </thead>\n",
              "  <tbody>\n",
              "    <tr>\n",
              "      <th>0</th>\n",
              "      <td>63</td>\n",
              "      <td>1</td>\n",
              "      <td>3</td>\n",
              "      <td>145</td>\n",
              "      <td>233</td>\n",
              "      <td>1</td>\n",
              "      <td>0</td>\n",
              "      <td>150</td>\n",
              "      <td>0</td>\n",
              "      <td>2.3</td>\n",
              "      <td>0</td>\n",
              "      <td>0</td>\n",
              "      <td>1</td>\n",
              "      <td>1</td>\n",
              "    </tr>\n",
              "    <tr>\n",
              "      <th>1</th>\n",
              "      <td>37</td>\n",
              "      <td>1</td>\n",
              "      <td>2</td>\n",
              "      <td>130</td>\n",
              "      <td>250</td>\n",
              "      <td>0</td>\n",
              "      <td>1</td>\n",
              "      <td>187</td>\n",
              "      <td>0</td>\n",
              "      <td>3.5</td>\n",
              "      <td>0</td>\n",
              "      <td>0</td>\n",
              "      <td>2</td>\n",
              "      <td>1</td>\n",
              "    </tr>\n",
              "    <tr>\n",
              "      <th>2</th>\n",
              "      <td>41</td>\n",
              "      <td>0</td>\n",
              "      <td>1</td>\n",
              "      <td>130</td>\n",
              "      <td>204</td>\n",
              "      <td>0</td>\n",
              "      <td>0</td>\n",
              "      <td>172</td>\n",
              "      <td>0</td>\n",
              "      <td>1.4</td>\n",
              "      <td>2</td>\n",
              "      <td>0</td>\n",
              "      <td>2</td>\n",
              "      <td>1</td>\n",
              "    </tr>\n",
              "    <tr>\n",
              "      <th>3</th>\n",
              "      <td>56</td>\n",
              "      <td>1</td>\n",
              "      <td>1</td>\n",
              "      <td>120</td>\n",
              "      <td>236</td>\n",
              "      <td>0</td>\n",
              "      <td>1</td>\n",
              "      <td>178</td>\n",
              "      <td>0</td>\n",
              "      <td>0.8</td>\n",
              "      <td>2</td>\n",
              "      <td>0</td>\n",
              "      <td>2</td>\n",
              "      <td>1</td>\n",
              "    </tr>\n",
              "    <tr>\n",
              "      <th>4</th>\n",
              "      <td>57</td>\n",
              "      <td>0</td>\n",
              "      <td>0</td>\n",
              "      <td>120</td>\n",
              "      <td>354</td>\n",
              "      <td>0</td>\n",
              "      <td>1</td>\n",
              "      <td>163</td>\n",
              "      <td>1</td>\n",
              "      <td>0.6</td>\n",
              "      <td>2</td>\n",
              "      <td>0</td>\n",
              "      <td>2</td>\n",
              "      <td>1</td>\n",
              "    </tr>\n",
              "  </tbody>\n",
              "</table>\n",
              "</div>\n",
              "    <div class=\"colab-df-buttons\">\n",
              "\n",
              "  <div class=\"colab-df-container\">\n",
              "    <button class=\"colab-df-convert\" onclick=\"convertToInteractive('df-5ae5fbb7-ae91-4edd-b748-1c796e0114fc')\"\n",
              "            title=\"Convert this dataframe to an interactive table.\"\n",
              "            style=\"display:none;\">\n",
              "\n",
              "  <svg xmlns=\"http://www.w3.org/2000/svg\" height=\"24px\" viewBox=\"0 -960 960 960\">\n",
              "    <path d=\"M120-120v-720h720v720H120Zm60-500h600v-160H180v160Zm220 220h160v-160H400v160Zm0 220h160v-160H400v160ZM180-400h160v-160H180v160Zm440 0h160v-160H620v160ZM180-180h160v-160H180v160Zm440 0h160v-160H620v160Z\"/>\n",
              "  </svg>\n",
              "    </button>\n",
              "\n",
              "  <style>\n",
              "    .colab-df-container {\n",
              "      display:flex;\n",
              "      gap: 12px;\n",
              "    }\n",
              "\n",
              "    .colab-df-convert {\n",
              "      background-color: #E8F0FE;\n",
              "      border: none;\n",
              "      border-radius: 50%;\n",
              "      cursor: pointer;\n",
              "      display: none;\n",
              "      fill: #1967D2;\n",
              "      height: 32px;\n",
              "      padding: 0 0 0 0;\n",
              "      width: 32px;\n",
              "    }\n",
              "\n",
              "    .colab-df-convert:hover {\n",
              "      background-color: #E2EBFA;\n",
              "      box-shadow: 0px 1px 2px rgba(60, 64, 67, 0.3), 0px 1px 3px 1px rgba(60, 64, 67, 0.15);\n",
              "      fill: #174EA6;\n",
              "    }\n",
              "\n",
              "    .colab-df-buttons div {\n",
              "      margin-bottom: 4px;\n",
              "    }\n",
              "\n",
              "    [theme=dark] .colab-df-convert {\n",
              "      background-color: #3B4455;\n",
              "      fill: #D2E3FC;\n",
              "    }\n",
              "\n",
              "    [theme=dark] .colab-df-convert:hover {\n",
              "      background-color: #434B5C;\n",
              "      box-shadow: 0px 1px 3px 1px rgba(0, 0, 0, 0.15);\n",
              "      filter: drop-shadow(0px 1px 2px rgba(0, 0, 0, 0.3));\n",
              "      fill: #FFFFFF;\n",
              "    }\n",
              "  </style>\n",
              "\n",
              "    <script>\n",
              "      const buttonEl =\n",
              "        document.querySelector('#df-5ae5fbb7-ae91-4edd-b748-1c796e0114fc button.colab-df-convert');\n",
              "      buttonEl.style.display =\n",
              "        google.colab.kernel.accessAllowed ? 'block' : 'none';\n",
              "\n",
              "      async function convertToInteractive(key) {\n",
              "        const element = document.querySelector('#df-5ae5fbb7-ae91-4edd-b748-1c796e0114fc');\n",
              "        const dataTable =\n",
              "          await google.colab.kernel.invokeFunction('convertToInteractive',\n",
              "                                                    [key], {});\n",
              "        if (!dataTable) return;\n",
              "\n",
              "        const docLinkHtml = 'Like what you see? Visit the ' +\n",
              "          '<a target=\"_blank\" href=https://colab.research.google.com/notebooks/data_table.ipynb>data table notebook</a>'\n",
              "          + ' to learn more about interactive tables.';\n",
              "        element.innerHTML = '';\n",
              "        dataTable['output_type'] = 'display_data';\n",
              "        await google.colab.output.renderOutput(dataTable, element);\n",
              "        const docLink = document.createElement('div');\n",
              "        docLink.innerHTML = docLinkHtml;\n",
              "        element.appendChild(docLink);\n",
              "      }\n",
              "    </script>\n",
              "  </div>\n",
              "\n",
              "\n",
              "<div id=\"df-8a92a860-634e-4725-9c23-598e4aeccb3c\">\n",
              "  <button class=\"colab-df-quickchart\" onclick=\"quickchart('df-8a92a860-634e-4725-9c23-598e4aeccb3c')\"\n",
              "            title=\"Suggest charts.\"\n",
              "            style=\"display:none;\">\n",
              "\n",
              "<svg xmlns=\"http://www.w3.org/2000/svg\" height=\"24px\"viewBox=\"0 0 24 24\"\n",
              "     width=\"24px\">\n",
              "    <g>\n",
              "        <path d=\"M19 3H5c-1.1 0-2 .9-2 2v14c0 1.1.9 2 2 2h14c1.1 0 2-.9 2-2V5c0-1.1-.9-2-2-2zM9 17H7v-7h2v7zm4 0h-2V7h2v10zm4 0h-2v-4h2v4z\"/>\n",
              "    </g>\n",
              "</svg>\n",
              "  </button>\n",
              "\n",
              "<style>\n",
              "  .colab-df-quickchart {\n",
              "    background-color: #E8F0FE;\n",
              "    border: none;\n",
              "    border-radius: 50%;\n",
              "    cursor: pointer;\n",
              "    display: none;\n",
              "    fill: #1967D2;\n",
              "    height: 32px;\n",
              "    padding: 0 0 0 0;\n",
              "    width: 32px;\n",
              "  }\n",
              "\n",
              "  .colab-df-quickchart:hover {\n",
              "    background-color: #E2EBFA;\n",
              "    box-shadow: 0px 1px 2px rgba(60, 64, 67, 0.3), 0px 1px 3px 1px rgba(60, 64, 67, 0.15);\n",
              "    fill: #174EA6;\n",
              "  }\n",
              "\n",
              "  [theme=dark] .colab-df-quickchart {\n",
              "    background-color: #3B4455;\n",
              "    fill: #D2E3FC;\n",
              "  }\n",
              "\n",
              "  [theme=dark] .colab-df-quickchart:hover {\n",
              "    background-color: #434B5C;\n",
              "    box-shadow: 0px 1px 3px 1px rgba(0, 0, 0, 0.15);\n",
              "    filter: drop-shadow(0px 1px 2px rgba(0, 0, 0, 0.3));\n",
              "    fill: #FFFFFF;\n",
              "  }\n",
              "</style>\n",
              "\n",
              "  <script>\n",
              "    async function quickchart(key) {\n",
              "      const charts = await google.colab.kernel.invokeFunction(\n",
              "          'suggestCharts', [key], {});\n",
              "    }\n",
              "    (() => {\n",
              "      let quickchartButtonEl =\n",
              "        document.querySelector('#df-8a92a860-634e-4725-9c23-598e4aeccb3c button');\n",
              "      quickchartButtonEl.style.display =\n",
              "        google.colab.kernel.accessAllowed ? 'block' : 'none';\n",
              "    })();\n",
              "  </script>\n",
              "</div>\n",
              "    </div>\n",
              "  </div>\n"
            ]
          },
          "metadata": {},
          "execution_count": 2
        }
      ]
    },
    {
      "cell_type": "markdown",
      "source": [
        "#### All values are numerical so we don't need to convert anything to numbers\n"
      ],
      "metadata": {
        "id": "TYIT8oE2azNn"
      }
    },
    {
      "cell_type": "code",
      "source": [
        "# Check if we have any missing values or not\n",
        "heart_disease.isna().sum()"
      ],
      "metadata": {
        "colab": {
          "base_uri": "https://localhost:8080/"
        },
        "id": "VU-N5tdTbQ6v",
        "outputId": "e37fafd0-e03e-4750-a66f-7f994fa08825"
      },
      "execution_count": 8,
      "outputs": [
        {
          "output_type": "execute_result",
          "data": {
            "text/plain": [
              "age         0\n",
              "sex         0\n",
              "cp          0\n",
              "trestbps    0\n",
              "chol        0\n",
              "fbs         0\n",
              "restecg     0\n",
              "thalach     0\n",
              "exang       0\n",
              "oldpeak     0\n",
              "slope       0\n",
              "ca          0\n",
              "thal        0\n",
              "target      0\n",
              "dtype: int64"
            ]
          },
          "metadata": {},
          "execution_count": 8
        }
      ]
    },
    {
      "cell_type": "markdown",
      "source": [
        "#### We don't have any missing data"
      ],
      "metadata": {
        "id": "vdX2-yUZbbKB"
      }
    },
    {
      "cell_type": "code",
      "source": [
        "X = heart_disease.drop(\"target\", axis=1)\n",
        "Y = heart_disease[\"target\"]\n",
        "\n",
        "X.shape"
      ],
      "metadata": {
        "colab": {
          "base_uri": "https://localhost:8080/"
        },
        "id": "-Q6J4UPDb18A",
        "outputId": "341dad6d-7815-4cd2-b97d-6de8fa2c5c38"
      },
      "execution_count": 11,
      "outputs": [
        {
          "output_type": "execute_result",
          "data": {
            "text/plain": [
              "(303, 13)"
            ]
          },
          "metadata": {},
          "execution_count": 11
        }
      ]
    },
    {
      "cell_type": "code",
      "source": [
        "from sklearn.model_selection import train_test_split\n",
        "\n",
        "X_train, X_test, y_train, y_test = train_test_split(X, Y, test_size=0.2)\n",
        "\n",
        "X_train.shape, X_test.shape"
      ],
      "metadata": {
        "colab": {
          "base_uri": "https://localhost:8080/"
        },
        "id": "rQWbja3zbiYl",
        "outputId": "3b6623d9-f773-4189-af20-3642c06c7dda"
      },
      "execution_count": 12,
      "outputs": [
        {
          "output_type": "execute_result",
          "data": {
            "text/plain": [
              "((242, 13), (61, 13))"
            ]
          },
          "metadata": {},
          "execution_count": 12
        }
      ]
    },
    {
      "cell_type": "markdown",
      "source": [
        "#### In X_train => 242 rows and 13 columns. In X_test => 61 rows and 13 columns."
      ],
      "metadata": {
        "id": "bYIGjwTTcIVL"
      }
    },
    {
      "cell_type": "markdown",
      "source": [
        "'''\n",
        "Here we have to predict if a patient has heart disease or not. So this is a classification problem.\n",
        "We can either use:\n",
        "1) Logistic Regression\n",
        "2) Random Forest Classifier\n",
        "3) Naive bayes classifier\n",
        "4 Support Vector Machines\n",
        "5) knn - K nearest neighbors\n",
        "'''"
      ],
      "metadata": {
        "id": "jDLm3Eu_cU1T"
      }
    },
    {
      "cell_type": "markdown",
      "source": [
        "## MODEL 1: Logistic Regression"
      ],
      "metadata": {
        "id": "kTD6ZpRdjTCG"
      }
    },
    {
      "cell_type": "code",
      "source": [
        "from sklearn.linear_model import LogisticRegression\n",
        "\n",
        "model = LogisticRegression(max_iter=1000)\n",
        "\n",
        "model.fit(X_train, y_train)\n",
        "\n",
        "y_preds = model.predict(X_test)"
      ],
      "metadata": {
        "id": "C67e0FWqdA9e"
      },
      "execution_count": 31,
      "outputs": []
    },
    {
      "cell_type": "code",
      "source": [
        "arr1 = np.array(y_test)\n",
        "arr2 = np.array(y_preds)\n",
        "print(arr1)\n",
        "print(arr2)"
      ],
      "metadata": {
        "colab": {
          "base_uri": "https://localhost:8080/"
        },
        "id": "wmdrt1QBeC6G",
        "outputId": "abc50a3b-bfc3-4f96-98c1-b59e0af80a91"
      },
      "execution_count": 32,
      "outputs": [
        {
          "output_type": "stream",
          "name": "stdout",
          "text": [
            "[1 1 0 0 1 1 1 0 0 1 1 0 1 1 1 1 1 1 0 0 0 0 0 0 1 1 0 0 1 1 1 0 1 0 1 1 0\n",
            " 0 0 1 0 1 0 0 0 0 1 0 0 1 1 1 1 1 1 1 1 0 0 0 0]\n",
            "[1 1 0 0 1 1 1 0 0 1 1 0 1 1 1 1 1 1 0 1 1 0 0 1 1 1 0 1 1 1 1 0 1 1 0 1 1\n",
            " 1 0 0 0 1 0 1 0 0 0 0 1 1 1 1 1 1 1 1 1 0 1 0 0]\n"
          ]
        }
      ]
    },
    {
      "cell_type": "code",
      "source": [
        "model.score(X_test, y_test)"
      ],
      "metadata": {
        "colab": {
          "base_uri": "https://localhost:8080/"
        },
        "id": "tken9fdSiqaj",
        "outputId": "ffd489b7-f33c-4405-ba6c-7fa34b061e51"
      },
      "execution_count": 33,
      "outputs": [
        {
          "output_type": "execute_result",
          "data": {
            "text/plain": [
              "0.7868852459016393"
            ]
          },
          "metadata": {},
          "execution_count": 33
        }
      ]
    },
    {
      "cell_type": "markdown",
      "source": [
        "### MODEL 2: Random Forest Classifier"
      ],
      "metadata": {
        "id": "U4NeMrNDjIRY"
      }
    },
    {
      "cell_type": "code",
      "source": [
        "from sklearn.ensemble import RandomForestClassifier\n",
        "\n",
        "model = RandomForestClassifier(random_state=42, n_estimators=1000, n_jobs=-1)\n",
        "\n",
        "model.fit(X_train, y_train)\n",
        "\n",
        "model.predict(X_test)"
      ],
      "metadata": {
        "colab": {
          "base_uri": "https://localhost:8080/"
        },
        "id": "fwFXlER_jg9O",
        "outputId": "4c985e2e-82e3-4c3c-d7dc-37be9271dee1"
      },
      "execution_count": 55,
      "outputs": [
        {
          "output_type": "execute_result",
          "data": {
            "text/plain": [
              "array([1, 1, 0, 0, 1, 1, 0, 0, 0, 1, 1, 0, 1, 1, 1, 1, 1, 1, 0, 1, 1, 0,\n",
              "       0, 1, 1, 1, 0, 0, 1, 0, 1, 0, 1, 0, 1, 1, 1, 1, 0, 0, 0, 1, 0, 1,\n",
              "       0, 0, 0, 0, 1, 1, 1, 0, 1, 1, 1, 1, 1, 0, 1, 1, 0])"
            ]
          },
          "metadata": {},
          "execution_count": 55
        }
      ]
    },
    {
      "cell_type": "code",
      "source": [
        "model.score(X_test, y_test)"
      ],
      "metadata": {
        "colab": {
          "base_uri": "https://localhost:8080/"
        },
        "id": "DEXO5tKNkapR",
        "outputId": "e714336a-01f7-4baf-ae45-1ec129cf4d83"
      },
      "execution_count": 56,
      "outputs": [
        {
          "output_type": "execute_result",
          "data": {
            "text/plain": [
              "0.7704918032786885"
            ]
          },
          "metadata": {},
          "execution_count": 56
        }
      ]
    },
    {
      "cell_type": "code",
      "source": [
        "from sklearn.metrics import roc_curve\n",
        "\n",
        "fpr, tpr, thresholds = roc_curve(y_test, model.predict(X_test))"
      ],
      "metadata": {
        "id": "ynkrgcnxkfpd"
      },
      "execution_count": 57,
      "outputs": []
    },
    {
      "cell_type": "code",
      "source": [
        "from sklearn.metrics import accuracy_score\n",
        "\n",
        "accuracy_score(y_test, model.predict(X_test))"
      ],
      "metadata": {
        "colab": {
          "base_uri": "https://localhost:8080/"
        },
        "id": "CIZMC6iblTRD",
        "outputId": "c8bf4993-11b8-481d-d1b2-491e6f3d4173"
      },
      "execution_count": 58,
      "outputs": [
        {
          "output_type": "execute_result",
          "data": {
            "text/plain": [
              "0.7704918032786885"
            ]
          },
          "metadata": {},
          "execution_count": 58
        }
      ]
    },
    {
      "cell_type": "code",
      "source": [
        "from sklearn.metrics import confusion_matrix\n",
        "\n",
        "mat = confusion_matrix(y_test, model.predict(X_test))"
      ],
      "metadata": {
        "id": "sJ7MsSi2lmw1"
      },
      "execution_count": 59,
      "outputs": []
    },
    {
      "cell_type": "code",
      "source": [
        "from sklearn.metrics import ConfusionMatrixDisplay\n",
        "\n",
        "disp = ConfusionMatrixDisplay(mat)\n",
        "disp.plot()"
      ],
      "metadata": {
        "colab": {
          "base_uri": "https://localhost:8080/",
          "height": 466
        },
        "id": "peSVHbwClpIt",
        "outputId": "3ac7e1d5-36c1-4538-c70f-f0b69be2e320"
      },
      "execution_count": 60,
      "outputs": [
        {
          "output_type": "execute_result",
          "data": {
            "text/plain": [
              "<sklearn.metrics._plot.confusion_matrix.ConfusionMatrixDisplay at 0x79bb6cf1cfa0>"
            ]
          },
          "metadata": {},
          "execution_count": 60
        },
        {
          "output_type": "display_data",
          "data": {
            "text/plain": [
              "<Figure size 640x480 with 2 Axes>"
            ],
            "image/png": "[encoded data removed]"
          },
          "metadata": {}
        }
      ]
    },
    {
      "cell_type": "code",
      "source": [
        "47/61"
      ],
      "metadata": {
        "colab": {
          "base_uri": "https://localhost:8080/"
        },
        "id": "LZyrteRKlp0A",
        "outputId": "af65d082-7fef-439d-a6a8-031dff6d3160"
      },
      "execution_count": 61,
      "outputs": [
        {
          "output_type": "execute_result",
          "data": {
            "text/plain": [
              "0.7704918032786885"
            ]
          },
          "metadata": {},
          "execution_count": 61
        }
      ]
    },
    {
      "cell_type": "code",
      "source": [
        "from sklearn.metrics import classification_report\n",
        "\n",
        "clf_report = classification_report(y_test, model.predict(X_test))\n",
        "print(clf_report)"
      ],
      "metadata": {
        "colab": {
          "base_uri": "https://localhost:8080/"
        },
        "id": "U3mmhtaxnuAi",
        "outputId": "306500cd-4047-4bcf-8eb2-f54849750cec"
      },
      "execution_count": 62,
      "outputs": [
        {
          "output_type": "stream",
          "name": "stdout",
          "text": [
            "              precision    recall  f1-score   support\n",
            "\n",
            "           0       0.80      0.69      0.74        29\n",
            "           1       0.75      0.84      0.79        32\n",
            "\n",
            "    accuracy                           0.77        61\n",
            "   macro avg       0.78      0.77      0.77        61\n",
            "weighted avg       0.77      0.77      0.77        61\n",
            "\n"
          ]
        }
      ]
    },
    {
      "cell_type": "markdown",
      "source": [
        "### MODEL 3 => Naive Bayes"
      ],
      "metadata": {
        "id": "SfRRnEbpoFGC"
      }
    },
    {
      "cell_type": "code",
      "source": [
        "from sklearn.naive_bayes import GaussianNB\n",
        "\n",
        "gnb = GaussianNB()\n",
        "\n",
        "gnb.fit(X_train, y_train)\n",
        "\n",
        "gnb_preds = gnb.predict(X_test)"
      ],
      "metadata": {
        "id": "KZD3YBOxp0oQ"
      },
      "execution_count": 64,
      "outputs": []
    },
    {
      "cell_type": "code",
      "source": [
        "np.array(gnb_preds) == np.array(y_test)"
      ],
      "metadata": {
        "colab": {
          "base_uri": "https://localhost:8080/"
        },
        "id": "ctzu5-BrqDjG",
        "outputId": "be5df390-8829-43a0-d5b3-6abd82dfe85e"
      },
      "execution_count": 67,
      "outputs": [
        {
          "output_type": "execute_result",
          "data": {
            "text/plain": [
              "array([ True,  True,  True,  True,  True,  True,  True,  True,  True,\n",
              "        True,  True, False,  True,  True,  True,  True,  True,  True,\n",
              "        True, False, False,  True,  True, False,  True,  True,  True,\n",
              "       False,  True,  True,  True,  True,  True,  True,  True,  True,\n",
              "       False,  True,  True,  True,  True,  True,  True, False,  True,\n",
              "        True, False,  True, False,  True,  True, False,  True,  True,\n",
              "        True,  True,  True,  True,  True,  True,  True])"
            ]
          },
          "metadata": {},
          "execution_count": 67
        }
      ]
    },
    {
      "cell_type": "code",
      "source": [
        "X_train.shape"
      ],
      "metadata": {
        "colab": {
          "base_uri": "https://localhost:8080/"
        },
        "id": "pkIT_PZUqOoz",
        "outputId": "0b87fa67-3bbe-47d1-9d70-35122766538e"
      },
      "execution_count": 68,
      "outputs": [
        {
          "output_type": "execute_result",
          "data": {
            "text/plain": [
              "(242, 13)"
            ]
          },
          "metadata": {},
          "execution_count": 68
        }
      ]
    },
    {
      "cell_type": "code",
      "source": [
        "X"
      ],
      "metadata": {
        "colab": {
          "base_uri": "https://localhost:8080/",
          "height": 963
        },
        "id": "_2gBjW1eqhmF",
        "outputId": "87da168e-bb7d-42b5-ab29-1d7eb846eb3e"
      },
      "execution_count": 74,
      "outputs": [
        {
          "output_type": "execute_result",
          "data": {
            "text/plain": [
              "     age  sex  cp  trestbps  chol  fbs  restecg  thalach  exang  oldpeak  \\\n",
              "0     63    1   3       145   233    1        0      150      0      2.3   \n",
              "1     37    1   2       130   250    0        1      187      0      3.5   \n",
              "2     41    0   1       130   204    0        0      172      0      1.4   \n",
              "3     56    1   1       120   236    0        1      178      0      0.8   \n",
              "4     57    0   0       120   354    0        1      163      1      0.6   \n",
              "..   ...  ...  ..       ...   ...  ...      ...      ...    ...      ...   \n",
              "298   57    0   0       140   241    0        1      123      1      0.2   \n",
              "299   45    1   3       110   264    0        1      132      0      1.2   \n",
              "300   68    1   0       144   193    1        1      141      0      3.4   \n",
              "301   57    1   0       130   131    0        1      115      1      1.2   \n",
              "302   57    0   1       130   236    0        0      174      0      0.0   \n",
              "\n",
              "     slope  ca  thal  \n",
              "0        0   0     1  \n",
              "1        0   0     2  \n",
              "2        2   0     2  \n",
              "3        2   0     2  \n",
              "4        2   0     2  \n",
              "..     ...  ..   ...  \n",
              "298      1   0     3  \n",
              "299      1   0     3  \n",
              "300      1   2     3  \n",
              "301      1   1     3  \n",
              "302      1   1     2  \n",
              "\n",
              "[303 rows x 13 columns]"
            ],
            "text/html": [
              "\n",
              "  <div id=\"df-830d278c-75fc-48bd-afe7-e83d9f456e90\" class=\"colab-df-container\">\n",
              "    <div>\n",
              "<style scoped>\n",
              "    .dataframe tbody tr th:only-of-type {\n",
              "        vertical-align: middle;\n",
              "    }\n",
              "\n",
              "    .dataframe tbody tr th {\n",
              "        vertical-align: top;\n",
              "    }\n",
              "\n",
              "    .dataframe thead th {\n",
              "        text-align: right;\n",
              "    }\n",
              "</style>\n",
              "<table border=\"1\" class=\"dataframe\">\n",
              "  <thead>\n",
              "    <tr style=\"text-align: right;\">\n",
              "      <th></th>\n",
              "      <th>age</th>\n",
              "      <th>sex</th>\n",
              "      <th>cp</th>\n",
              "      <th>trestbps</th>\n",
              "      <th>chol</th>\n",
              "      <th>fbs</th>\n",
              "      <th>restecg</th>\n",
              "      <th>thalach</th>\n",
              "      <th>exang</th>\n",
              "      <th>oldpeak</th>\n",
              "      <th>slope</th>\n",
              "      <th>ca</th>\n",
              "      <th>thal</th>\n",
              "    </tr>\n",
              "  </thead>\n",
              "  <tbody>\n",
              "    <tr>\n",
              "      <th>0</th>\n",
              "      <td>63</td>\n",
              "      <td>1</td>\n",
              "      <td>3</td>\n",
              "      <td>145</td>\n",
              "      <td>233</td>\n",
              "      <td>1</td>\n",
              "      <td>0</td>\n",
              "      <td>150</td>\n",
              "      <td>0</td>\n",
              "      <td>2.3</td>\n",
              "      <td>0</td>\n",
              "      <td>0</td>\n",
              "      <td>1</td>\n",
              "    </tr>\n",
              "    <tr>\n",
              "      <th>1</th>\n",
              "      <td>37</td>\n",
              "      <td>1</td>\n",
              "      <td>2</td>\n",
              "      <td>130</td>\n",
              "      <td>250</td>\n",
              "      <td>0</td>\n",
              "      <td>1</td>\n",
              "      <td>187</td>\n",
              "      <td>0</td>\n",
              "      <td>3.5</td>\n",
              "      <td>0</td>\n",
              "      <td>0</td>\n",
              "      <td>2</td>\n",
              "    </tr>\n",
              "    <tr>\n",
              "      <th>2</th>\n",
              "      <td>41</td>\n",
              "      <td>0</td>\n",
              "      <td>1</td>\n",
              "      <td>130</td>\n",
              "      <td>204</td>\n",
              "      <td>0</td>\n",
              "      <td>0</td>\n",
              "      <td>172</td>\n",
              "      <td>0</td>\n",
              "      <td>1.4</td>\n",
              "      <td>2</td>\n",
              "      <td>0</td>\n",
              "      <td>2</td>\n",
              "    </tr>\n",
              "    <tr>\n",
              "      <th>3</th>\n",
              "      <td>56</td>\n",
              "      <td>1</td>\n",
              "      <td>1</td>\n",
              "      <td>120</td>\n",
              "      <td>236</td>\n",
              "      <td>0</td>\n",
              "      <td>1</td>\n",
              "      <td>178</td>\n",
              "      <td>0</td>\n",
              "      <td>0.8</td>\n",
              "      <td>2</td>\n",
              "      <td>0</td>\n",
              "      <td>2</td>\n",
              "    </tr>\n",
              "    <tr>\n",
              "      <th>4</th>\n",
              "      <td>57</td>\n",
              "      <td>0</td>\n",
              "      <td>0</td>\n",
              "      <td>120</td>\n",
              "      <td>354</td>\n",
              "      <td>0</td>\n",
              "      <td>1</td>\n",
              "      <td>163</td>\n",
              "      <td>1</td>\n",
              "      <td>0.6</td>\n",
              "      <td>2</td>\n",
              "      <td>0</td>\n",
              "      <td>2</td>\n",
              "    </tr>\n",
              "    <tr>\n",
              "      <th>...</th>\n",
              "      <td>...</td>\n",
              "      <td>...</td>\n",
              "      <td>...</td>\n",
              "      <td>...</td>\n",
              "      <td>...</td>\n",
              "      <td>...</td>\n",
              "      <td>...</td>\n",
              "      <td>...</td>\n",
              "      <td>...</td>\n",
              "      <td>...</td>\n",
              "      <td>...</td>\n",
              "      <td>...</td>\n",
              "      <td>...</td>\n",
              "    </tr>\n",
              "    <tr>\n",
              "      <th>298</th>\n",
              "      <td>57</td>\n",
              "      <td>0</td>\n",
              "      <td>0</td>\n",
              "      <td>140</td>\n",
              "      <td>241</td>\n",
              "      <td>0</td>\n",
              "      <td>1</td>\n",
              "      <td>123</td>\n",
              "      <td>1</td>\n",
              "      <td>0.2</td>\n",
              "      <td>1</td>\n",
              "      <td>0</td>\n",
              "      <td>3</td>\n",
              "    </tr>\n",
              "    <tr>\n",
              "      <th>299</th>\n",
              "      <td>45</td>\n",
              "      <td>1</td>\n",
              "      <td>3</td>\n",
              "      <td>110</td>\n",
              "      <td>264</td>\n",
              "      <td>0</td>\n",
              "      <td>1</td>\n",
              "      <td>132</td>\n",
              "      <td>0</td>\n",
              "      <td>1.2</td>\n",
              "      <td>1</td>\n",
              "      <td>0</td>\n",
              "      <td>3</td>\n",
              "    </tr>\n",
              "    <tr>\n",
              "      <th>300</th>\n",
              "      <td>68</td>\n",
              "      <td>1</td>\n",
              "      <td>0</td>\n",
              "      <td>144</td>\n",
              "      <td>193</td>\n",
              "      <td>1</td>\n",
              "      <td>1</td>\n",
              "      <td>141</td>\n",
              "      <td>0</td>\n",
              "      <td>3.4</td>\n",
              "      <td>1</td>\n",
              "      <td>2</td>\n",
              "      <td>3</td>\n",
              "    </tr>\n",
              "    <tr>\n",
              "      <th>301</th>\n",
              "      <td>57</td>\n",
              "      <td>1</td>\n",
              "      <td>0</td>\n",
              "      <td>130</td>\n",
              "      <td>131</td>\n",
              "      <td>0</td>\n",
              "      <td>1</td>\n",
              "      <td>115</td>\n",
              "      <td>1</td>\n",
              "      <td>1.2</td>\n",
              "      <td>1</td>\n",
              "      <td>1</td>\n",
              "      <td>3</td>\n",
              "    </tr>\n",
              "    <tr>\n",
              "      <th>302</th>\n",
              "      <td>57</td>\n",
              "      <td>0</td>\n",
              "      <td>1</td>\n",
              "      <td>130</td>\n",
              "      <td>236</td>\n",
              "      <td>0</td>\n",
              "      <td>0</td>\n",
              "      <td>174</td>\n",
              "      <td>0</td>\n",
              "      <td>0.0</td>\n",
              "      <td>1</td>\n",
              "      <td>1</td>\n",
              "      <td>2</td>\n",
              "    </tr>\n",
              "  </tbody>\n",
              "</table>\n",
              "<p>303 rows × 13 columns</p>\n",
              "</div>\n",
              "    <div class=\"colab-df-buttons\">\n",
              "\n",
              "  <div class=\"colab-df-container\">\n",
              "    <button class=\"colab-df-convert\" onclick=\"convertToInteractive('df-830d278c-75fc-48bd-afe7-e83d9f456e90')\"\n",
              "            title=\"Convert this dataframe to an interactive table.\"\n",
              "            style=\"display:none;\">\n",
              "\n",
              "  <svg xmlns=\"http://www.w3.org/2000/svg\" height=\"24px\" viewBox=\"0 -960 960 960\">\n",
              "    <path d=\"M120-120v-720h720v720H120Zm60-500h600v-160H180v160Zm220 220h160v-160H400v160Zm0 220h160v-160H400v160ZM180-400h160v-160H180v160Zm440 0h160v-160H620v160ZM180-180h160v-160H180v160Zm440 0h160v-160H620v160Z\"/>\n",
              "  </svg>\n",
              "    </button>\n",
              "\n",
              "  <style>\n",
              "    .colab-df-container {\n",
              "      display:flex;\n",
              "      gap: 12px;\n",
              "    }\n",
              "\n",
              "    .colab-df-convert {\n",
              "      background-color: #E8F0FE;\n",
              "      border: none;\n",
              "      border-radius: 50%;\n",
              "      cursor: pointer;\n",
              "      display: none;\n",
              "      fill: #1967D2;\n",
              "      height: 32px;\n",
              "      padding: 0 0 0 0;\n",
              "      width: 32px;\n",
              "    }\n",
              "\n",
              "    .colab-df-convert:hover {\n",
              "      background-color: #E2EBFA;\n",
              "      box-shadow: 0px 1px 2px rgba(60, 64, 67, 0.3), 0px 1px 3px 1px rgba(60, 64, 67, 0.15);\n",
              "      fill: #174EA6;\n",
              "    }\n",
              "\n",
              "    .colab-df-buttons div {\n",
              "      margin-bottom: 4px;\n",
              "    }\n",
              "\n",
              "    [theme=dark] .colab-df-convert {\n",
              "      background-color: #3B4455;\n",
              "      fill: #D2E3FC;\n",
              "    }\n",
              "\n",
              "    [theme=dark] .colab-df-convert:hover {\n",
              "      background-color: #434B5C;\n",
              "      box-shadow: 0px 1px 3px 1px rgba(0, 0, 0, 0.15);\n",
              "      filter: drop-shadow(0px 1px 2px rgba(0, 0, 0, 0.3));\n",
              "      fill: #FFFFFF;\n",
              "    }\n",
              "  </style>\n",
              "\n",
              "    <script>\n",
              "      const buttonEl =\n",
              "        document.querySelector('#df-830d278c-75fc-48bd-afe7-e83d9f456e90 button.colab-df-convert');\n",
              "      buttonEl.style.display =\n",
              "        google.colab.kernel.accessAllowed ? 'block' : 'none';\n",
              "\n",
              "      async function convertToInteractive(key) {\n",
              "        const element = document.querySelector('#df-830d278c-75fc-48bd-afe7-e83d9f456e90');\n",
              "        const dataTable =\n",
              "          await google.colab.kernel.invokeFunction('convertToInteractive',\n",
              "                                                    [key], {});\n",
              "        if (!dataTable) return;\n",
              "\n",
              "        const docLinkHtml = 'Like what you see? Visit the ' +\n",
              "          '<a target=\"_blank\" href=https://colab.research.google.com/notebooks/data_table.ipynb>data table notebook</a>'\n",
              "          + ' to learn more about interactive tables.';\n",
              "        element.innerHTML = '';\n",
              "        dataTable['output_type'] = 'display_data';\n",
              "        await google.colab.output.renderOutput(dataTable, element);\n",
              "        const docLink = document.createElement('div');\n",
              "        docLink.innerHTML = docLinkHtml;\n",
              "        element.appendChild(docLink);\n",
              "      }\n",
              "    </script>\n",
              "  </div>\n",
              "\n",
              "\n",
              "<div id=\"df-cbb3d078-f2e9-4395-81f0-5fbeeb57a647\">\n",
              "  <button class=\"colab-df-quickchart\" onclick=\"quickchart('df-cbb3d078-f2e9-4395-81f0-5fbeeb57a647')\"\n",
              "            title=\"Suggest charts.\"\n",
              "            style=\"display:none;\">\n",
              "\n",
              "<svg xmlns=\"http://www.w3.org/2000/svg\" height=\"24px\"viewBox=\"0 0 24 24\"\n",
              "     width=\"24px\">\n",
              "    <g>\n",
              "        <path d=\"M19 3H5c-1.1 0-2 .9-2 2v14c0 1.1.9 2 2 2h14c1.1 0 2-.9 2-2V5c0-1.1-.9-2-2-2zM9 17H7v-7h2v7zm4 0h-2V7h2v10zm4 0h-2v-4h2v4z\"/>\n",
              "    </g>\n",
              "</svg>\n",
              "  </button>\n",
              "\n",
              "<style>\n",
              "  .colab-df-quickchart {\n",
              "    background-color: #E8F0FE;\n",
              "    border: none;\n",
              "    border-radius: 50%;\n",
              "    cursor: pointer;\n",
              "    display: none;\n",
              "    fill: #1967D2;\n",
              "    height: 32px;\n",
              "    padding: 0 0 0 0;\n",
              "    width: 32px;\n",
              "  }\n",
              "\n",
              "  .colab-df-quickchart:hover {\n",
              "    background-color: #E2EBFA;\n",
              "    box-shadow: 0px 1px 2px rgba(60, 64, 67, 0.3), 0px 1px 3px 1px rgba(60, 64, 67, 0.15);\n",
              "    fill: #174EA6;\n",
              "  }\n",
              "\n",
              "  [theme=dark] .colab-df-quickchart {\n",
              "    background-color: #3B4455;\n",
              "    fill: #D2E3FC;\n",
              "  }\n",
              "\n",
              "  [theme=dark] .colab-df-quickchart:hover {\n",
              "    background-color: #434B5C;\n",
              "    box-shadow: 0px 1px 3px 1px rgba(0, 0, 0, 0.15);\n",
              "    filter: drop-shadow(0px 1px 2px rgba(0, 0, 0, 0.3));\n",
              "    fill: #FFFFFF;\n",
              "  }\n",
              "</style>\n",
              "\n",
              "  <script>\n",
              "    async function quickchart(key) {\n",
              "      const charts = await google.colab.kernel.invokeFunction(\n",
              "          'suggestCharts', [key], {});\n",
              "    }\n",
              "    (() => {\n",
              "      let quickchartButtonEl =\n",
              "        document.querySelector('#df-cbb3d078-f2e9-4395-81f0-5fbeeb57a647 button');\n",
              "      quickchartButtonEl.style.display =\n",
              "        google.colab.kernel.accessAllowed ? 'block' : 'none';\n",
              "    })();\n",
              "  </script>\n",
              "</div>\n",
              "    </div>\n",
              "  </div>\n"
            ]
          },
          "metadata": {},
          "execution_count": 74
        },
        {
          "output_type": "display_data",
          "data": {
            "text/plain": [
              "<google.colab._quickchart_helpers.SectionTitle at 0x79bb6ad79ae0>"
            ],
            "text/html": [
              "<h4 class=\"colab-quickchart-section-title\">Values</h4>\n",
              "<style>\n",
              "  .colab-quickchart-section-title {\n",
              "      clear: both;\n",
              "  }\n",
              "</style>"
            ]
          },
          "metadata": {}
        },
        {
          "output_type": "display_data",
          "data": {
            "text/plain": [
              "import numpy as np\n",
              "from google.colab import autoviz\n",
              "\n",
              "def value_plot(df, y, figscale=1):\n",
              "  from matplotlib import pyplot as plt\n",
              "  df[y].plot(kind='line', figsize=(8 * figscale, 4 * figscale), title=y)\n",
              "  plt.gca().spines[['top', 'right']].set_visible(False)\n",
              "  plt.tight_layout()\n",
              "  return autoviz.MplChart.from_current_mpl_state()\n",
              "\n",
              "chart = value_plot(X, *['age'], **{})\n",
              "chart"
            ],
            "text/html": [
              "      <div class=\"colab-quickchart-chart-with-code\" id=\"chart-2a4a99ea-eb3e-4b7b-bdc3-fd66d8cc2228\">\n",
              "        <img src=\"data:image/png;base64,iVBORw0KGgoAAAANSUhEUgAAAMQAAABgCAYAAABCK92TAAAAOXRFWHRTb2Z0d2FyZQBNYXRwbG90\n",
              "bGliIHZlcnNpb24zLjcuMSwgaHR0cHM6Ly9tYXRwbG90bGliLm9yZy/bCgiHAAAACXBIWXMAAA9h\n",
              "AAAPYQGoP6dpAAAYTUlEQVR4nO2deXhTVd7Hv2nSpgvdd9LNFlqEbqwiiBUYEAYGEIdhYKBlGeHV\n",
              "EVCcEXlfHRhhrDMyICoqCi+IziAqfVEHBMpW9rYIWFlKWwrd6EL3LWm28/4RenuS3JsmbdqkzPk8\n",
              "T58n955zb3735nzP+Z3fWSoihBAwGAwAgIOtDWAw7AkmCAaDggmCwaBggmAwKJggGAwKJggGg4IJ\n",
              "gsGgYIJgMCiYIBgMCiYIBoOCCYLBoGCCYDAomCDshG3btiE2NhYeHh4ICgrCwoULUV1dDQBQqVR4\n",
              "5ZVXEBQUBH9/f6xduxZPPPEE1q9fz11fVlaG+fPnQyaTISAgAPPmzcP9+/dt9DR9FyYIOyEoKAhp\n",
              "aWmor69HZmYm8vLysGLFCgBAamoqDhw4gIyMDJSWlkIqlSIzM5O7tq2tDRMnTkT//v2Rl5eHwsJC\n",
              "SCQSzJ8/31aP03chDLskLS2N+Pj4EEIIiYqKItu2bePS1Go1CQgIIOvWrSOEELJ//37Sv39/otVq\n",
              "uTylpaUEACkpKelVu/s6ElsLkqEjLS0NmzZtQkFBARQKBbRaLVpaWqDRaFBWVobw8HAur1gsRmho\n",
              "KHecn5+PyspKeHt7691TKpWiuLgYISEhvfYcfR3mMtkBpaWlmDNnDlasWIHi4mI0Njbi888/BwAQ\n",
              "QiCTyVBUVMTl12q1KC0t5Y6DgoIQHh6O+vp6vT+FQoExY8b0+vP0ZZgg7IDm5mZotVr4+fnB2dkZ\n",
              "+fn5SE1N5dIXLlyILVu2IC8vD0qlEhs3bkRNTQ2XPnv2bKhUKrzxxhtoaGgAAFRVVWHfvn29/ix9\n",
              "HSYIO2DQoEFITU1FcnIy3N3dkZKSggULFnDpa9euxbRp0zBu3DjIZDLI5XIMHToUzs7OAAB3d3dc\n",
              "uHABxcXFiIuLg4eHB8aMGYPTp0/b6pH6LCJC2JrqvoZarUZwcDDee+89zJs3z9bmPFSwFqIP0NTU\n",
              "hO+//x5KpRLNzc1Ys2YNtFotpk6damvTHjqYIPoAWq0WGzZsgJ+fH2QyGbKysnDo0CF4eXnZ2rSH\n",
              "DuYyMRgUrIVgMCiYIBgMCiYIBoPCoqkbNTU1mDhxInfc2tqKwsJCVFVVYfbs2SgqKoKnpycAICUl\n",
              "BS+//LJ1rWUwehiLBOHr64urV69yx5s2bUJGRgZ8fHwAAFu2bMGsWbO6ZMjWrVuxatWqLl3LYFiL\n",
              "brlMO3fuxNKlS61iCD1Xh9GBVktwq6IJGq19BwPlSg2mvHsa67+7bmtTukWXBXH+/HnU1dVh+vTp\n",
              "3LnXXnsNcXFxmDt3LgoLCwWvbWtrQ2Njo96fRqPpqikPNR+eKsDT757G5vRbtjbFJN//dA+5FU3Y\n",
              "ff6urU3pFl0WxM6dO5GcnAyJROd1ff7558jNzUVOTg7GjRunJxRDUlNT4enpqfeXlZXVVVP6PM1t\n",
              "aizZnY39P5YapW06mgcA2Hbydm+bZRFy1cNRoXVJEM3Nzfjqq6+wZMkS7lz7/HyRSIQXX3wRhYWF\n",
              "ejMyadauXYuGhga9v1GjRnXFlIeCT04X4kRuFV75+idbm9JlVBqtrU2wCl0SxL59+5CQkIBBgwYB\n",
              "0E02q6ys5NL379+PwMBA+Pr68l4vlUrh4eGh9ycWi7tiih7bThbgwJWyLl3b3KbGX76/jsvFdd22\n",
              "w1LqW5WCaRIHEfe5UaHC+u+u42pJfS9YZRkqjX33ccylSyvmdu7cieeee447bmtrw7Rp09DW1gYH\n",
              "Bwf4+fnhu+++s5qRplCoNKhrVaKuRYV3juj87FlDZRbfZ9ORW9h9/i52nbuLu29Ps4pthBCU1skR\n",
              "4u0CkUjU+QU8ODuK0dymBgC8c/gWPr9YhN3nrWejpRBC8NyeHyF2AD5eMBwikQirvryCb6/e4/Js\n",
              "z7iN5UlRAIDyBjm8XZ3g7Nj9Cq836JIgzp8/r3fs5uaGS5cuWcUgS5m17RxyK5qwYVYsd06t0UIi\n",
              "tqzxu1HeaFH+qkYFjt6oxK+Hhwj+2C/+6woO/lyOXYtGYvygAMF7mZIKraPMO/wuqLXILKxBbYsS\n",
              "U+OCBfPUtapw7KbOG6hpUcLFUawnBgBI/SEXy5OiUFDVjF9szkCUvxuOv/KUVW0lhODrS6WID/XE\n",
              "oCAPq923z49U51Y0AQCOXq/gzrUozevg0X6vJXMcCSEY9dZxvH7gGv6dU86bp65FiYM/69Ky79YK\n",
              "3kujJfjsgnDIWU49S5NCLZhvw79v4Hc7LqKopqUz8/U4X1CNpbuzUVYvx9xPLuL5f15G4f1mwfxK\n",
              "dcc7a5SrUNGoEMz7/U86ody+34Klu7Nx/rZuWx31g/eu1RIunPzFxSKs+vIKl8ZHeYMcv/8sG+cK\n",
              "qnH4WgVe3Z+DKe+eMf9hzaBPC2Lz0Y5QpIKKchy/WYnzBdVoeeBqZBbWGBXKH4tqEbf+CHac0YWH\n",
              "LZnzSxeCO9X8hadRoeI+u0mFG+L0G5WCaYQQqKnxB1oQe7OKuc91LUrsPHsH5wpqsP+ycR+qokEh\n",
              "2DeavyMTx3OrMPbtE9y5wvvGorpZ3ojyBjmO53bYW9eqRKWAIBQqDbYez+eOj+dWYf6nmShvkGPo\n",
              "hnT8+dtrmPXhOUx//yw0WoLXD1zDt1fvmXwfr36Tg2M3q/C7HZm4aWGLbi59cteNsno5dp+7g0/P\n",
              "3OHO0YVl9Ve6aM1jj/jgjemDMfeTiwCAIy89iZggdwDA3w7fgkKlxcaDN/H7cZHQWqCINlVHLeYi\n",
              "4C4pqDzHb1bi26tleHZYCJYnRUGu1OC9E/mYPDiQ6x+0QwiBSCRC1p1avcIHQM/GtWk/Y96oMJ09\n",
              "VK1dVifnPt8sb8SBK2XYflon+u9eHIv4EK9On69FqW/Tj0W1ePajC0b53jhwHY8G87sr7RWNIZ+e\n",
              "voMmhRp7qFaRttlU+Davson7LO2hPoldtxDf/FiKoW8excv7ruqdX/Gvy3piAHTNtyGZd2pRXNvK\n",
              "HZfWdXz2dHHkPq/+6ir4BoKrmhS8I8S0q0UXxroWJRQqDW7ca8TT73asZ75cXI+8ymak/pCLWw8G\n",
              "rz46dRvPfHgehl0d9QM34jfbL2B7hn6hor830t+N9/z+y6WoaNDV2lO3nuHEAABHKLfSFPeb2vSO\n",
              "PzrFPwZyo7wR+y8bj50AHeMnhjS3Gf9OJdTvInYQ7lG1Uu5jewAFsMzd7Qy7biE0Wi3qWlVGhf1y\n",
              "cb1R3nsN/E13M9Vy0C802NOZ+5x2uQzRgf30rssprceMD84hKdofny3RHyOhRdDuU9e2KDFsQzpC\n",
              "fVygUgv/QHKVRk+kDgbRpza1FluP8RcmOrT5KNWRNBwDOHytHIvGPmJ0fVVjm9E5PiobdRXBFxeL\n",
              "UFrXimM3q8y6zhy+umQsoIKqDrezUaFGSW0rLhbWYPKQIBy5VoEJjwagSaEW7EPJVRq4OlmnKNu1\n",
              "IBwfVJ9Kgx/c1UmsV7hNQfvyrZQrYFgPNcr1X/a/MnU+ekZex/6oWi1BWb0cy/Z0RNTaxZF1R9dH\n",
              "KamVwxRikQj+/Zy4Y8MWqLVNbdT68UG/E7XBPVQagr8fzjW65sj1CjS3qfHfv3wUALBOYN7Rp2fu\n",
              "4PD1ik6fxVrQnfhGuQpPbToFjZbg1f05IAQY0t+Da/X4aFKo/7MEYVgDejg7mi2IJoEWwvD6BqoV\n",
              "ulhYAyeJvi/z0anb+BtPIcu6U4uGVpXZzXabWqPXyaZbCwDIrxKO8NBcvF2Dn0rq0d/LRS/yA+g6\n",
              "6lk8ka1GhRo/XKtAcW0r/N2lOHVLeDPk3hIDoB+kyCmt5yqJ9ld6/Z7pDnSTQoVAD2eTeczFrgXR\n",
              "XijzKpvx+oGfMTTUG0W1rSZDfYbQnVZaBIadN/r4tw864e0QQnjFAOj86IQ3j+KFp6LMskep1uq5\n",
              "XJUGboyh/y5EU5saM7edg5PYAV/91+N6aXxioOmsgPU29Ds4cl04yiTEu8fy8cH8YVaxxb4F8aCF\n",
              "qG1R4ouLxfjiYnEnVxjTJOAyyc1sYQBdzdoZHwp0PA35Z2YxNz4BGAcDqpvNE0Q7So0Wfz14w6Jr\n",
              "7I3uTkUprbNea2ZxlCkiIgIxMTFITExEYmIit11ifn4+xowZg+joaIwcORLXr3d/XryjhaPNfNCd\n",
              "OFMukyneOcLfOnQFWgyAceSnull4XpMQ2Xd7f/6VPbH0CeMAQlfpUguxb98+JCYm6p1bvnw5li1b\n",
              "hkWLFuGbb77BokWLkJ2d3S3jHMVdm/8jxK5zd+Ht6oRYmQcuFJo/DaIrLZO5GHaIqyxwB//TeGao\n",
              "DP9nMHlz0ZgI/Cqhv9W+wyrjEFVVVbh06RK3H+mzzz6LkpISFBQUdOu+jhLrD5NsTs/Dkt22mXdl\n",
              "DnlVTZ1n6gIRvq5Wuc/oSB+4OvX+RL3/XTQCKycONDpvGIHsLl0qccnJyYiLi8PSpUtx//59lJSU\n",
              "IDg4mFssJBKJEBYWhuJi/prV3BVzTlZwmfoaN8t1gnA3Md1DiBHh3oJpId7Ggmgf6aYZ0t/0RDkv\n",
              "FyesmTLIZB43MwXzp6djeM9LeSpCVyeJUeQPgFGErbtYXOJOnz6NnJwcXL58GX5+fkhJSbH4S81d\n",
              "Mcf3Ah522kOOMm8Xi6+ViEUYLiCKEJ77+btLjc59/+ITJr9DJDLu2w0O9sCkwYHcsQ81ziLElCFB\n",
              "SBCYRvKIn5vROTcnCW8Fae2FSRaXuLAwXa3i6OiIl156CWfOnEFoaCjKy8uhVuuiMYQQFBcXc3kN\n",
              "MXfFnDU61QAg87K8cPERH+JplfvwQU/FAIAIX+NC0RmOYgd4u/IXxgieQubj6mh0zsFBhBkmfHI3\n",
              "qcSobxcn88SnySO4Y9oGIfdKJALiBN4n35iCq1Rsfy1ES0sL6uvrueO9e/di6NChCAgIwLBhw/DF\n",
              "F18A0K2YCwkJwYABA3jvY+6KOaFOdbivK/4xJwELRvMLrqfw62dcowKAs2P3hWso2gEB/QRyCuMo\n",
              "dsCfpw/GQJ5r+QTmI/A8W+Ym4uBK45YiJtAdf5wcY1Qwox9MmOTu6+aEqbFBeHpIIMJ8+PsuhOjm\n",
              "k116/RdGaUE8gnASO/C6UjZtISorKzF+/HjEx8cjLi4OGRkZ2LNnDwBg+/bt2L59O6Kjo/H2229j\n",
              "165d3TZOqA+R8afxeHZ4CEQml9Z0MP8x6wjHT8AVMGfxi9Cs2HbCDTq9UQFdaSFECPN1RfrqJKM0\n",
              "PvcoUcBlETuIeN2WIy8/iSBPZ72We8qQICQ/Hq6XTwTgowXDsX3hCMGp7wQ619CvnxTeD1qqaXHB\n",
              "+J9fPoowngCAj5sTb3los3ILYVHPLTIyEleuXOFNi4mJwYULxlOEu0NnLhPfqkyJg0gvlLlmyiD8\n",
              "ftwjGBzsgcW7O8LAoyN9cPt+i9kjwwDgxeOOnHttAoI8nBEd2A95lfzTLiYPDjQ5TQIAwn30C2B/\n",
              "T8vdPFPvy5+nNQj1ccG/VzyBD04U4LDBeIipgAb9PX/+1WCT30u7TPRvQ890SV+dhLyKJjwe5QuR\n",
              "SITN6fqTG1dPijYS1oRBATibX43Xppru4FuKfY9UU01kUrQ/XBzFSIrx587p5vbrrzajRSKVOOC/\n",
              "kiIhEomMlnD+4zeJaFKokHooF5eL60yuRmunpc04T7urc2jlOBy9UYkX/nlZL33/849jWJg3t5yU\n",
              "vq6svmOENdTHBSJRR0HxNaNjaoipghnm64pFYyL09k0SiUSIlXni73PiodZqMSOxYy264RLcJ6P9\n",
              "qbSOl8zn19Prx8cN9MOZfN1KuetvPo2Y1w8DAOjRF79+UvgN6BBsm1o/4hhDuWSrJ0XjXr0cqbPj\n",
              "oNRoIZVYNwRs12Ec+gd2k4rx8cLheqHC2UNl2DgrFs9QmwrQs0c3zooVXNwv83LBoCAPfLZklGC4\n",
              "8p1fx3Ofp8UFG81MpcOGErEDpsYGYTIVbQGAmCAPiEQivDU7Tu+8YWfTw8UR4ZS/7e3qxN1/xYQB\n",
              "+HLZaADAqAgfXlsB4T7Xt38YCwBYP2MIbyzfw9kRO1JGCnam40M8sXVuIndMfwufCOn0JWMfwV9m\n",
              "DMGx1Ul6hdfUXMhfxevbQeddOXEg3n42HiKRyOpiAOy8haB/YE8X4xrTwUGEBaPD8bvHwrgRzLgQ\n",
              "L4wI98a5gmpMixdeLE9Dv9gAdymqHrhR9CKiyUMCkRjqhQuFNVg0JgJPRvsj0sDPFolE+CR5BO5W\n",
              "t8BVqrtnvwdNvaeLI7xcHVHfqpu7tGVuIqa/f5a71s1JgnUzhmDV3isYFu4NHzcn/GH8AEyPD4bM\n",
              "ywUSsQNO/fEpuErFGPXX47zPQdfq7c/xaLAHEkK9uPOLx0TgYM49TI83f3R38dgIeLt1vH+6LPN1\n",
              "dOk6SCJ2QMqYCJ67CisiVuaJM6+Ox7i/nwSg6z/0FnYtCLp2F4pWtOc7tjoJu87dwQvjBwiGWScP\n",
              "DsTRG5VGnWwpFSXakTICMz44B0BfEFKJA8J93ZDxp/Gd2s0X4gTAiQHQ/ejPPxXFrUZzk4qREBqA\n",
              "nPVP610TTkWHIvzcjMKM4b6uKKrRTSGnF5t9uWw0dp69g+cNZuF6uzlZvAPGkP4G4VGqLPO7aZ0H\n",
              "OzqbLR/q44qtv03E7apmjIwQHnC0NnYtCJrOwpADAvrhr8/EmcyzZW4izhVU6/nDgH4HknaL6E60\n",
              "NQYJXRzFkKs0XPi2PyVccxe4OEkccHDlE5j2nq518e8nRT+pBNfvNWJYWEfBifTv/H10xqk/PoWK\n",
              "RgWiA90F85ha8slH8uPh2HOhCKt+Yey6GTKT6tP0FnYviFUTB6KwugUTTOxrZC5uUgkmDwkyOk+3\n",
              "EPRCfnfnjtfjZIWdBXcvHonN6Xn4y8whAIBAKhRqamcOQ+gaW6nR4ts/jEW9XCU4TtJVIvzceFs7\n",
              "YsLdAfijf+28OTMWa6c+ChcbzIcyB7sXxMuTonv8O9yo2jnKv6Mlov1jiRVm3j4W6Yt9yzsW8/hS\n",
              "BdjSCXMTBgXgRG4VUh6PgETsYHUxmCLW0IV6QEKIJ34qbcBvRoSavN5exQD0AUH0BsuejMTBn8sx\n",
              "K1EGL1cnnF0zHi6OYr2tTqw7EV1HQognhoV5wcdNavE0lY8WDMOd6hbEmHBneooAD2eceXW8XgsK\n",
              "APuWP46S2lYMtIFN1oIJArqa+uyaCdxx+8xQugPb1b1ZTSEROyDthbFdulYqEVt1C0dLCeUJcjg7\n",
              "ivu0GAA7H4ewNXTYl/077/8MmCBMQLcKfjxzgRgPH8xl6oQdySNQ3dym19lmPLyIiJ34ArNnz0ZE\n",
              "RITReY1Gg6ysLIwaNcoq/1SlN2A29w6d2RweHm7xf7a1G0EI0djYCE9PTzQ0NMDDw3adSEtgNvcO\n",
              "PWEz60MwGBRMEAwGBRMEg0Fh94KQSqVYt24dpNK+E/ZkNvcOPWGz3XeqGYzexO5bCAajN2GCYDAo\n",
              "mCAYDAq7FkRPbLHfXVauXImIiAiIRCJcvXqVO2/KVls/h0KhwKxZsxAdHY2EhARMmjSJ24i6qqoK\n",
              "U6ZMwcCBAxEbG4vTpzv+WaSptN5g8uTJiI+PR2JiIsaNG8dtgdSj75rYMePHjye7du0ihBDy9ddf\n",
              "kxEjRtjWIEJIRkYGKSkpIeHh4eTKlSvceVO22vo55HI5OXjwINFqtYQQQt5//32SlJRECCFk8eLF\n",
              "ZN26dYQQQrKysohMJiNKpbLTtN6grq6O+5yWlkbi4+MJIT37ru1WEJWVlcTd3Z2oVCpCCCFarZYE\n",
              "BgaS/Px8G1umgxaEKVvt8Tmys7NJeHg4IYQQNzc3Ul5ezqWNHDmSpKend5rW2+zatYskJCT0+Lu2\n",
              "29muprbYF9oz1laYstXT09PunmPr1q2YOXMmampqoFKpEBTUsc48IiICxcXFJtN6k+TkZJw8qduO\n",
              "5tChQz3+ru26D8GwPm+99RYKCgqQmppqa1PMYs+ePSgpKcHGjRuxZs2aHv8+uxWEpVvs2xJTttrT\n",
              "c2zatAlpaWn44Ycf4OrqCl9fX0gkElRUdOzrevfuXYSFhZlMswUpKSk4efIkQkJCevRd260gLN1i\n",
              "35aYstVenmPz5s3Yu3cv0tPT4eXlxZ2fM2cOPv74YwBAdnY2ysrKkJSU1GlaT1NfX4979+5xxwcO\n",
              "HICvr2/Pv2trd36sSW5uLhk9ejQZOHAgGT58OMnJybG1SWTZsmVEJpMRsVhMAgICSFRUFCHEtK22\n",
              "fo6SkhICgERGRpKEhASSkJBARo0aRQghpKKigkyaNIkMGDCADB48mJw4cYK7zlRaT3P37l0ycuRI\n",
              "EhsbS+Lj48nEiRO5IEZPvms2l4nBoLBbl4nBsAVMEAwGBRMEg0HBBMFgUDBBMBgUTBAMBgUTBINB\n",
              "wQTBYFAwQTAYFEwQDAYFEwSDQfH/Be1rbHn+gUUAAAAASUVORK5CYII=\n",
              "\">\n",
              "        \n",
              "      </div>\n",
              "      <script></script>\n",
              "      <script type=\"text/javascript\">\n",
              "        (() => {\n",
              "          const chartElement = document.getElementById(\"chart-2a4a99ea-eb3e-4b7b-bdc3-fd66d8cc2228\");\n",
              "          async function getCodeForChartHandler(event) {\n",
              "            const chartCodeResponse =  await google.colab.kernel.invokeFunction(\n",
              "                'getCodeForChart', [\"chart-2a4a99ea-eb3e-4b7b-bdc3-fd66d8cc2228\"], {});\n",
              "            const responseJson = chartCodeResponse.data['application/json'];\n",
              "            await google.colab.notebook.addCell(responseJson.code, 'code');\n",
              "          }\n",
              "          chartElement.onclick = getCodeForChartHandler;\n",
              "        })();\n",
              "      </script>\n",
              "      <style>\n",
              "        .colab-quickchart-chart-with-code  {\n",
              "            display: block;\n",
              "            float: left;\n",
              "            border: 1px solid transparent;\n",
              "        }\n",
              "\n",
              "        .colab-quickchart-chart-with-code:hover {\n",
              "            cursor: pointer;\n",
              "            border: 1px solid #aaa;\n",
              "        }\n",
              "      </style>"
            ]
          },
          "metadata": {}
        },
        {
          "output_type": "display_data",
          "data": {
            "text/plain": [
              "import numpy as np\n",
              "from google.colab import autoviz\n",
              "\n",
              "def value_plot(df, y, figscale=1):\n",
              "  from matplotlib import pyplot as plt\n",
              "  df[y].plot(kind='line', figsize=(8 * figscale, 4 * figscale), title=y)\n",
              "  plt.gca().spines[['top', 'right']].set_visible(False)\n",
              "  plt.tight_layout()\n",
              "  return autoviz.MplChart.from_current_mpl_state()\n",
              "\n",
              "chart = value_plot(X, *['sex'], **{})\n",
              "chart"
            ],
            "text/html": [
              "      <div class=\"colab-quickchart-chart-with-code\" id=\"chart-62f1be42-cd36-4ae8-9e5f-db82a1191b60\">\n",
              "        <img src=\"data:image/png;base64,iVBORw0KGgoAAAANSUhEUgAAALkAAABgCAYAAABBnNO7AAAAOXRFWHRTb2Z0d2FyZQBNYXRwbG90\n",
              "bGliIHZlcnNpb24zLjcuMSwgaHR0cHM6Ly9tYXRwbG90bGliLm9yZy/bCgiHAAAACXBIWXMAAA9h\n",
              "AAAPYQGoP6dpAAAOnUlEQVR4nO2da2wU1xXH//vymsVvA7azi3f9wLyM7WDsgnkYRHlWDTQhVEoI\n",
              "Ma0KcqNAihAWlSKCFIEaoaiIfACpjROS1pAECoowqVABB1LES0YmCQ+7xvECNpv4hcGP3fWefiBe\n",
              "z6531jvrGc94uD/J0vjO3Dvn3vnvmXPP3J3VEBGBwVAxWrkNYDCkhomcoXqYyBmqh4mcoXqYyBmq\n",
              "h4mcoXqYyBmqh4mcoXqYyBmqh4mcoXqYyBmqh4mcoXqYyEeIDz74ABkZGYiOjkZSUhJKSkoAAO3t\n",
              "7SgtLYXVakViYiJWrlyJ+vp6AMDNmzcRExODEydOeNspLS3FrFmz0NvbK0c3RifEkJw7d+7QmDFj\n",
              "6MaNG0RE1NnZSVVVVeTxeGjhwoX0yiuvUEtLC/X09ND27dtp6tSp5HQ6iYjos88+o9jYWKqtraVD\n",
              "hw5RQkIC3b17V8bejD6YyEeA+vp6ioyMpMOHD1NHR4e3/Nq1a2QwGKizs9Nb5na7KTIyks6fP+8t\n",
              "27p1K02ePJmioqKosrJyRG1XAyxcGQHS0tJw+PBhlJeXIzU1FQUFBaioqEBtbS3cbjcsFgvi4uIQ\n",
              "FxeHxMREAIDdbvfW37JlC+rq6jBjxgysWLFCrm6MXuT+lD1ruFwuOnLkCGk0Gjp37hwZjUZvaBII\n",
              "p9NJRUVFtHbtWkpJSaH9+/ePoLXqgHnyEeD27duorKzE48ePodfrERsbCwCwWCzIzs5GaWkpHA4H\n",
              "AKCtrQ1Hjx5FV1cXAGDbtm3o7u7Gxx9/jCNHjqCsrAyXLl2SrS+jErk/Zc8CNTU1VFRURDExMRQd\n",
              "HU3Tp0+nTz75hIiIWltb6c033ySbzUZRUVE0ceJEevXVV6mrq4sqKiooISGB6uvrvW3t3buXLBYL\n",
              "ORwOuboz6tAQse94MtQNC1cYqoeJnKF6mMgZqoeJnKF6mMgZqkeQyDdv3gybzQaNRoPr169LZBKD\n",
              "IS6CRL5mzRpcuHABVqtVKnsYDNERJPIFCxbAYrGEfbJ9+/aFXZfBCBe9VA339vYOWvPcv06ayx//\n",
              "cQ2VN5oDtpE3MQ7LpifjL1/dGvJ8czMT8U1dCwBAp9VgSnI0nvS60dDS5S3r8xD0Wg3cHt/nXxoN\n",
              "QDRwTD9jDDp0u/oC1ulnXuY4ZJtjcaDqf96ywrQE3G/rRunCDHx44S5WzkjBtOdisP2LGkxNicbd\n",
              "n7rw0+OnY1NoS8DlhlYYdBq4+p6eI9scg5tNnV5buHbptBqf8+s0Gjj7PN5yvuO4/dJqAJ7uQKsB\n",
              "NBrNoPL++oHq+o8btzxQG/62+mPQafDGoky89cuswEYKJKwnnjabDcePH0deXh7vMe+88w527drl\n",
              "UzZ79mxcvHjRp2z+e2dgb+0WasKoo8AWjysNbXKbMWqYkhyNr95aIEpbknnyHTt2YOvWrT5lb7/9\n",
              "9qDjdr0wHb/76KpUZggiNcGExtYuSdp2uj2itPP+2lzMzRwHAPjwm7s4WPX07jg+2ohfzUjBR/9t\n",
              "AACULZ+CF2eaAQCVN5qw68vvQz7HpT8v9vm/9YkTK/adF2yrLdGEI5vmAABe+/sl3Hn4GABw4o25\n",
              "SI6NxC92/4e3Lp+XDwfJRG40GmE0Gn3KdDrdoOMSxhoHlcmFKWKwfUpjXJQRSTGRAIDYMQZveYRO\n",
              "i5jIgcsZbzJ4j0sYGyHoHP31uG2Hg0Gn9bZl1A+MbXJs5KBz+NMn4pIqQdZv2rQJFosF9+7dw7Jl\n",
              "y5CZmTlsA3QB4j+5MIR5MUcSbpzLHTudVgMtZ5/P9jDHWKsNrz73tELt8cjlyQ8ePCjaifvxn5zI\n",
              "iZJs4UPrJ2zuto/oeY4Lh3Drc50xt4VQ2pPNk0uBkoSlJFv40PF4RH9PzndcWOcU+W4bSnt9faoS\n",
              "udwWDDDaRK7X+XpuPY/I9TJ5ct72dM+YJx+ulxETJc0P+ODz0FqtZlD4Emh7uOcMF+7QhuTJxUlG\n",
              "AVCAyPVa2U3wMio8OW9M7id6vw/AcBBjWLiOOZRL7lGVJ5fdggGGK4aRgDtevoLX8nvyYd6hAj0B\n",
              "HQ6h2OMW0ZXLLjElec/hxq4jAffO5ytk/jhcSWMMhGaPiBlEJnIuSpof8MGdqA9KIfLkyZUwxtyh\n",
              "DeXOIOYTT/lFriBhKSnTwwdfrB08Tz4ytgVDaIitLpErwMv0I+UkWOgl0/OEHlwb/UMS/uyKtJdZ\n",
              "ijBPXSlEBYlcSltcAh9uROi1Abe5evXPpkg18RwKvuUQviGKsDZV5cmVNNkL4RlF2LgEZgu4wuFu\n",
              "B8uF+4YvA21JncHiuxsP1xmLtX5FdpErabInpScXutSWV+Q8sbbeLybnW+MiBaE0H47g+b6oIhTZ\n",
              "Ra6smFw5Ijfq+WPvgW1OGOMXrvDF7lKgl2hmK9YDIflFriBPLuUHTmi4wo3DfR6JB1lq65tCHKgj\n",
              "9d0ylPbDMUGsuFx2kStq4imhGJyCY/LAtmh5hPxU5L7/B9qWAqnuFGJlWGQXuZKQUgzDicm5BFsz\n",
              "ruXZJ7UnD6X5cPQq1nJbJnIOkop8GOEKVyDBl9oGzsLopUwbYfhZFD6YJ5cAKecHQq8X93uVfDG5\n",
              "/9NP//DFu60ATx6OCapJISoJJWV6QgpX/J6K8oUoSpr3CIF5cglQkhj4bOH7QnDQL00oIIMVVp6c\n",
              "xeTio6Snr1xb+ATiH5PzLrUdpTG5avLkSkJRT185tvCZFTxPPvpjctXkyZWEkmJybkjOZ5X/UlsN\n",
              "Agtb6n5J1Trz5BKgLJFzwhW+Y4IIOdjLfMTuZihSfKbXrigJZYk8cJ7c9xh+IfOtR3/6v7iXXbI8\n",
              "ORO5+CghC9EPd67IG5MHETJffP70/+Hbx0W6PLnwOoEQ3N3a2loUFRUhKysLBQUF+O6778SxRAEo\n",
              "NYXIZ1VQIQdRldgfZqlGzS2SygWLfNOmTdi4cSPu3LmDsrIylJSUiGKIEpA40yYIrhD5btp8a1WA\n",
              "4KGX2B9mqWJyWSaeDocDV69exbp16wAAL730Eux2O+rq6kQxRm50SvjG78+Est6EG6L4O+dgOlZS\n",
              "qjQYYr16RdBVtdvtSElJgV7/9GW4Go0GqampaGxsHHRsb28vHj165PPX19cnjtVDEGiZarzJEOBI\n",
              "X6KMOiTFBH9ferRRsle6+zA2YuA8CyePD3iM0TBw+UwROsSPHehjsNc+zElP5N037+cX/Pvjf2cY\n",
              "FzXwznM++/Kt8d7tmanxg/ZPTYnhtQMQb+Ip2RXbs2dPwJ9TCcTxN+biva9uwen24LU5VpjjxuD0\n",
              "9w9BANq7nGjq6EHZ8imINOhwvPo+Wp704lG3G2XLp+DLmgeouv0jMiZEYVxUBCINOryQ+xwOXWzw\n",
              "tp+aYEJBWgKOXLFjVZ4ZdY7H+OelHzDWqEfZ8im4cb8DD9q7sXRaMmZZE7Dn1E1E6nUwx49Bj6sP\n",
              "v0hLxKlvm/Gk140dK6eg5YkT//62GT89duJJrxumCB0e9biRlRQFnVaD9i4Xbjd3IjMpCvbWLoyP\n",
              "NiLSoEOCKQKdPS6Y48cgzhSBL67eQ0pcJDq6Xfh1znO419aNqz+0IispGhvmpWHJtCTcuN+B389L\n",
              "Q8b4KGSbY33GzRShx19/m4fbDzuxJt+COFME3luT4/Ny/n7KNxTgUn0rTBE6rJ9jxYszzfjb+bso\n",
              "TEtAtjkG1fZ2mAx6rJudGvAanf7TApysacLq5834V/V9/OZ5MxydPbja0IY/zE9HxvgonLv9I55P\n",
              "jYPbQzAZdCiZa/PW37YsC/EmA5ZnJ3vLPtpQgIrLjeh29iHfGo8ztxzo8xBMETq4PYQJQzicUBH0\n",
              "m0EOhwOZmZlobW2FXq8HESElJQUXLlwY9EL+QD+MtX79eqSnp/uU9fX14fLlyygsLAz4SxRKg9kr\n",
              "LaHYa7VasWXLltAbJYEUFxdTeXk5ERF9/vnnlJ+fL7QJHzo6OggAdXR0DKudkYLZKy1S2Cs4XDl4\n",
              "8CBKSkqwe/duxMTEoLy8XGgTDMaIIljkkydPHvQzhQyGklFOzozBkAjZRW40GrFz585BP4eoVJi9\n",
              "0iKFvWH9IjODMZqQ3ZMzGFLDRM5QPUzkDNUju8iVtnR38+bNsNls0Gg0uH79urc8mJ1y9qGnpwer\n",
              "V69GVlYWcnNzsWTJEu+COYfDgeXLl2PSpEnIzs7G119/7a0XbJ/ULF26FDk5OcjLy8P8+fNRXV0N\n",
              "QMIxFu2xUpgsWrTI5wnqrFmzZLWnqqqK7HY7Wa1Wqq6u9pYHs1POPnR3d9PJkyfJ4/EQEdH+/fup\n",
              "uLiYiIg2bNhAO3fuJCKiy5cvk9lsJqfTOeQ+qWlra/NuHzt2jHJycohIujGWVeQPHz6k6Ohocrlc\n",
              "RETk8XgoKSmJamtr5TSLiMhH5MHsVFofrly5QlarlYiIxo4dS01NTd59BQUFdPr06SH3jSTl5eWU\n",
              "m5sr6RiPzLpRHoIt3fVf8CUnweyMjY1VVB/27duHVatWoaWlBS6XC8nJA6v+bDYbGhsbg+4bKdav\n",
              "X4+zZ88CACorKyUdY9ljcoZ47N69G3V1ddizZ4/cpgzJoUOHYLfb8e6776KsrEzSc8kq8okTJ6Kp\n",
              "qQlutxsAQERobGxEamrgNc1yEcxOpfRh7969OHbsGE6dOgWTyYTExETo9Xo0Nzd7j2loaEBqamrQ\n",
              "fSPN66+/jrNnz8JisUg2xrKKfMKECZg5cyY+/fRTAMDRo0dhsVgUFaoAwe1UQh/ef/99VFRU4PTp\n",
              "04iLi/OWv/zyyzhw4AAA4MqVK7h//z6Ki4uH3Ccl7e3tePDggff/48ePIzExUdoxlmIyIYRbt27R\n",
              "7NmzadKkSZSfn081NTWy2rNx40Yym82k0+lowoQJlJGRMaSdcvbBbrcTAEpPT6fc3FzKzc2lwsJC\n",
              "IiJqbm6mJUuWUGZmJk2bNo3OnDnjrRdsn5Q0NDRQQUEBZWdnU05ODi1evNg7wZdqjNnaFYbqYRNP\n",
              "huphImeoHiZyhuphImeoHiZyhuphImeoHiZyhuphImeoHiZyhuphImeoHiZyhur5PxLXsW07LqB0\n",
              "AAAAAElFTkSuQmCC\n",
              "\">\n",
              "        \n",
              "      </div>\n",
              "      <script></script>\n",
              "      <script type=\"text/javascript\">\n",
              "        (() => {\n",
              "          const chartElement = document.getElementById(\"chart-62f1be42-cd36-4ae8-9e5f-db82a1191b60\");\n",
              "          async function getCodeForChartHandler(event) {\n",
              "            const chartCodeResponse =  await google.colab.kernel.invokeFunction(\n",
              "                'getCodeForChart', [\"chart-62f1be42-cd36-4ae8-9e5f-db82a1191b60\"], {});\n",
              "            const responseJson = chartCodeResponse.data['application/json'];\n",
              "            await google.colab.notebook.addCell(responseJson.code, 'code');\n",
              "          }\n",
              "          chartElement.onclick = getCodeForChartHandler;\n",
              "        })();\n",
              "      </script>\n",
              "      <style>\n",
              "        .colab-quickchart-chart-with-code  {\n",
              "            display: block;\n",
              "            float: left;\n",
              "            border: 1px solid transparent;\n",
              "        }\n",
              "\n",
              "        .colab-quickchart-chart-with-code:hover {\n",
              "            cursor: pointer;\n",
              "            border: 1px solid #aaa;\n",
              "        }\n",
              "      </style>"
            ]
          },
          "metadata": {}
        },
        {
          "output_type": "display_data",
          "data": {
            "text/plain": [
              "import numpy as np\n",
              "from google.colab import autoviz\n",
              "\n",
              "def value_plot(df, y, figscale=1):\n",
              "  from matplotlib import pyplot as plt\n",
              "  df[y].plot(kind='line', figsize=(8 * figscale, 4 * figscale), title=y)\n",
              "  plt.gca().spines[['top', 'right']].set_visible(False)\n",
              "  plt.tight_layout()\n",
              "  return autoviz.MplChart.from_current_mpl_state()\n",
              "\n",
              "chart = value_plot(X, *['cp'], **{})\n",
              "chart"
            ],
            "text/html": [
              "      <div class=\"colab-quickchart-chart-with-code\" id=\"chart-b2f2a6a7-6731-4652-bc0c-be066f2ddef0\">\n",
              "        <img src=\"data:image/png;base64,iVBORw0KGgoAAAANSUhEUgAAAM4AAABgCAYAAABVCU1aAAAAOXRFWHRTb2Z0d2FyZQBNYXRwbG90\n",
              "bGliIHZlcnNpb24zLjcuMSwgaHR0cHM6Ly9tYXRwbG90bGliLm9yZy/bCgiHAAAACXBIWXMAAA9h\n",
              "AAAPYQGoP6dpAAAWb0lEQVR4nO2deXRUVZ7Hv6/WLIRsJiQQkhBCQAyExUQENdJOVHQUDrZnjj2K\n",
              "gmyjc3RsZqQVlIPHJhxBRlxa0XaCik23QNyORGUJSLQ1gSRsCiGBkMpGYZYKSVVqvfNHUpV6VW+p\n",
              "96jUgvdzTk5S99533++9ut/3u8vvvjCEEAIKhSIJRbANoFDCESocCkUGVDgUigyocCgUGVDhUCgy\n",
              "oMKhUGRAhUOhyIAKh0KRARUOhSIDKhwKRQZUOBSKDKhwKBQZUOGEKSaTCWvXrkVOTg5iYmKQlZWF\n",
              "Dz74ANu3b0daWhq2bt2KtLQ0JCYmYsmSJejt7Q22ydcUVDhhyrJly/Dtt9/i888/R09PDyoqKjBl\n",
              "yhQAQHt7O2pra3H27FmcOHECJ0+exDPPPBNki68xCCXsuHz5MgFAqqqqvPJKSkqIQqEg3d3drrS9\n",
              "e/cStVpNbDZbIM28pqEeJwy5cOECAGDixImc+fHx8YiNjXV9HjduHKxWKy5duhQQ+34LUOGEIZmZ\n",
              "mQCAuro6zvyuri4YDAbX58bGRqjVaowaNSoQ5v0moMIJQ5KSkvDQQw/hySefxNmzZwEAbW1tqK6u\n",
              "BgAwDINVq1ahr68Pra2tWLduHR555BEolcpgmn1NQYUTprz33nsoLCzEvHnzMGLECMyZMwenT58G\n",
              "AKSkpGDKlCnIyclBbm4urr/+erz22mvBNfgagyGEvnPgWmL79u1Yu3Ytmpubg23KNQ31OBSKDKhw\n",
              "KBQZ0K4ahSID6nEoFBlQ4VAoMqDCoVBkQIVDocggJIWzdetW3jxCCOwOOp9BCS4hKZyLFy9ypr/7\n",
              "XQOy15Th+dKTrPQ2gwlzNh5E5p++cv3sPdmG+W99j1WfHHeV+7m1B7OLD2DXUZ2oDXYHwe/f/gFL\n",
              "tlehaMth/PmrnwXLtxlMuO2VcrxzuIEzX9/TjzkbD+L2TeUoP6vH7OID2HuyzZV/+YoZt28qx+sH\n",
              "zona5o7F5sD9b1bgv3cdx1vl9bjtlXLoe/ol1eFP/nKoHoWbBmxY9clxzH/re1jtDp+O/XtlE+Zs\n",
              "PIjDdZdx6ysH8dcj51n5nxzVYc7GgzjbfsXr2K9PtWF28QEcu9jJSq9u6sLs4gMoc7vX/iAkhcOH\n",
              "UqGA3UFgtNpZ6dUXu9HSbWKlPfFxNY7rurGnemgF/dk9x9Fq6Mf/7D4heq6fW3tw9GIXDp7R45y+\n",
              "F+8duSBYfvM3dWjqNGJj2RnO/GMXu9DSbUJjhxGLS6rQaujHEx9Xu/L/cqgejR1GbNnHHbjJx4/n\n",
              "O3Ci2YDdx5qx6ZuzaOo04jWJ4vMnr3x9Fhc7jHj94DnsqW7GcV03/tnQ4dOxfyo9iZZuEx79v0ro\n",
              "Ok14+atfWPnP7j6Blm4Tnt193OvYlTuq0Wrox5LtR1npyz44ilZDP/7D7V77g7ASTpRmIEjRZGEL\n",
              "x9cnmtHjOCEcEpe3es1WwXyTVfjcntfkK1zdVqPZJqsuf2KzD9nVL3LtUjHb+L9vz/vs73M7kSSc\n",
              "/v5+LFiwADk5OcjLy0NRURHq6+u9yjU2NkKpVGLatGmun4YG7i6MFCLVg8KxshuGmHACscZrEfgy\n",
              "AXHRWu3+s9Hi44MkUATSnkCt56ukHrB8+XLMmzcPDMPgzTffxNKlS3Ho0CGvcjExMaitrfWDiUNE\n",
              "8ngcm8hkgc1BoFYyfrXFE7HGIfbk89VrekLgfe1iIg4E7u03kPYEKg5GkseJiIjAPffcA4YZaISz\n",
              "Zs1CY2PjcNjFidPjeD69bSKNzubHpzkfV+txbA55javf6n2cUFcmULh3dQMpHKldbLlI9jjubN26\n",
              "FfPnz+fM6+vrQ35+Pux2OxYsWIA1a9ZwbqQym80wm82sNLudu5E5xzieT2+LiDAsdgciMbybuMQa\n",
              "h9gYR25XjWtsFAoex33sFciuWqBWKmRPDmzYsAH19fUoLi72yktNTUVLSwuqqqqwf/9+HDlyBK++\n",
              "+ipnPcXFxYiNjWX9VFZWcpaNkO1x/PPFCfWfxZ7yYoN/uTZ6zjACoTHGsQfJ4wQKWcLZvHkzSktL\n",
              "UVZWhqioKK98rVaL5ORkAEBCQgKWLFmCI0eOcNb13HPPwWAwsH4KCgo4y7pm1azSxzhS4TpCqB6x\n",
              "xioqHJmPyv4Q9Tju1xMKXUd/I7mrtmXLFuzcuRP79+9HXFwcZxm9Xo/4+Hio1WqYzWaUlpZi+vTp\n",
              "nGW1Wi20Wi0rjW9vPN/kgNjAmivf7iBQKvgnDLj6yjY7gZqnxyenq8a4nV5uY+caO4WCcBwO6nFc\n",
              "NDc3Y9WqVeju7sbcuXMxbdo03HTTTQCAF198Ee+88w4AoKKiAtOnT0deXh5mzJiBlJQUrFmz5qqN\n",
              "jVIP6NzmICwxiAvHWwRiYw6u9RGrwABezuSARjl0++V6HK7rCIWumi1IY5xAIcnjpKWl8fbzX3rp\n",
              "JdffCxcuxMKFC6/OMg4iNEMNzWixw2Sx4PPaFrxVLrxG9L/76nDLhOtYYnirvB6jYrSYk30dvjje\n",
              "CpVCAaPFBjDACI2Kc+xQvPcMFs/JxE/nOxAToUZLtwlalQKxkWror5jdyv0CDHqT301MRsG4BOz/\n",
              "xfudZhqVAuVn9GjuMuLYxS5Xeq2uG0fqLiM9MQqXr5hxudeMe6ek4obRsfispgW5Y2LxQ8OvaDP0\n",
              "493vznvVe7HDiK9PteHu3FR09JrxaU0LZmbEIy8tDp8fb4FWNeA2k2K0MFrsKMxJwjen2zE6NhJR\n",
              "WiVONhswf9poVDd14dufL6FwQhJmZ18HXacRP13oxL1TUrGnuhkdvRY8dNNYKBkGB37R496pqS4b\n",
              "3D3O/p8vYfXdk1zpnx9vwbSx8Rh3XTQA4If6X133iwuD0YpvTrdz5vWabdh7gh1O436O4eKqZtUC\n",
              "jUapgFLBwO4g6LfasfazU5wN0pMvjrfii+OtrLS3D0lfkN1Z2YSdlU2i5ba5NeZth8/jy/+8hbOc\n",
              "3UGweHuVV/ryD4+yhOisp3jhFDznEafHx8od1fj0idnYU92MHT82QaVgsPnBPDzzD+9wlY8eL8CK\n",
              "j46x0jQqhSskaNvh8zi9/i7cvvkQ7A6CjWW/4NdeCwCgtKYZMREqnGrpQVXjUJyYu8c5p+9Fn9mG\n",
              "aK0KX55oddnQuPFe9Jpt+MNffxK8lif+dgzf13OH7bzw2Sl8WtPCSvu0pgWrdg2cI1ozPLOpYRVy\n",
              "wzAMay2nVtclcgQ3BeMSMCklxp+mCeIZR+ckgmfA5CkaJ5UXOjnT+TjTfgX1+oGXrdscBNVN3Per\n",
              "iqPeGo+yRovd5bGdogEGvNuplh4AYAWtenZ1+wbDgI42suvtNlogBp9oAOBLjwciAJaAh4uwEg7A\n",
              "niDwHLvMHp/oUx2v/ds0FE0O3Fstr/Rzx7GZJcZRKRhp0Q82u4O1+KtScH/dXJ1vz3vLFaEghKdw\n",
              "rIOfPesJxOL0cBB+wnGLV/Nc+9CqfLucSLWS92k/HPT0cwdd9kucbbJLjC6w2omrwQLsWTzxY9nn\n",
              "khrY4CkcvnWqcJ2qDjvhDEVIO1iNAuDv+ngSqVG66gkEPSZujyN1Q57U6AKbwyF7YdXTE0iNpbMT\n",
              "3443WoIfyS2HsBNOhHpoEdTzyxBal3HCMAOeKTKAHucKj8eRitTGa7UTn47xZerdl3rcq/Hqqg0K\n",
              "kfGYPhNbFghVwk44Tk9htNi8ImF9ie+LUisHJhkC6XF4xjhSkbrWY7U7fPJSXPV6ehxfzu3uZby7\n",
              "atxjHLn7kIJN2AnH6Sm4wvR9iYx1CiaQHoevqyYVqR7HZies+8R3e7gWbz3P5ZPHcfALh2/xWMzj\n",
              "hOr7MsNPOIMNv9d8dcKJ0gRuCctfHkdq6IrV4WA1TL7Gz5XuLRxpnstLODy2i223CNUXs4SfcAY9\n",
              "RVef9/y/L/fYeXykJnCX7q8xTq/ELdFWG2E1TL6nO9fMlmfXTOokg+f+Ir6untgGP89JhlAh7ITj\n",
              "HON0cAjHl3scOehpItXh53Gk1mO02Fheim88wZXuPasmrQF76oTLqxFCqMcJFBGDwuEKffGlPxyp\n",
              "HrjkQE4O6Dq5IweGu56/V7Ffg8XncXwJFJW6Q/XCr33s4zmENxC+w/1WIPcyXGwsO4NJL5SJTlq4\n",
              "Z+esLXNFMFwtYSec6WPjePOW35bFmb6icCjdObYJ5DqOk5kZ8VApGNx1Q3D+FyffmglXumfX7GpX\n",
              "+LmE58viJ59w3jncwLltXOi8FpvDbwvfYSecu3NTOdNvy0lC5mC0rTufrLgZt+ckuz47xzieN/D6\n",
              "1JGy7ClZnI9T6+9C3cvzRMvmjh6J0y/dhefmXS/pHB8uKUDJY/m8+R89zr3xr/L5O1D5/B1Ii48E\n",
              "IK2r5tk1u9oVfq7t7b50PeV01dy9kPt1aFUKn9b6fCGsoqOdxESovAbcGiXDGcsVpVGybv7QrBpb\n",
              "OBqBt+BoVQrehhOtUWGE1rfbqFIqoFUpJX950VolRmjVvPnu+3rcSR4ZMZA/GIokpatmtvn3/WRO\n",
              "D+bem/Zl0kSOcPiu05/d87DzOAD/GoyKo0GqlQrWDXMeq1YqWLFbKp7GBwgHV0p57ZR68Bx8wkmM\n",
              "1nCmqxTCkQ5CtgNDwpIiHM+0q13hd3b13JcMfFnfkjOrxudZo/y4dheWwuEenzBQcDRIlZJhNTr3\n",
              "Y9Vu0cJconPVLKANtUijZZcdqIhPOAl8wlEKRzqIiVc1mC+lq+aZJuUtqFw4F0Ddu06+dNW4xlZi\n",
              "61l8goz4rXscvgEep8dRsD2O1u1Y9wYnJAAhj6OS4HGcYf1ShePpNfnqFct3Nn5PoXGJwjPNdJXB\n",
              "mM4FUPdJhx6TeJ1ci9pi3o9PkP6MFglL4XB7HO6Xb6hVDKu8ewn3Lo6QAIQ8jlijZZV1ehyeChNH\n",
              "CAhH4EvXqITF6xSKs8F5PngC0lUbHKu4exy+fUpcx7kj5v34xk6+bjvxhbAUDt/Tl0s4KoUCESru\n",
              "8u5PXr7GDAh7HL6BuVBZJY9I3T2Ou20qBSM4oSAmXqc3dT68PR88XMMIzzST5epm1ZyCcV8I5dun\n",
              "5I6DUzjCx/F11TTBFM65c+cwe/Zs5OTkID8/H6dPn+Ys9/7772PChAkYP348li1bBqvVP6vnAN+q\n",
              "P8PZ+NVK7rEP4Lu3EPQ4UrpqIh4nIXroNVkjI4Zm0cTGUWI2eE4eyInT83zRvVScXTR3D+LL5ACX\n",
              "xxGLYujj8UgangeoHCQLZ8WKFVi+fDnq6uqwevVqPPbYY15lLly4gBdeeAFHjhxBfX09Ll26hHff\n",
              "fdcf9gLgd7nckwP8l6gW6eK46vXXGEdkVi0uckgsMRFDjVvsHGJbqtUe55OzCHjVkwN2B+s3MHzr\n",
              "OHxI6R2IIakmvV6Po0eP4uGHHwYAPPDAA9DpdF7/6mP37t24//77kZKSAoZhsHLlSuzcudNvRnO/\n",
              "Soj7BgvNOKl99DhCyy5CXTzv8w2U5ZvBi9a6TZu7eQWhGT8nUryiM+xICqdbeyQf486P5zvx+oFz\n",
              "aOwYCsWpaeoWPe7jn8TfKuQrQRvj6HQ6pKamQqUa+FIZhkF6ejqamtgX19TUhIyMDNfnzMxMrzJO\n",
              "zGYzenp6WD98L113ch3H7FPumFjOsp7dsfHJI1x/ZyUNRRpMSeM+HgBuyuJ/CYhawpcRM9j94vU4\n",
              "UUPXNTo2YugcIk/KKI0SuaP57Y+JYC+ejo6LFLXVE+fbcuRS2diJLfvqWPF2Zzj+JaEnvryOy1eS\n",
              "YrTihXwk6JEDxcXFWL9+PStt1qxZgsesvH08NCoFZmYkID0hCuVn9Xj8lnEAgPcfvREf/PMiCCH4\n",
              "Q0G6q5HuXnkzjl3swr9OGQrZWXPvZKQnRGPupCTkZybAYnOgsaMPfyyaiNOtBnx9qh3JMVr8sWgi\n",
              "lt4yDj+e78Sk1BjoOo2Ij9LAQQhrLLJr5c2oberGwhljsGVfHax2Bx6YkYayU+0YGanG7yYNhP4w\n",
              "DIO3/30G/lbZhMmjRyJCpcTMjHgUjEvAf/3LBHQbrXh4VjrmTx8DQgiiByMTPn1iNsrP6GEnBCea\n",
              "DQCAB2akIS5Kg1d+PxX/qNKhaPIo1DR1oWhyisuuJ+dmIyZCBbPNgZSREVh0cwYyE6PR1GmEzeFA\n",
              "XJQGv14xY4RWBbVSAf2VfqTGRaLPbMOvvWbERWkQG6kGIQOvukqLj4Su0wgAGJsw8O5wXacRYxOi\n",
              "4HAQtPf0IyFaA7PNgUdmZeDgGT1rS0RrtwkpIyOgUDCIUClx1w2jsO/nSzBa7a56mrtMGBMX6fKk\n",
              "znTnbyXDYHRcJJq7jGgaTBsTF4nLV8yw2B1o7TYhNTYCDMOgucuEiaNG4PFbuGMZ5cAQCVvs9Ho9\n",
              "srOz0dnZCZVKBUIIUlNTUVFRgezsbFe5TZs2oaGhwfVK3L1792LDhg2oqKjwqpPr33wsWrQIWVnc\n",
              "F2m321FZWYmCggLed0yHKtT24OCL7RkZGXj66ad9r5RIpLCwkJSUlBBCCNm1axeZOXOmV5mGhgaS\n",
              "mppK2traiMPhIPfddx954403pJ6KE4PBQAAQg8Hgl/oCCbU9OAyH7ZJHS9u2bcO2bduQk5ODjRs3\n",
              "oqSkBACwdOlSfPHFFwCArKwsrF+/HnPmzEF2djaSkpKwYsUKqaeiUEIWSV21UKCnpwexsbEwGAwY\n",
              "OVLeVoBgQW0PDsNhe1hGDlAowSbshKPVarFu3Tqvf0YVDlDbg8Nw2B52XTUKJRQIO49DoYQCVDgU\n",
              "igyocCgUGYSVcHzd0hAMnnrqKWRmZoJhGNTW1rrShWwOlevp7+/HggULkJOTg7y8PBQVFbkCd/V6\n",
              "Pe6++25MmDABubm5+O6771zHCeUFkjvvvBNTp07FtGnTcOutt6KmpgbAMN97vy2lBoC5c+eyohZu\n",
              "vPHG4BrkxuHDh4lOpyMZGRmkpqbGlS5kc6hcj8lkIl999RVxOByEEELeeOMNUlhYSAghZPHixWTd\n",
              "unWEEEIqKyvJmDFjiMViEc0LJF1dXa6/S0tLydSpUwkhw3vvw0Y4ly5dIjExMcRqtRJCCHE4HGTU\n",
              "qFHk3LlzQbaMjbtwhGwO5eupqqoiGRkZhBBCoqOjSVtbmysvPz+f7Nu3TzQvWJSUlJC8vLxhv/dB\n",
              "j472FaEtDe4BpqGEkM2xsbEhez1bt27F/Pnz0dHRAavVipSUoUhr5xYRobxgsGjRIpSXlwMYCCoe\n",
              "7nsfVmMcyvCzYcMG1NfXo7i4ONimSOLDDz+ETqfDyy+/jNWrVw/7+cJGOGPHjkVbWxtstoF9HYQQ\n",
              "NDU1IT09PciW8SNkcyhez+bNm1FaWoqysjJERUUhMTERKpUK7e3trjKNjY1IT08XzAsmjz76KMrL\n",
              "y5GWljas9z5shJOcnIwZM2Zgx44dAIA9e/YgLS0t6N0aIYRsDrXr2bJlC3bu3Il9+/YhLi7Olf7g\n",
              "gw+69lVVVVWhpaUFhYWFonmBoru7G62tra7Pn332GRITE4f/3vt7cDacnDlzhsyaNYtMmDCBzJw5\n",
              "k5w4cSLYJrlYvnw5GTNmDFEqlSQ5OZmMHz+eECJsc6hcj06nIwBIVlYWycvLI3l5eaSgoIAQQkh7\n",
              "ezspKioi2dnZZPLkyeTgwYOu44TyAkVjYyPJz88nubm5ZOrUqeSOO+5wTc4M572nsWoUigzCpqtG\n",
              "oYQSVDgUigyocCgUGVDhUCgyoMKhUGRAhUOhyIAKh0KRARUOhSIDKhwKRQZUOBSKDKhwKBQZ/D8P\n",
              "BvI1cXEmXAAAAABJRU5ErkJggg==\n",
              "\">\n",
              "        \n",
              "      </div>\n",
              "      <script></script>\n",
              "      <script type=\"text/javascript\">\n",
              "        (() => {\n",
              "          const chartElement = document.getElementById(\"chart-b2f2a6a7-6731-4652-bc0c-be066f2ddef0\");\n",
              "          async function getCodeForChartHandler(event) {\n",
              "            const chartCodeResponse =  await google.colab.kernel.invokeFunction(\n",
              "                'getCodeForChart', [\"chart-b2f2a6a7-6731-4652-bc0c-be066f2ddef0\"], {});\n",
              "            const responseJson = chartCodeResponse.data['application/json'];\n",
              "            await google.colab.notebook.addCell(responseJson.code, 'code');\n",
              "          }\n",
              "          chartElement.onclick = getCodeForChartHandler;\n",
              "        })();\n",
              "      </script>\n",
              "      <style>\n",
              "        .colab-quickchart-chart-with-code  {\n",
              "            display: block;\n",
              "            float: left;\n",
              "            border: 1px solid transparent;\n",
              "        }\n",
              "\n",
              "        .colab-quickchart-chart-with-code:hover {\n",
              "            cursor: pointer;\n",
              "            border: 1px solid #aaa;\n",
              "        }\n",
              "      </style>"
            ]
          },
          "metadata": {}
        },
        {
          "output_type": "display_data",
          "data": {
            "text/plain": [
              "import numpy as np\n",
              "from google.colab import autoviz\n",
              "\n",
              "def value_plot(df, y, figscale=1):\n",
              "  from matplotlib import pyplot as plt\n",
              "  df[y].plot(kind='line', figsize=(8 * figscale, 4 * figscale), title=y)\n",
              "  plt.gca().spines[['top', 'right']].set_visible(False)\n",
              "  plt.tight_layout()\n",
              "  return autoviz.MplChart.from_current_mpl_state()\n",
              "\n",
              "chart = value_plot(X, *['trestbps'], **{})\n",
              "chart"
            ],
            "text/html": [
              "      <div class=\"colab-quickchart-chart-with-code\" id=\"chart-d26384f8-b36c-44a6-aab5-856df94a4b2c\">\n",
              "        <img src=\"data:image/png;base64,iVBORw0KGgoAAAANSUhEUgAAAMQAAABgCAYAAABCK92TAAAAOXRFWHRTb2Z0d2FyZQBNYXRwbG90\n",
              "bGliIHZlcnNpb24zLjcuMSwgaHR0cHM6Ly9tYXRwbG90bGliLm9yZy/bCgiHAAAACXBIWXMAAA9h\n",
              "AAAPYQGoP6dpAAAY60lEQVR4nO2de1yU1dbHfwMDgzAw3ASU+1WTm4qQeIk8ea83zPKUVqafTtqp\n",
              "3jyvvlaWHbRMLMuPvtY5duxI52hpWWSewFOYHC9RgIaXEFFAYriJcgeZ+3r/GBmeuQ8wI4zt7+fD\n",
              "5/PMs/bz7DV7nrX3Wnuv/cAjIgKDwQAAOAy1AgzGcIIZBIPBgRkEg8GBGQSDwYEZBIPBgRkEg8GB\n",
              "GQSDwYEZBIPBgRkEg8GBGcQdxoYNGzBt2rShVsNuYQZhI+69916sX7/epnWEhYXho48+smkdvzWY\n",
              "QQwRMplsqFVgGIAZhA149tlncfLkSbzzzjsQCoUQCoX4+OOPERQUhA8++ABhYWHw8fEBANTV1WHJ\n",
              "kiUIDAyEn58fFi9ejOvXr2vu9f777yMyMhLu7u7w9/fHsmXLAADz5s1DTU0NXnjhBQiFQsTGxmrp\n",
              "sG7dOvj5+SEgIABr166FXC7XyHg8HrZt24bk5GQIhUKkpKTg9OnTGnl+fj4mTZoEkUgEHx8fTJ06\n",
              "Fa2trTZssWEEMWxCWloavfbaa5rPWVlZ5OjoSM888wx1dnZSd3c3SSQSGjNmDK1Zs4a6urqos7OT\n",
              "nnjiCZo5cyYREV2+fJlGjBhBFy5cICKizs5OOn78uOaeoaGhtHv3bq16MzIyiM/n0/r160kikVBZ\n",
              "WRmFh4fTpk2bNGUAUGRkJJWWlpJEIqGMjAzy9fWltrY2IiIaPXo07dmzh1QqFUmlUiooKKCuri6b\n",
              "tdVwgo0Qt5nt27dDKBTC1dUVOTk56OzsxNatW+Hm5gahUIgtW7bg6NGjqK2tBZ/PBxGhtLQUHR0d\n",
              "EAqFuOeee8zW4e3tjQ0bNkAgEGDs2LFYu3Yt9uzZo1Vm1apVGDduHAQCAf785z+Dz+fj8OHDAABn\n",
              "Z2dUVlaivr4ezs7OSE1NhZubm03aY7jBDOI24ufnB1dXV83nK1eu4Nq1a/Dy8oKnpyc8PT0RGxsL\n",
              "gUCAmpoahIeH48CBA8jKykJISAiSk5Oxf/9+s/UEBwfD0dFR8zk8PBxisVirTHh4uObYwcEBoaGh\n",
              "mjKHDx9GVVUVkpKSEBUVhYyMDCgUisF+fbuAP9QK3Kk4OOj3NbrnAgICEBoaisrKSqP3SU9PR3p6\n",
              "OhQKBbKzs/HYY48hKSkJMTExBusAALFYDKVSqTGK6upqBAUFaZWprq7WHKtUKtTU1GjKxMfH49NP\n",
              "PwUAnD17FnPmzEFQUBCeeeYZ81/czmEjhI0ICAjA5cuXTZZZuHAh5HI5Xn/9dbS3twMAmpqa8Nln\n",
              "nwEAysvLkZubi66uLvD5fIhEIgDQPOgBAQEoLy/Xu29LSwveeOMNSKVSlJeXY+vWrVi+fLlWmR07\n",
              "dqCsrAwymQxvvfUWZDIZHnzwQchkMmRlZWkCe5FIBEdHR/D5v5G+c6iDmDuV06dPU0JCAnl6epJI\n",
              "JKKsrCwKDAzUK1dbW0tLly6l4OBgcnd3p8jISHruueeIiOj8+fM0ZcoU8vDwIHd3d4qNjaW9e/dq\n",
              "rj1y5AhFR0eTSCSi+Ph4IlIH1VOnTqVXXnmFfH19yc/Pj1avXk0ymUxzHQB67733KCkpidzc3GjS\n",
              "pElUWFhIRERSqZTmz59PI0eOJFdXVwoODqZ169aRUqm0ZXMNG3hEbE/1bw0ej4e8vDzMnDlzqFUZ\n",
              "djCXicHgwAyCweDwG4mUGFyYl2wcNkIwGByYQTAYHPplEBKJBAsWLEBMTAwSExMxa9YsVFRUAFDP\n",
              "n8+dOxfR0dGIi4vDiRMnNNeZkjEYw4r+zNH29PRQTk4OqVQqIiLauXMnpaWlERHR8uXLKSMjg4iI\n",
              "ioqKKDAwUDP3bUrGYAwnBrUwV1xcTKGhoURE5ObmRg0NDRpZcnIy5eXlmZVZwvbt2wejJoNhMYOa\n",
              "ZdqxYwfS09PR3NwMuVyOgIAAjSwsLAw1NTUmZYaQSqWQSqVa56qqqgajJsMG/OlACWpabuLgs1Pg\n",
              "6MAbanWsxoCD6s2bN6OiogKZmZnW1AeZmZkQiURaf0VFRVatgzF4Dp2tx881bTgrbhtqVazKgAzi\n",
              "3XffRXZ2No4cOQJXV1f4+PiAz+ejsbFRU6a6uhohISEmZYZYt24d2tvbtf5SUlIGoibDRlA/1zGK\n",
              "rragob3HRtpYl34bxLZt27B//37k5eXB09NTc37RokXYtWsXAKC4uBh1dXVIS0szK9NFIBDAw8ND\n",
              "64+b288YehSqPoPgmfGWzvzagt9/+CNSM4/ZWCvr0K8Yora2FmvWrEFERARmzJgBQP0AFxYW4u23\n",
              "38aTTz6J6OhoODs7Y9++fXBycgIAkzKG/SFXqjTHDmYsoqCi2dbqWJV+GURQUJDR4dLf3x/fffdd\n",
              "v2UM+0Ou7HsGzMXTcpV9pYmwleohoFuqwMHTYrR0D89X0bT3yPH5aTE6JHKDcu4IwYNpi1Bwyhqi\n",
              "61ZbtN0cHm3BkvtuA81dUqw5eA6PTgrGvPhRePObizhQLEZikAhfvzD83rK35vOzOFrWhGNlTdj1\n",
              "ZJKeXMEZIZRmAmy5EYNYf+gCPFycIG7twb/O1SMl3Bufr0wdnOJWgBnEbWDrt+X4T/l1/Kf8Oqq3\n",
              "3I9vzjcAAM7Vtg+xZoY5WtYEAPh3aaNBOfchV6r0H3giwsHTtRg32kPLverl1+Zu7PtJex2q6GrL\n",
              "YFS2GneEy9QpkWPx337C3p9+HWpVDNLYIdH67ORovYWs2tabUFnBT++UyNFqoQvHNQiJXIVrOt/v\n",
              "+7ImvPTleTyw8xQUHIPpjT9lCtNulCka2nvMumGD4Y4wiH8UVOPHqma8fuiXoVbFILrPqzPfOs2e\n",
              "/XMtpr2dj9e/Hvz3Ttp0FBPezEO31PzrZrjTro9/VIi7N3+PsoYOzbkzNX1v+eO6V72jxUDNt7Cq\n",
              "GamZx/D0P06bLzxA7giDkMht12NYA90e3MnROs2+9Vv1Gzc+KTScBmMpcqVK02tXXe82W95QDz9v\n",
              "x0k0tqtHCq5RcV0m2a2efaD7k3o9gOOXr0PcchOdRoL+wXBHGISL0/D+GiqdJ8BaI4TASve5KVNq\n",
              "jhUGYgJdFEZctEUfFgAAuqV99+O6V/JbhqQcoIsnFPSFvNPfyccUGyz2De8nyUJcnPpWsg019qoD\n",
              "Jfj9hz/q+Z4v7i/Bw38tsKlPCmgbxPwdJy3qhTf+qxQP7DwJiVxpUN7UIUF1802DsszcMszbcdIi\n",
              "9wcAbsr6yvUYqY+LsZkjcYs6PYNbL7cXP3hGjOnvHMOFujaL9NLFTaA9B9Rp4ffrD3fELBO3p+yS\n",
              "KCBy7VsFVyhV+PpsPQDg55o2pIR7A1AHo4fPqc9XN3cjys/dZvpxO92LHF/bFFk/VAMAcs434OGk\n",
              "vrfu3eiS4v1jFSitNz5D9eEJdXbw4XP1WJxiOGeMC3eE6JSYf8iMGQSgDpy58htdfYH65txLAICX\n",
              "v7xgtg5D93Vztn0Kzx1hENwxoUMi1zKIDs4P3NLdl1bOTSnokprvFc1R3tgJJ0ceIkYK9WS6LpM5\n",
              "uBmkEoW2bv978Bz+U34d1qTHhEHIlSq9mMfQVGovMqVKEysAQOX1rkHpVlLTil+bb+KNby5itKeL\n",
              "fn0KldVcUOAOMQhukJdf3oRTV25AqSLEB4m03Kn6tr7pwR8qb2iO23sGF5x1SOSYs129LbZq83w4\n",
              "6OQzmDIIIgKPkw9Udb0LCz74QfNZ1wUsqDSdG8TtnZ11HuTcCw347/0lSI3wQbD3CLwy7y6IRjjp\n",
              "jBDabfHyF+fxziMJ4N+6l1ypwqvZxnt4iVyl5eZx791fLl/rxEN/KdB8NrSy3y1VwJnvPOA6dLFb\n",
              "g5ApVGjplsHdha/VI/3561LN8feXmrSu4c6XX6jrczkGaxBNHX0jj0ypgouD9tBuKobs6NF28XRd\n",
              "Kt3e2NgcvkpFcHDgafXwTjo953Of/AwAOFWh7gwceDy89VA8ujkxxI0u7c1Z2SV1SAn3xsNJQXBy\n",
              "dMDXZ+tR12Y8lVuqUFoUh5jih4obCPZyxTkL9lp0yxTwcrOeQdhtUP3E3wsxOfN75Jc3Qa6wzCXh\n",
              "9ly1rX0/6mANggu3hyYiSBVKo4ExAIhbtQNj3cDR0EqwIXrzjjo438Xctb3B/fO3DAUAGtoleuXO\n",
              "ituQ9GYe1mWfN5tzJJWrtFyw/nJO3IbHPyrEPVvztWaVjPE/n521ysJkL3ZrEL5Cda9w9Xo39vxw\n",
              "1aJrDhSLIVeqsO27cq2e9py4De9+W44Cjhuly3eljRp/WKFU4VBJHX6pa8dXJbVa9+IeP/2P05j+\n",
              "dj4uNXYava+4RdsgdNewTfnrXKpuqB9u7gix8V8X8cutkbDRwIN+rrYNBRU3tNwa3VVnQN1uHRIF\n",
              "9heJIXAyHdi+8c1FVFowi2aMnzmLejILZv+Kq1v1PIHBYLcuk4+bAADwXp7pV85zkSpU+Et+Jf7v\n",
              "WIXW+S/O1AIA3s9Xny945XcY7TlCIz/zawtW7D0DBx5Q8vpsfH5ajLdyyzTymXf5aY5lShXkShVe\n",
              "++oCjlnwQ9W29qC4ugWLdv2IKD8hVtwToSW3tLetuNaFiSFe+KqkTnOu7aYcD+w8heot9+OBnSf1\n",
              "rrkpU2LJR4Va5wwZDhdzi2F5F69ZpK8xuOHWqgNnLbqm3oQL11/s1iB8hYIBXff5abHZMot2/YhQ\n",
              "H1csTQ3D3LgAzYOtInUPxn3ogL5kOEA9QuReaMDnp2st0qdLqsDjtx7KiqYu/O1ElZ7cEq40qUeh\n",
              "X+r0p2Pbb8q1pj9Nca1DalL+zr/1/x+Ftfi0sAY1LYbXVkxhzRVru3WZfIQDC6RMBYTcMgWVzXh2\n",
              "3xkoVYTyxr6pw4Z2CTqlxn8AuVKl5waZ4vK1Ti03S/fHbb0pQ3OX6YcUAE5cvoGc8w0oqtbPGp2y\n",
              "5XuL9bHUAG3Bq19dwMcF1f2+rqCy2WpxhN0aRH9GCFcjCzp/eXyi2Wu3HCnDmV/7HrJXv7qgWZE1\n",
              "hFShMhkz6HLkF+0UaxcdH/3rs/VI2nQUqZnf48iFBqP3Kb/Wiec//dmgrHsQQa49UFDZbFG8YQl2\n",
              "axCpkT5my8yJ9UdKuDfWzRtrUB4fKDJ7j90nr6L1puVDskyhwsV6y1ajDWFsF11DuwR//MTwA28P\n",
              "vDrf8G9gCYlBpn+nQE68N1js1iBEI5yQPn60yTILJwbh85WpCPZ21ZO5OTtipPvA4hBTdEgUuNo8\n",
              "8FkWS1IndPEdoPs4ED5YMhHVW+43m1goFPAxSqReWfZydYK328Db+r67/E3Kf3jld3oj60Cx26Aa\n",
              "AEIMPOhcel0lAV+/sbKWp1itEbkUVN4YcHrzQEkJ90buBcO72/pDgIeL3mYmLlF+QsyPV7+B0VQ+\n",
              "08p7IrB8ajhudEmxObcMa+eMsSh20+X8htlQKgnXOiXY1o/ZxMFgtyMEoHabuFkSS1NDteQx/uqE\n",
              "Pd1cl/nxAZokPy7Pz4hE7GgPi+t/8b5ovXMfHjf82s2VOtOp1mRa1EjseGy83nnd1A3A+HuUHkkK\n",
              "QlKYl8l6lqSEaNJMjMWwn/zhbqybfxcCRC6ICxTh02cmY0KIF1w4ndLqWTEm6wGAvU+nwMPFCV5u\n",
              "zga/h62wa4OYEumL0+tn4dKbc1G6cQ4mR/TFFecyZsPfQz8ZDNAPXAEgzMcVa+eMxe6lkyyu/9Hk\n",
              "YIvLLpwYhNKNc/DVc1MsKm/Ob142JUxzTCCkjw/Elbfm4VzGbFRuno/SjXPw3IxIveveX2x4ImHr\n",
              "IwkINTLifrw8GfPiAvCgGRf1yz+mYmqUr0EZt80fSQrSk/9X4miMFvX9XtxJE93FwPsTRmmt/VgT\n",
              "uzYIAPB2c4aLkyPcBHytjUKiEX35QbrJdYYMwtVZ7T16cK6L8HUzWfeIfrhc7i58uAn4GBtg2QgU\n",
              "ZMYd3PBgrObY21UdQzg5OkA0wgmODjy4CfjoMhCP+HkY9uV5PJ5WrBXA6UzuHeOHvz6RZHZmTygw\n",
              "/vI5Aee3MbRjcPWsGIz0MGwQTjrJki/NGWOzFyz3yyBefPFFhIWFgcfj4ezZs5rzV65cwZQpUxAT\n",
              "E4Pk5GSUlpZaJLM2Y4w8bLo9n4uBmKLXleDm3GcujDdZnzmDmBzR55YJXdQGN8LCnP5188aa7QW3\n",
              "PzoeS1NDMSc2wKB8esxIrc9PTA7BpFAvPHXLtezNFerdMzFuVF/7/WF6OADjuxEX3erlH0gYpTnH\n",
              "3WikC/cBdnZ00BspQ71dtTZqeXESHnvbDgAuvjEHoT5umB+vrneUyLAXMFD6FVQ/8sgjeOmllzBt\n",
              "mva7hFauXIkVK1Zg2bJl+OKLL7Bs2TIUFxeblVmbQM8ROPT8VK3RAQD8PFzw9fNTkX4rrZrbwLrw\n",
              "eDzMGuePqze6MSHECzseG4/1h34xOPtjbqbl0z9MxkN/LcAIJwe4cxLVjq+9Fze6pFCROr37sb/9\n",
              "pHdtkJcrtj82AcVXW3B3hDcKq1pwquIG/n6qL29rwYRALJgQaLT+e6J9se/puxHsPQIVTV2YGuUL\n",
              "Ho+Hjelx2Jgehx6ZEj9VNWumsBODPbH36RQ48niYEuWLcaM8EOmnv78DAN5cEIf5CaOQGuEDqUKF\n",
              "6hvdiB1t3M1z5AQvfEceJoR44fkZkfjyTB32LEuGgwNPK8mSzxlFXJ35yHlxGvgODpqR/MHE0fB2\n",
              "c9YyYmswoH/cHhYWhkOHDmH8+PFoampCVFQUWlpawOfzQUQYNWoUTp06BQ8PD6OyqKgoi+tbvXo1\n",
              "tm3b1l819dicW4ac8w04/MJU+Nwakh/98EcUXm3BpgVxeGJyX1DO3adARFiyuxA/VmnvRajecj/e\n",
              "+64cO3Vyo7jy3ublGYlmVSrC4t0/wYHH07p/9Zb79cpK5Epk5pZhTmwAphjx1YcK3X0duvxS144H\n",
              "dp4CAFzeNE8z0cG9Lj7jW822UEPf/3Yw6GlXsViMUaNGgc9X34rH4yEkJAQ1NTUQiURGZcYMwtA/\n",
              "TFEqrbPS+ur8u7Bu3litH27PsmRcbOhAUoj2DAu3DI/Hw7jRHnoGAQBrZo/BlEhfLN6t3cvH+Av1\n",
              "7mMIBwceDqyYDAAIX5drsqyLkyM2pseZLDNUmPue3D0L3PdSca+bFOaF/PLrWvHL7WbYrUNkZmZi\n",
              "48aNWucmT55stfvr/nBuAj6Sw/SnYHX5n1kxcHJ0wK/N3XrpFqmRPprR4GhZE45dasKzaZZPs/bq\n",
              "xOMN/BUtw51AzxF4Mz0WQhe+UeN5++EEfHTqKpZYsA/cVgx6lik4OBgNDQ1QKNRDHRGhpqYGISEh\n",
              "JmXGGK7/MEUo4OOVeWORPt64z94bf2QujEeoj+kZKkPMHqdekQ3zMT3DZK88mRqGhyboT7n24ufh\n",
              "glfn34UwM7N7tmTQBuHn54eJEydi3759AIAvv/wSQUFBiIqKMikzxnD/hylzYv3x2vy78NkK641a\n",
              "vWxZmIA/zYzG3qfvtvq9GZbRr6B65cqVyMnJQWNjI3x8fODu7o6KigqUl5dj2bJlaG5uhoeHB7Ky\n",
              "shAfr56yNCWzlIULFyIsLEzrnFKpRFFREVJSUoaVwRiC6WobzOkaGhqKVatW9eueA5plGg50dHRA\n",
              "JBKhvb0dHh7WnXqzNkxX22ALXe1+pZrBsCbMIBgMDswgGAwOdmsQAoEAGRkZEAisv8nH2jBdbYMt\n",
              "dLXboJrBsAV2O0IwGLaAGQSDwYEZBIPBwW4N4nZuPDLHcN84xUUikWDBggWIiYlBYmIiZs2ahYoK\n",
              "dfp6U1MT5s6di+joaMTFxeHEiROa60zJbMXs2bORkJCA8ePHY/r06SgpKQFg43YlO2XGjBmUlZVF\n",
              "REQHDx6kSZMmDZkux48fJ7FYTKGhoVRSUqI5b0rHodK/p6eHcnJySKVSERHRzp07KS0tjYiIli9f\n",
              "ThkZGUREVFRURIGBgSSTyczKbEVra6vmODs7mxISEojItu1qlwZx7do1cnd3J7lcTkREKpWK/P39\n",
              "6cqVK0OqF9cgTOk4nPQvLi6m0NBQIiJyc3OjhoYGjSw5OZny8vLMym4HWVlZlJiYaPN2HXb7ISzB\n",
              "1Kak/uzEsyXW3jhlK3bs2IH09HQ0NzdDLpcjIKBvf3ZYWBhqampMymzN0qVLkZ+fDwDIzc21ebva\n",
              "bQzBGDybN29GRUUFMjMzh1oVo/zzn/+EWCzGpk2b8PLLL9u8Prs0iIFsPLrdWHvjlLV59913kZ2d\n",
              "jSNHjsDV1RU+Pj7g8/lobOzbDVhdXY2QkBCTstvFU089hfz8fAQFBdm0Xe3SIAay8eh2Y+2NU9Zk\n",
              "27Zt2L9/P/Ly8uDp6ak5v2jRIuzatQsAUFxcjLq6OqSlpZmV2YK2tjbU19drPh86dAg+Pj62b1dr\n",
              "Bz+3i0uXLtHkyZMpOjqakpKS6Pz580Omy4oVKygwMJAcHR3Jz8+PIiMjzeo4VPqLxWICQBEREZSY\n",
              "mEiJiYmUkpJCRESNjY00a9YsioqKonHjxtGxY8c015mS2YLq6mpKTk6muLg4SkhIoPvuu08zYWHL\n",
              "dmW5TAwGB7t0mRgMW8EMgsHgwAyCweDADILB4MAMgsHgwAyCweDADILB4MAMgsHgwAyCweDADILB\n",
              "4MAMgsHg8P/hOShFP+vlbAAAAABJRU5ErkJggg==\n",
              "\">\n",
              "        \n",
              "      </div>\n",
              "      <script></script>\n",
              "      <script type=\"text/javascript\">\n",
              "        (() => {\n",
              "          const chartElement = document.getElementById(\"chart-d26384f8-b36c-44a6-aab5-856df94a4b2c\");\n",
              "          async function getCodeForChartHandler(event) {\n",
              "            const chartCodeResponse =  await google.colab.kernel.invokeFunction(\n",
              "                'getCodeForChart', [\"chart-d26384f8-b36c-44a6-aab5-856df94a4b2c\"], {});\n",
              "            const responseJson = chartCodeResponse.data['application/json'];\n",
              "            await google.colab.notebook.addCell(responseJson.code, 'code');\n",
              "          }\n",
              "          chartElement.onclick = getCodeForChartHandler;\n",
              "        })();\n",
              "      </script>\n",
              "      <style>\n",
              "        .colab-quickchart-chart-with-code  {\n",
              "            display: block;\n",
              "            float: left;\n",
              "            border: 1px solid transparent;\n",
              "        }\n",
              "\n",
              "        .colab-quickchart-chart-with-code:hover {\n",
              "            cursor: pointer;\n",
              "            border: 1px solid #aaa;\n",
              "        }\n",
              "      </style>"
            ]
          },
          "metadata": {}
        },
        {
          "output_type": "display_data",
          "data": {
            "text/plain": [
              "<google.colab._quickchart_helpers.SectionTitle at 0x79bb68ebbeb0>"
            ],
            "text/html": [
              "<h4 class=\"colab-quickchart-section-title\">Distributions</h4>\n",
              "<style>\n",
              "  .colab-quickchart-section-title {\n",
              "      clear: both;\n",
              "  }\n",
              "</style>"
            ]
          },
          "metadata": {}
        },
        {
          "output_type": "display_data",
          "data": {
            "text/plain": [
              "import numpy as np\n",
              "from google.colab import autoviz\n",
              "\n",
              "def histogram(df, colname, num_bins=20, figscale=1):\n",
              "  from matplotlib import pyplot as plt\n",
              "  df[colname].plot(kind='hist', bins=num_bins, title=colname, figsize=(8*figscale, 4*figscale))\n",
              "  plt.gca().spines[['top', 'right',]].set_visible(False)\n",
              "  plt.tight_layout()\n",
              "  return autoviz.MplChart.from_current_mpl_state()\n",
              "\n",
              "chart = histogram(X, *['age'], **{})\n",
              "chart"
            ],
            "text/html": [
              "      <div class=\"colab-quickchart-chart-with-code\" id=\"chart-cc163d8b-6909-4aa0-b018-387bc38508f1\">\n",
              "        <img src=\"data:image/png;base64,iVBORw0KGgoAAAANSUhEUgAAAMQAAABgCAYAAABCK92TAAAAOXRFWHRTb2Z0d2FyZQBNYXRwbG90\n",
              "bGliIHZlcnNpb24zLjcuMSwgaHR0cHM6Ly9tYXRwbG90bGliLm9yZy/bCgiHAAAACXBIWXMAAA9h\n",
              "AAAPYQGoP6dpAAAMl0lEQVR4nO3da0xT5x8H8G+BrTjHRUDuNy8MxkTAuoXhnDDDC3QZrMte4FTQ\n",
              "LJhl6gwkU7MQNjXUFwbEDLK4F7BosukEtjm3mYluLpmCILs4I9dBKQM667htFGjP7//C7Kz9A8qp\n",
              "pYfi75OQ0J7Tw+/Efj3P0/M8TxVERGCMAQBc5C6AsbmEA8GYBQ4EYxY4EIxZ4EAwZoEDwZgFDgRj\n",
              "FjgQjFngQDBmgQPBmAUOBGMWOBCMWeBAOIGysjKsWLECnp6eCAwMxJYtW3D79m0AwMTEBPLz8xEY\n",
              "GIjFixdj//79eO655/Duu++Kr+/p6cGmTZsQEhICf39/ZGVl4c8//5TpbOY2DoQTCAwMRHV1NQYG\n",
              "BlBXV4eWlhbs2rULAKDRaPDZZ5/h+++/h06ng1KpRF1dnfjasbExrF+/HsHBwWhpaUFHRwfc3Nyw\n",
              "adMmuU5nbiPmdKqrq8nHx4eIiJYtW0ZlZWXiNpPJRP7+/lRYWEhERFVVVRQcHEyCIIj76HQ6AkDd\n",
              "3d0OrdsZuMkdSHZ/1dXVOHLkCNra2mA0GiEIAv7++2+YzWb09PQgIiJC3NfV1RVhYWHi49bWVvT3\n",
              "92PRokVWx1QqldBqtQgNDXXYeTgDbjLNcTqdDq+++ip27doFrVaLoaEhnDhxAgBARAgJCUFXV5e4\n",
              "vyAI0Ol04uPAwEBERERgYGDA6sdoNCI5Odnh5zPXcSDmuJGREQiCAD8/P7i7u6O1tRUajUbcvmXL\n",
              "FpSUlKClpQXj4+M4dOgQDAaDuF2tVmNiYgIFBQUYHBwEAOj1epw6dcrh5+IMOBBzXExMDDQaDbZu\n",
              "3QoPDw9kZ2dj8+bN4vb9+/dj48aNWLt2LUJCQjA6OorExES4u7sDADw8PHDlyhVotVrExcXB09MT\n",
              "ycnJuHz5slynNKcpiHhO9XxiMpkQFBSEY8eOISsrS+5ynI7kK8T58+dnow5mo+HhYZw9exbj4+MY\n",
              "GRnB3r17IQgC0tPT5S7NKUkOxIEDBxAdHY3S0lIMDQ3NRk1MAkEQcPDgQfj5+SEkJAT19fX46quv\n",
              "4O3tLXdpTsmmJlNTUxPKy8tx9uxZqNVq7Ny5E7GxsbNRH2MO9UB9iJ9++gkvvfQS/vjjD6SmpqK4\n",
              "uBhxcXH2rI8xh7LpU6YLFy4gIyMDarUab775Jvr6+rBjxw68/PLL9q6PMYeSfIV48skn4efnh927\n",
              "d0OtVsPV1VXclp6ejq+//truRTLmKJID0djYCJVKNVv1MCYryU2mxsZG3LlzR3xsMBjw4Ycf2rWo\n",
              "+yktLXXo32MPD8mBKC8vh4+Pj/jY19cX5eXldi3qfizH7jBmT5JHu07VwjKbzXYphjle5L5z027r\n",
              "PLzRgZXMDZKvEEFBQTh9+rT4+NSpUwgKCrJrUYzJRfIV4ujRo8jIyMDbb78NAHjsscfw+eef270w\n",
              "xuQgORAxMTG4efMmmpubAQDR0dFWH70y5sxsmjGnUCjg7e0Nk8mEnp4eAEB4eLhdC2NMDpIDUVlZ\n",
              "id27d+ORRx6Bi8vdLohCoYBer7d7cYw5muRAHDx4ENeuXUN0dPRs1MOYrCR/yuTn58dhYPOW5EBk\n",
              "Zmbi6NGj0Ov1GBoaEn8Ymw8kN5neeecdAEBeXh4UCgWICAqFgm/OsXlBciAEQZiNOpidTHfn+WG8\n",
              "62wLm+ZDNDY2imsDDQwMoLe3165FMSYXmwb3bd++XVxM12AwTLlOqNFoRGZmJp544gnEx8cjLS0N\n",
              "bW1tAICUlBQsWbIECQkJSEhIQElJyYOdBWN2IrnJdPz4cVy9elVc9W3ZsmXTriSdm5uL9PR0KBQK\n",
              "vP/++3j99dfx3XffAQBKSkqQmZlpc+FMmnsN4mP/kXyFUCqVWLBggdVzbm6Tc+Xu7o4NGzZAoVAA\n",
              "AJKSktDZ2WlblYw5iOQrxOLFi9HS0iK+0SsrK2c0bKO0tBQZGRni43379qGgoACxsbHQaDRYunTp\n",
              "lK8bGxvD2NiY1XNz+RMt7tQ6N5tGu2ZlZeHWrVsICwuDp6cnvvzyy3u+pqioCG1tbaitrQUAnDhx\n",
              "AmFhYSAilJWV4cUXX8TNmzenfK1Go8F7771n9VxSUpLUsucVbv7MHpuWoREEAc3NzSCi+452PXLk\n",
              "CD755BNcuHBh2sWz3N3d0dPTA19f30nbprpCFBQUzNlppI64QjgqELbU7OxXSMlXCK1WCwBYuHAh\n",
              "ANxztGtxcTE+/vhjqzCYTCYYDAYEBAQAAKqqqhAQEDBlGIC7fRalUmn1HA83Z7NFciBUKpV4h9po\n",
              "NOKff/6Br6/vpNGuOp0O+fn5WLp0KVJTUwHcfXNfvHgRGzduxNjYGFxcXODn54cvvvjCPmfD2AOS\n",
              "HIj//4i1uroaP//886T9QkNDp5x/DQANDQ1S/yxjDvHAX6mlVqtRVFQ0qePLrNnS7pe73f0wdt4l\n",
              "B8JyZKvZbEZdXR2PdmXzhuRAeHt7i30IV1dXREVF4dixY7NRG2MOx6NdGbPA3zHHmAXJVwgXFxdx\n",
              "2IYlnihkfw9jp1ZukgNx4MABjI6O4o033gAAfPDBB1iwYAH27Nlj79oYczjJgaipqUFjY6P4+NCh\n",
              "Q1CpVOLUUsacmeQ+xPDwsNVdab1ej+HhYbsWxZhcJF8h8vPzER8fjw0bNgAAvvnmG3H2HGPOzqbR\n",
              "rjdu3MClS5cAAC+88AKeeuopuxd2L3l5eSguLrbLsWxZDp47u44hx516m4Zu+Pr6Ii4uDikpKTCZ\n",
              "TBgfH8ejjz4q6Ritra3Izs7G7du34eXlhcrKSocH6374jf/wkdyHOHPmDJKSkrBt2zYAwG+//WbT\n",
              "3OgdO3YgNzcXLS0t2Lt3L3JyciQfgzF7kxwIjUaD69evi/Mb4uPjJX/FlV6vR0NDAzZv3gwAeOWV\n",
              "V9Dd3S2uysGYXCQ3mVxdXSdN5pHaXOru7kZQUJC4OIFCoUB4eDi0Wi2WL19uta/UOdXOPmOL/UeO\n",
              "EcKSA+Hh4YH+/n7xbnVtba3VlzDa21RzqmNiYpCXlzfl/uppjpOXVytp/5kym82or6/HM888M29m\n",
              "8jnzOU337xwREYG33nrr/gcgia5du0aJiYnk5eVFa9asoeDgYGpqapJ0jP7+fvLw8KCJiQkiIhIE\n",
              "gQICAqi1tXXSvkajkQYHB61+jEaj1LJnzeDgIAGgwcFBuUuxm/l4TjMl6QohCALMZjMuXbqEH3/8\n",
              "EUSE5OTkaRcPmI6/vz9WrVqFkydPIicnB1VVVQgNDZ3UXAKmnlPN2GyRfB8iPj5+yimjUjU3NyMn\n",
              "JwcGgwGenp6oqKhAXFzcAx/X0YaGhuDl5YXBwUF4enrKXY5dzMdzminJfYioqCi0tbVN+b+5FNHR\n",
              "0bhy5coDHYMxe5MciDt37iAhIQHJycl4/PHHxeerq6vtWpizUCqVKCwsnFfNuvl4TjM14yZTbm4u\n",
              "jh8/jo8++gh//fUXFi1aZLU9Ozt7VgpkzJFmHIhVq1bh+vXrk35nbD6xaQqpxH44Y05jxn2I0dFR\n",
              "/Prrr+KKff/+/q+VK1fOSoGMOdKMm0yRkZFTzqUG7g696OjosGthc1lFRQW2b9+OmpoaZGZmQq/X\n",
              "Y+vWrWhvb4dSqUR5eTmef/55ucucsbGxMeTn5+P8+fNwd3dHfHw8Tp486RQjku1OnvuBzuv333+n\n",
              "Z599lpKSkqimpoaIiLZt20aFhYVERFRfX08hISE0Pj4uX5ES7dmzh3bu3EmCIBARUW9vLxERpaam\n",
              "UkVFBRERffrpp7R69Wq5SnQYDoQEZrOZ1q9fTw0NDbRu3ToxEAsXLhTfRERETz/9NH377bcyVSnN\n",
              "yMgIeXh4TBqmIWV4zXzC6zJJUFxcjDVr1kClUonPGQwGTExMIDAwUHwuMjJS/NqAua69vR0+Pj4o\n",
              "KirC6tWrsXbtWtTW1t5zRPJ89sCLHT8sbty4gaqqKly+fFnuUuzKZDKhq6sLsbGxOHz4MJqampCW\n",
              "loZz5x7O2YJ8hZihH374AZ2dnYiKikJkZCSuXr2K3NxcnD59Gm5ubujr6xP37ezsnNH37s0F4eHh\n",
              "cHFxwWuvvQYASExMxJIlS9DV1YXe3l6YTCYAdz9q12q1TnNeNpO7zeasLPsQ2dnZVp3q4OBgp+pU\n",
              "p6Wl0blz54iIqKOjg3x9fUmn09G6deusOtUqlUrGKh2DA2Ejy0D09fVRWloaLV++nGJjY+nixYvy\n",
              "FidRe3s7paSk0IoVK2jlypV05swZIiK6desWJSUlUVRUFKlUKvrll19krnT22bQMDWPzFfchGLPA\n",
              "gWDMAgeCMQscCMYscCAYs8CBYMwCB4IxCxwIxixwIBizwIFgzAIHgjEL/wPwUK3O551K+gAAAABJ\n",
              "RU5ErkJggg==\n",
              "\">\n",
              "        \n",
              "      </div>\n",
              "      <script></script>\n",
              "      <script type=\"text/javascript\">\n",
              "        (() => {\n",
              "          const chartElement = document.getElementById(\"chart-cc163d8b-6909-4aa0-b018-387bc38508f1\");\n",
              "          async function getCodeForChartHandler(event) {\n",
              "            const chartCodeResponse =  await google.colab.kernel.invokeFunction(\n",
              "                'getCodeForChart', [\"chart-cc163d8b-6909-4aa0-b018-387bc38508f1\"], {});\n",
              "            const responseJson = chartCodeResponse.data['application/json'];\n",
              "            await google.colab.notebook.addCell(responseJson.code, 'code');\n",
              "          }\n",
              "          chartElement.onclick = getCodeForChartHandler;\n",
              "        })();\n",
              "      </script>\n",
              "      <style>\n",
              "        .colab-quickchart-chart-with-code  {\n",
              "            display: block;\n",
              "            float: left;\n",
              "            border: 1px solid transparent;\n",
              "        }\n",
              "\n",
              "        .colab-quickchart-chart-with-code:hover {\n",
              "            cursor: pointer;\n",
              "            border: 1px solid #aaa;\n",
              "        }\n",
              "      </style>"
            ]
          },
          "metadata": {}
        },
        {
          "output_type": "display_data",
          "data": {
            "text/plain": [
              "import numpy as np\n",
              "from google.colab import autoviz\n",
              "\n",
              "def histogram(df, colname, num_bins=20, figscale=1):\n",
              "  from matplotlib import pyplot as plt\n",
              "  df[colname].plot(kind='hist', bins=num_bins, title=colname, figsize=(8*figscale, 4*figscale))\n",
              "  plt.gca().spines[['top', 'right',]].set_visible(False)\n",
              "  plt.tight_layout()\n",
              "  return autoviz.MplChart.from_current_mpl_state()\n",
              "\n",
              "chart = histogram(X, *['sex'], **{})\n",
              "chart"
            ],
            "text/html": [
              "      <div class=\"colab-quickchart-chart-with-code\" id=\"chart-14066b1a-9251-4421-a7b9-2277c1888f7b\">\n",
              "        <img src=\"data:image/png;base64,iVBORw0KGgoAAAANSUhEUgAAAMUAAABgCAYAAACt6batAAAAOXRFWHRTb2Z0d2FyZQBNYXRwbG90\n",
              "bGliIHZlcnNpb24zLjcuMSwgaHR0cHM6Ly9tYXRwbG90bGliLm9yZy/bCgiHAAAACXBIWXMAAA9h\n",
              "AAAPYQGoP6dpAAAMM0lEQVR4nO3dfUwT9x8H8HcFLExoGWWyboVWoFZlUOXBIPyxkSxZ5JcNh5mZ\n",
              "bMuYMxC2oBsu02VZnM6M3xZjYBJD2BLmNAHcZHFR3OYMI2YPiLgp6uRhzAGu0AVc6QIItJ/fH8SL\n",
              "LQ/24Ghpf59Xcgm9u7afb4537+l7dzIiIjDGBIs8XQBjCw2HgjEnHArGnHAoGHPCoWDMCYeCMScc\n",
              "CsaccCgYc8KhYMwJh4IxJxwKxpxwKBhzwqHwQmVlZYiJiUFISAgiIiKQm5sLAPjnn39QUFAArVYL\n",
              "lUqFzMxMdHZ2AgB+++03KBQKnDhxQvicgoICJCcn4/bt255oxsJFzKu0tbVRUFAQtbS0EBGR1Wql\n",
              "hoYGstvt9Nhjj1FOTg719/fTyMgIvfnmm7Ry5UoaHR0lIqJjx46RUqmk9vZ2+uyzzygsLIz++OMP\n",
              "D7ZmYeJQeJnOzk4KDAyk6upqslgswvjm5mYKCAggq9UqjBsfH6fAwEA6d+6cMK6oqIgMBgMFBwdT\n",
              "XV2dW2v3Frz55GWWLVuG6upqVFZWIioqCikpKaiqqkJ7ezvGx8eh0WgQGhqK0NBQqFQqAEB3d7fw\n",
              "/u3bt6OjowPx8fFYv369p5qxsHk6lWz2xsbGqKamhmQyGX3//fckl8uFTaWpjI6OUlpaGm3atInU\n",
              "ajUdPHjQjdV6D15TeJnW1lbU1dXh33//hb+/P5RKJQBAo9HgkUceQUFBAcxmMwDg1q1bOH78OIaG\n",
              "hgAAb7zxBoaHh3H48GHU1NRg586daGxs9FhbFixPp5KJc/nyZUpLSyOFQkEhISEUFxdHR44cISKi\n",
              "gYEBKiwsJJ1OR8HBwRQZGUnPPfccDQ0NUVVVFYWFhVFnZ6fwWfv37yeNRkNms9lTzVmQZER8jTZj\n",
              "dxO9+fTNN9/MRx2MLRiiQ7F3714YDAaUlpZicHBwPmpizKNEh+KHH35AdXU1rly5guXLl+OVV17B\n",
              "tWvX5qM2xjxiTvsUv/76K5566in89ddfyMjIwIEDBxAfHy9lfYy53awOyX733XfIyspCdnY2Xn31\n",
              "VfT29iI/Px9PP/201PUx5nai1xQrV65EeHg4tm3bhuzsbPj5+QnT1q9fj9OnT0teJGNuJfYY7oUL\n",
              "F1yab3h4mLKyskiv11NCQgI9/vjj1N7eTkREfX199MQTT1BsbCzFxcVRQ0OD8L6ZpjHmDqI3n5qb\n",
              "mzEwMCC87u/vx8cffzzlvHl5eWhtbcWlS5eQlZWFrVu3AgB27dqF1NRUtLe3o7KyEjk5ORgbG7vn\n",
              "NFeUlpaKbRJjjsSmyGg0Thq3evXqe76vqamJtFotEREtWbKETCaTMC0lJYXOnDlzz2mueP31112e\n",
              "l7Gp+M8iRJPG2Wy2e76vtLQUWVlZ6O/vx9jYGB588EFhmk6nQ1dX14zTpnL79u1JF8i4UgvzXrpd\n",
              "p6Ycf+O//5HsO0RvPqnVahw7dkx4XVNTA7VaPeN73n//fXR0dKC4uFh8hTMoLi6GUql0GM6fPy/p\n",
              "d7D/P6JDUVJSgnfeeQc6nQ46nQ579uxBWVnZtPPv378ftbW1OH36NO677z6oVCr4+/ujt7dXmOfG\n",
              "jRuIioqacdpU3nrrLVgsFodh7dq1YpvEmAPRoVixYgWuXbuGuro61NXVoaWlBXq9fsp5Dxw4gKqq\n",
              "Kpw5cwahoaHC+GeeeQbl5eUAgKamJty8eROPPvroPac5k8vlUCgUDsPdh4gZmw3R+xQAIJPJEBoa\n",
              "ivHxcdy8eRMAJv2a9/T0YMeOHYiOjkZGRgaAiX/ixsZGfPDBB3jhhReg1+uxePFiHD16FAEBAQAw\n",
              "4zTG3EF0KD799FNs27YNAQEBWLRoYkUjk8mEC1vu0Gg0U+6UA0BERAS+/fZb0dMYcwfRoXjvvffQ\n",
              "1NQEg8EwH/Uw5nGi9ynCw8M5EMyniQ7Fhg0bUFJSArPZjMHBQWFgzFeI3nx6++23AQBFRUWQyWQg\n",
              "IshkMj5pxnyG6FDY7fb5qIOxBWNW11M0NzfjyJEjACbuX2oymSQtijFPEh2KQ4cOYcuWLXj33XcB\n",
              "TPSSzcnJkbouxjxGdCgqKirw888/Q6FQAABiYmLw999/S14YY54iOhRyuRxBQUEO4/z9Z3VinLEF\n",
              "SXQoHnjgAbS1tUEmkwGYOMM9XYc9xryR6J/4kpISbN68GdevX0dkZCQUCgVOnjw5H7Ux5hGiQxEb\n",
              "G4vGxka0traCiGAwGLhnKvMpokNx5yq4JUuWAMC0vWQZ81aiQ5GUlCScyR4ZGcHQ0BBUKtWkXrKM\n",
              "eSvRoXA+/FpbW4tLly5JVtB8cce1vcw3zPmhLdnZ2Th1aup/OMa8keg1xd09Ym02GxobG7mXLPMp\n",
              "okMRGhoq7FP4+flBr9fjo48+mo/aGPMI7iXLmBN+ECRjTkSvKRYtWiR08bgbX2zEfIXoUOzduxfD\n",
              "w8MoKCgAAJSXlyMoKAivvfaa1LUx5hGiQ/Hll1+iublZeL1v3z4kJSUJl6ky5u1E71NYrVaHs9dm\n",
              "sxlWq1XSohjzJNFrih07dsBoNCIzMxMA8PXXXwtX4THmC0SHIj8/H+np6aivrwcwcVePuLg4yQtj\n",
              "zFNmdUhWpVIhPj4ehYWFMBgMGB0dlbSo9vZ2pKWlYfny5UhJScHVq1cl/XzGZiI6FF988QVSU1Px\n",
              "0ksvAQCuXr2KDRs2SFpUfn4+8vLy0NbWhp07dyI3N1fSz2dsJqJDUVxcjIsXLwq31jcajfjzzz8l\n",
              "K8hsNuPChQt4/vnnAQAbN25Ed3c3Ojo6JPsOxmYiep/Cz88PKpXKYdzixYslK6i7uxtqtVq4GYJM\n",
              "JkNUVBS6uroQGxvrMC8/3ovNB9GhCAkJQV9fn3BW++zZswgLC5O8MFcUFxdjz549DuNWrFiBoqIi\n",
              "h3E2mw3q8+exdu3aSZfOFhWdnfc63c1ms+H8NO31dtlTjLPZbFi3bt+U7dVqtdi+fbu4LxH75Mim\n",
              "piZas2YNKZVKSk9Pp4ceeoh++eUXyZ5M2dfXRyEhITQ2NkZERHa7nSIiIoRncN9tZGSELBaLwzAy\n",
              "MjJpPovFQgDIYrFIVudCxu2dG1FrCrvdDpvNhvr6evz4448gIqSlpTk8umuuli5disTERBw9ehS5\n",
              "ubk4fvw4NBrNpE0nYOIeVHK5XLLvZgwAZETTPG5oGkajcd4vP21tbUVubi76+/uhUChQWVmJ+Pj4\n",
              "WX/e4OAglEolLBaLcGdDX8btnRvR+xR6vR4dHR1T/nJLxWAw4Keffpq3z2dsJqJDMTAwgNWrVyMt\n",
              "LQ3BwcHC+NraWkkLk5JcLsfu3bv/bza1uL1z4/LmU15eHioqKnD48GHcunUL999/v8P0F198UZKC\n",
              "GPM0l0ORmJiIixcvTvqbMV8zq75PIvfNGfMqLu9TDA8Po6WlRbgz4J2/70hISJiXAhlzO1dPaGi1\n",
              "WtLpdFMOy5Ytk+SkyVy1tbXRunXrSK/XU3JyMl25cmXK+T755BOKjY2l6Oho2rp1K42Ojrq5Umm4\n",
              "0t76+noKDAwko9EoDENDQx6odu4KCwtJq9USgBlPGM91+Yo+o72QZWRkUGVlJRERff7555ScnDxp\n",
              "ns7OTlKr1WQymchut9OTTz5JZWVlbq5UGq60t76+noxGo3sLmycNDQ3U3d1NWq122lBIsXx9JhSu\n",
              "dg/58MMPKT8/X3h96tQpSk9Pd2utUnC1vb4UijtmCoUUy9dn7vs0U+/au3V1dUGr1QqvdTrdpHm8\n",
              "gavtBYDff/8diYmJSElJwaFDh9xdqltJsXz5YXU+LjExET09PVAqlejp6UFmZibCw8OxadMmT5e2\n",
              "YPnMmiIyMhImkwnj4+MAJg4bd3V1TXqYTFRUlMNFUTdu3PDKB8642l6FQgGlUgkA0Gg02Lx5M86d\n",
              "O+f2et1FiuXrM6G4u3ctgGl7127cuBFfffUVent7QUQoLy/Hs88+64mS58TV9ppMJuH+v1arFSdP\n",
              "nsSaNWvcXq+7SLJ8Z7uzsxBdv36dUlNTSa/XU1JSEl2+fJmIiF5++WU6ceKEMF9FRQVFR0dTdHQ0\n",
              "bdmyxWsPybrS3oMHD9KqVasoISGBVq1aRbt37ya73e7JsmctLy+PHn74YfLz86OlS5dSTEwMEUm/\n",
              "fEV3HWfM1/nM5hNjUuFQMOaEQ8GYEw4FY044FIw54VAw5oRDwZgTDgVjTjgUjDnhUDDmhEPBmJP/\n",
              "AVtInd4oFSaNAAAAAElFTkSuQmCC\n",
              "\">\n",
              "        \n",
              "      </div>\n",
              "      <script></script>\n",
              "      <script type=\"text/javascript\">\n",
              "        (() => {\n",
              "          const chartElement = document.getElementById(\"chart-14066b1a-9251-4421-a7b9-2277c1888f7b\");\n",
              "          async function getCodeForChartHandler(event) {\n",
              "            const chartCodeResponse =  await google.colab.kernel.invokeFunction(\n",
              "                'getCodeForChart', [\"chart-14066b1a-9251-4421-a7b9-2277c1888f7b\"], {});\n",
              "            const responseJson = chartCodeResponse.data['application/json'];\n",
              "            await google.colab.notebook.addCell(responseJson.code, 'code');\n",
              "          }\n",
              "          chartElement.onclick = getCodeForChartHandler;\n",
              "        })();\n",
              "      </script>\n",
              "      <style>\n",
              "        .colab-quickchart-chart-with-code  {\n",
              "            display: block;\n",
              "            float: left;\n",
              "            border: 1px solid transparent;\n",
              "        }\n",
              "\n",
              "        .colab-quickchart-chart-with-code:hover {\n",
              "            cursor: pointer;\n",
              "            border: 1px solid #aaa;\n",
              "        }\n",
              "      </style>"
            ]
          },
          "metadata": {}
        },
        {
          "output_type": "display_data",
          "data": {
            "text/plain": [
              "import numpy as np\n",
              "from google.colab import autoviz\n",
              "\n",
              "def histogram(df, colname, num_bins=20, figscale=1):\n",
              "  from matplotlib import pyplot as plt\n",
              "  df[colname].plot(kind='hist', bins=num_bins, title=colname, figsize=(8*figscale, 4*figscale))\n",
              "  plt.gca().spines[['top', 'right',]].set_visible(False)\n",
              "  plt.tight_layout()\n",
              "  return autoviz.MplChart.from_current_mpl_state()\n",
              "\n",
              "chart = histogram(X, *['cp'], **{})\n",
              "chart"
            ],
            "text/html": [
              "      <div class=\"colab-quickchart-chart-with-code\" id=\"chart-6632d60c-24a8-4aa4-9f63-e7879e6ce4c2\">\n",
              "        <img src=\"data:image/png;base64,iVBORw0KGgoAAAANSUhEUgAAAMQAAABgCAYAAABCK92TAAAAOXRFWHRTb2Z0d2FyZQBNYXRwbG90\n",
              "bGliIHZlcnNpb24zLjcuMSwgaHR0cHM6Ly9tYXRwbG90bGliLm9yZy/bCgiHAAAACXBIWXMAAA9h\n",
              "AAAPYQGoP6dpAAAK7ElEQVR4nO3de0xTZx8H8G8LrMJsi1bUGm4qUnEiCJtxkGj8Z4u+iWh1yVw2\n",
              "QRIhi45tmOhrNHFzRt4/DAFN2NQ/ADUx3vCKl22GLCHbELmokcglGxfHpYxL8VJQyvP+wet5T6Vg\n",
              "n3La03a/T9Kk5xx6+gXyyznPeZ7zHAVjjIEQAgBQyh2AEE9CBUGICBUEISJUEISIUEEQIkIFQYgI\n",
              "FQQhIlQQhIhQQRAiQgVBiAgVBCEiVBCEiFBB+ACLxYK9e/ciOjoaarUa8+bNQ3FxMYqKihAaGor8\n",
              "/HyEhoZCp9MhPT0dT58+lTuyx6KC8AFbt27Fjz/+iMuXL2NgYADl5eWIjY0FAHR2dqK2thb19fW4\n",
              "f/8+Hjx4gK+//lrmxB6MEa/W3d3NALDKysox2woLC5lSqWT9/f3CuuvXr7OAgAA2PDzszpheg44Q\n",
              "Xu7PP/8EABgMBrvbp02bBq1WKyzPnTsXL1++RFdXl1vyeRsqCC8XGRkJAGhoaLC7va+vD2azWVhu\n",
              "bm5GQEAAZs2a5Y54XocKwsuFhIRg06ZN2LZtG+rr6wEAHR0dqK6uBgAoFArs2LEDz549Q3t7O/bt\n",
              "24fPPvsMfn5+csb2WFQQPuD48eNYuXIlVq9ejalTpyI5ORkPHz4EAMyePRuxsbGIjo7G4sWLERMT\n",
              "g7y8PHkDezAFY3RPta8qKirC3r178fjxY7mjeA3uI8StW7dckYMQj8BdEPv374fBYEB+fj4GBgZc\n",
              "kYkQ2Th1ylRTU4OCggJcvXoVRqMR27dvx6JFi1yRjxC3mlQbora2FmvXrkV7eztWrVqF3NxcoYeU\n",
              "EG/k1FWmn3/+GSkpKTAajdi2bRs6OzuRmZmJ9evXS52PELfiPkLExMRgxowZyMrKgtFotLmevXr1\n",
              "aty4cUPykIS4C3dBVFVVITEx0VV5CJEV9ylTVVUVent7heWenh4cP35c0lCTkZ+fL3cE4sW4C6Kg\n",
              "oADTp08XlnU6HQoKCiQNNRktLS1yRyBezJ/3A/bOsKxWqyRhXCny36V21zf/519uTkI8GfcRQq/X\n",
              "4+zZs8LymTNnoNfrJQ1FiFy4jxB5eXlISUnBzp07AQBBQUG4fPmy5MEIkQN3QSxcuBB1dXXCUGOD\n",
              "wUBDiYnP4C4IYHSMfXBwMIaHh/HXX38BAMLDwyUNRogcuAuiqKgIWVlZCAgIgFI52gRRKBQwmUyS\n",
              "hyPE3bgL4rvvvkNlZeW49/AS4s24rzLNmDHD4WLIyspCZGQkFAoFamtrhfWNjY1ISkpCdHQ03nvv\n",
              "PeHurjdtI8TVuAti3bp1yMvLg8lkwsDAgPCyZ+PGjSgvL0dERITN+szMTGRkZKChoQG7du1CWlqa\n",
              "Q9sIcTXusUyv2g3AaNuBMQaFQjFh51xkZCQuXbqE+Ph4mEwmREVFobe3F/7+/mCMQa/Xo7y8HBqN\n",
              "ZtxtUVFRDuXLzs5Gbm7u2AzUMUccwN2GGBkZmdQXtrW1Qa/Xw99/9KsVCgXCw8PR2toKrVY77jZ7\n",
              "BTE0NIShoSGbdd7Qa048l1P3Q1RVVeHkyZMAgP7+fnR0dEgaylE5OTnQarU2rzt37siShfgGpwb3\n",
              "paen45tvvgEwOtr1k08+cfjzYWFh6OjowPDwMIDRsVGtra0IDw+fcJs9u3fvhtlstnktW7aM91ci\n",
              "RMBdEMeOHcPvv/8OjUYDAJg/fz66u7sd/vzMmTORkJCAU6dOAQAuXLiA0NBQREVFTbjNHpVKBY1G\n",
              "Y/OiXnMyGdxtCJVKhcDAQNud+NvfTWZmJkpLS9HZ2YkPP/wQarUaTU1NOHr0KNLS0nDw4EFoNBoU\n",
              "FhYKn5loG5HHP+mCBHdBhISEoKGhAQqFAsBoz/V4pzRHjx61u95gMOC3337j3kaIqzk12nXTpk14\n",
              "9OgRwsLCoNFocO3aNVdkI8TtuAsiKioKFRUVqK+vB2OMRrsSn8JdEK2trQCAt99+GwBotCvxKdwF\n",
              "kZiYKPRQDw4O4vnz59DpdDTalfgE7oJ4/RJrSUkJ7t27J1kgQuQ06edDGI1GlJbavyxHiLfhPkKI\n",
              "R7ZarVZUVFTQLODEZ3AXRHBwsNCG8PPzw4IFC3D48GFXZCPE7dw+2pX83z+pB9hb0DPmCBHhPkIo\n",
              "lUph2IaYIzcKEeLpuAti//79sFgs+PzzzwEAP/zwAwIDA/HVV19JnY0Qt+MuiIsXL6KqqkpYPnDg\n",
              "ABITE7Fnzx5JgxEiB+42xJMnT2x6pU0mE548eSJpKELkwn2E2LFjB+Li4rBmzRoAwM2bN4W75whx\n",
              "F1ddoeMuiMzMTCQnJ6OsrAzA6CwX77zzzqRCEOIpnLrsqtPpEBsbiy+++AIGgwEvXryQNBRNVkbk\n",
              "wl0Q58+fx/Lly7FlyxYAwMOHD7Fu3TpJQ9FkZUQu3AWRk5OD6upqBAcHAwDi4uIkfYyVyWTC3bt3\n",
              "8emnnwIANmzYgLa2NjQ1NUn2HYSMh7sN4efnB51OZ7PurbfekizQRBOZvT77Bk1URqTGXRBqtRpd\n",
              "XV1Cb/Xt27dtHsLoTjk5Ofj2229t1i1cuBDZ2dk266xWK/R37mDZsmVjbnfNzr7t8pzjMYreW61W\n",
              "3PlfRjkz2WOEbb5Xf0NP+du9YrVa8f77B+z+nyMiIvDll1++eceMU2VlJVu6dCnTarUsOTmZzZkz\n",
              "h9XU1PDuZlxdXV1MrVazly9fMsYYGxkZYbNmzWKNjY1jfnZwcJCZzWab1+Dg4JifM5vNDAAzm82S\n",
              "5ZSap2f09HyMSZOR6wgxMjICq9WKsrIy/Prrr2CMISkpSWhPSEE8WVlaWtqEk5WpVCqoVCrJvpsQ\n",
              "7tm/4+LiXH7LaH19PdLS0tDT0yNMVhYbG+v0/gYGBqDVamE2m4UZBz2Np2f09HyANBm52xALFixA\n",
              "U1OTw9PTO4MmKyNy4S6I3t5exMfHIykpCVOnThXWl5SUSBpMSiqVCvv27fPo0ytPz+jp+QBpMjp8\n",
              "ypSRkYFjx46huLgYfX19mDZtms321NRUp0MQ4ikcLoiEhARUV1ePeU+IL3FqLBNnO5wQr+FwG8Ji\n",
              "seDBgwfCjH2v3r+yZMkSlwQkxJ0cPmV69XhduztRKPDHH39IGkwqjY2NSE1Nxd9//w2tVouioiKP\n",
              "Gq6elZWFK1euoKWlBTU1NYiPj5c70hiDg4P4+OOPUVdXh8DAQMycORPff/+9S6808vrggw/Q2dkJ\n",
              "pVIJtVqNw4cPY+nSpfw7mmTnoMdbtWoVKywsZIwxdu7cOfbuu+/KG+g1v/zyC2tra2MRERGS9vhL\n",
              "yWKxsNLSUjYyMsIYY+zIkSNs5cqV8oZ6TV9fn/C+pKSELVmyxKn9+PQ0NN4wcnbFihUIDQ2VO8aE\n",
              "pkyZgjVr1ghnCMuXL0dzc7O8oV4jHi1hNpvHPZt5E+5+CG/CM3KWOC4/Px8pKSlyxxhj8+bNwp2c\n",
              "169fd2ofPl0QRHoHDx5EU1MTbt/2rBG5AHDixAkAQHFxMXbt2uVUUfj0KRPvY37JxA4dOoSSkhLc\n",
              "uHEDQUFBcscZV2pqKsrKytDT08P9WZ8uCN7H/JLx5ebm4vTp0/jpp58kHd0shf7+frS3twvLly5d\n",
              "gk6nc+o+He7Rrt5G6pGzUhM/ulin0wmPLvYkjx8/RlhYGObNmwe1Wg1gdNxQRUWFzMlGtbS04KOP\n",
              "PoLFYoFSqURISAgOHTrk1CVsny8IQnj49CkTIbyoIAgRoYIgRIQKghARKghCRKggCBGhgiBEhAqC\n",
              "EBEqCEJEqCAIEaGCIETkv75xuCYp9ByjAAAAAElFTkSuQmCC\n",
              "\">\n",
              "        \n",
              "      </div>\n",
              "      <script></script>\n",
              "      <script type=\"text/javascript\">\n",
              "        (() => {\n",
              "          const chartElement = document.getElementById(\"chart-6632d60c-24a8-4aa4-9f63-e7879e6ce4c2\");\n",
              "          async function getCodeForChartHandler(event) {\n",
              "            const chartCodeResponse =  await google.colab.kernel.invokeFunction(\n",
              "                'getCodeForChart', [\"chart-6632d60c-24a8-4aa4-9f63-e7879e6ce4c2\"], {});\n",
              "            const responseJson = chartCodeResponse.data['application/json'];\n",
              "            await google.colab.notebook.addCell(responseJson.code, 'code');\n",
              "          }\n",
              "          chartElement.onclick = getCodeForChartHandler;\n",
              "        })();\n",
              "      </script>\n",
              "      <style>\n",
              "        .colab-quickchart-chart-with-code  {\n",
              "            display: block;\n",
              "            float: left;\n",
              "            border: 1px solid transparent;\n",
              "        }\n",
              "\n",
              "        .colab-quickchart-chart-with-code:hover {\n",
              "            cursor: pointer;\n",
              "            border: 1px solid #aaa;\n",
              "        }\n",
              "      </style>"
            ]
          },
          "metadata": {}
        },
        {
          "output_type": "display_data",
          "data": {
            "text/plain": [
              "import numpy as np\n",
              "from google.colab import autoviz\n",
              "\n",
              "def histogram(df, colname, num_bins=20, figscale=1):\n",
              "  from matplotlib import pyplot as plt\n",
              "  df[colname].plot(kind='hist', bins=num_bins, title=colname, figsize=(8*figscale, 4*figscale))\n",
              "  plt.gca().spines[['top', 'right',]].set_visible(False)\n",
              "  plt.tight_layout()\n",
              "  return autoviz.MplChart.from_current_mpl_state()\n",
              "\n",
              "chart = histogram(X, *['trestbps'], **{})\n",
              "chart"
            ],
            "text/html": [
              "      <div class=\"colab-quickchart-chart-with-code\" id=\"chart-64879a29-28be-40dc-b01f-9d2f6b33b0ba\">\n",
              "        <img src=\"data:image/png;base64,iVBORw0KGgoAAAANSUhEUgAAAMQAAABgCAYAAABCK92TAAAAOXRFWHRTb2Z0d2FyZQBNYXRwbG90\n",
              "bGliIHZlcnNpb24zLjcuMSwgaHR0cHM6Ly9tYXRwbG90bGliLm9yZy/bCgiHAAAACXBIWXMAAA9h\n",
              "AAAPYQGoP6dpAAAOkklEQVR4nO3dfUxT1xsH8G8BaYRCUWoFeWmRQp2sghbMhGWMhMXoL5ENs2Sa\n",
              "xeGMujnfhjGZUYc6B8vcCGxucbpYN5eh07HETN2mzqibmyLoUKagTFZEBCPyooMWyvP7w3jTCtZe\n",
              "aIGW55M06e05997nNH16X86590qIiMAYAwB4DXYAjA0lnBCMWeGEYMwKJwRjVjghGLPCCcGYFU4I\n",
              "xqxwQjBmhROCMSucEB5qw4YNePbZZwc7DLfDCeFizz//PNatW+fSdajVanz55ZcuXcdwwQkxyMxm\n",
              "82CHwKxwQrjQG2+8gVOnTuHDDz+ETCaDTCbDrl27EB4ejs8++wxqtRrBwcEAgLq6OsydOxdhYWFQ\n",
              "KpWYM2cObt++LSxr69atiI6ORkBAAMaOHYusrCwAwIwZM2A0GrF06VLIZDLExcXZxLBmzRoolUqE\n",
              "hIRg9erV6OzsFMokEgny8/ORlJQEmUyGqVOn4ty5c0L58ePHkZiYCLlcjuDgYKSkpODu3bsu/MaG\n",
              "AGIulZqaSmvXrhWmDQYDeXt708KFC6mtrY3u379PHR0dpNVqadWqVXTv3j1qa2ujV199ldLT04mI\n",
              "qKqqikaOHEkXL14kIqK2tjY6ceKEsEyVSkU7duywWW9OTg75+PjQunXrqKOjgy5fvkxRUVG0efNm\n",
              "oQ4Aio6OpoqKCuro6KCcnBxSKBTU3NxMRETjxo2jnTt3Und3N5lMJjp9+jTdu3fPZd/VUMBbiEFS\n",
              "UFAAmUwGPz8/HDx4EG1tbdiyZQv8/f0hk8nwwQcf4OjRo7hx4wZ8fHxARKioqEBraytkMhmee+65\n",
              "J65j9OjR2LBhA6RSKSZMmIDVq1dj586dNnVWrFiBiRMnQiqV4t1334WPjw8OHDgAAPD19UV1dTVu\n",
              "3rwJX19fTJs2Df7+/i75PoYKTohBoFQq4efnJ0xfvXoVDQ0NGDVqFIKCghAUFIS4uDhIpVIYjUZE\n",
              "RUVhz549MBgMiIyMRFJSEoqKip64noiICHh7ewvTUVFRqK2ttakTFRUlvPfy8oJKpRLqHDhwAP/8\n",
              "8w/0ej00Gg1ycnLQ1dXV3+YPaT6DHYCn8/Lq+Z/z6GchISFQqVSorq5+7HIyMjKQkZGBrq4uFBcX\n",
              "45VXXoFer0dsbGyv6wCA2tpaWCwWISlqamoQHh5uU6empkZ4393dDaPRKNTR6XT49ttvAQAXLlzA\n",
              "9OnTER4ejoULFz654W6KtxAuFhISgqqqKrt1MjMz0dnZifXr16OlpQUA0NjYiL179wIAKisrcejQ\n",
              "Idy7dw8+Pj6Qy+UAIPzQQ0JCUFlZ2WO5TU1N2LRpE0wmEyorK7FlyxbMnz/fpk5hYSEuX74Ms9mM\n",
              "999/H2azGbNmzYLZbIbBYBAO7OVyOby9veHj4+H/oYN9EOPpzp07R5MmTaKgoCCSy+VkMBgoLCys\n",
              "R70bN27QvHnzKCIiggICAig6OpqWLFlCRETl5eWUnJxMgYGBFBAQQHFxcbR7925h3sOHD1NMTAzJ\n",
              "5XLS6XRE9OCgOiUlhd555x1SKBSkVCopOzubzGazMB8A+vjjj0mv15O/vz8lJibSmTNniIjIZDLR\n",
              "zJkzacyYMeTn50cRERG0Zs0aslgsrvy6Bp2EiK+pHq4kEgmOHDmC9PT0wQ5lyBC9y/Tzzz+7Ig7G\n",
              "hgTRCbFp0yZotVoUFhaitbXVFTExNmhEJ8Tvv/+OPXv24NKlS4iNjcWSJUvw999/uyI25mJExLtL\n",
              "j+jXMcSFCxcwa9Ys3Lx5E2lpacjPz4dOp3NmfIwNqD6ddj169CgyMjKQmZmJt956C7du3cLixYvx\n",
              "0ksvOTs+xgaU6C3EU089BYVCgeXLlyMzM9OmJ3TGjBk4fPiw04NkbKCITojS0lLo9XpXxcPYoBK9\n",
              "y1RaWoqmpiZh+s6dO9ixY0evddVqNbRaLRISEpCQkCD0vF69ehXJycmIjY1FUlISKioqRMVQWFgo\n",
              "NmzGHCO2Jy8+Pr7HZwkJCb3WValUdP78+R6fp6WlkcFgICKiffv2UWJioqgY3n77bVH1GXOU6IEp\n",
              "1MselsVicXj+xsZGnDt3Dr/88gsAYPbs2Vi6dCmuXbsGjUYjNhy3oH7nYK+f13zwvwGOhD2J6F2m\n",
              "0NBQfPfdd8L03r17ERoa+tj68+bNg06nw4IFC3D79m3U1tYiNDRUGCQmkUgQGRkJo9HY6/wmkwmt\n",
              "ra02LzEJyJgYohOioKAA69evh1qthlqtxsaNG7F169Ze6548eRLl5eUoKyuDQqHAa6+9JjrAvLw8\n",
              "yOVym9fZs2dFL4cxR/SpY85isQjDjbVarc2p18epr69HbGwsqqurodFo0NTUJFwJFhoait9++63X\n",
              "XSaTyQSTyWTz2fr1693qwJp3mdxHnzrmJBIJgoKCIJPJUFdX1+vuzv3799Hc3CxMFxUVYfLkyVAq\n",
              "lZgyZQq++eYbAMD333+P8PDwxx4/SKVSBAYG2rwcSUDG+kL0QfWuXbuwfPlyjBgxQrhSSyKRoLGx\n",
              "0aZeQ0MDZs+eDYvFAiLC+PHj8fXXXwMAvvjiC2RlZSE3NxeBgYEwGAxOaMrAeNy/PeC8f3zeogwe\n",
              "0Qnx3nvvoaSkBFqt1m698ePH4/z5872WabVa/PHHH2JXzZjLid5lUigUT0wGxtyV6IR48cUXUVBQ\n",
              "gMbGRptToYx5AtG7TGvXrgUAZGdnQyKRgIggkUi4b4B5BNEJ0d3d7Yo4GBsS+nTatbS0FLt37wYA\n",
              "NDc3o76+3qlBMTZYRCfE559/jtdffx0bNmwA8GC069y5c50dF2ODQnRCbN++HX/++ScCAwMBANHR\n",
              "0TZ3qWbMnYk+hpBKpRg5cqTtQjzwbm72OuCY5xK9hRgzZgyqqqogkUgAPOi5joyMdHpgjA0G0X/t\n",
              "BQUFmDNnDq5cuYKIiAgEBgbixx9/dEVsjA040Qmh0Whw5swZVFZWgogcHu3KmDsQnRAPR7Y+fHBG\n",
              "XV0dAPBuE/MIohNCr9cLPdQdHR3477//EBwc3GO0K2PuSHRCPHqKtbi4GH/99ZfTAmJ9w0PGnaPf\n",
              "50szMzORm5uLjRs3OiMetyb2VC2f2h16RCeE9chWi8WCM2fO8GhX5jFEJ0RQUJBwDOHt7Y2YmBh8\n",
              "8sknroiNsQHHo10Zs8IPXWTMiugthJeXlzBswxpfKMQ8geiE2LRpE9rb2/Hmm28CALZt24aRI0di\n",
              "5cqVzo6NsQEnOiF++OEHlJaWCtObN2+GXq8XLi1lrsOnaV1PdEK0tbWhsbERSqUSwIObF7e1tTk9\n",
              "sIEyXH9k3JHXO9EJsWrVKsTHx2PmzJkAgJ9++km4eo4xdyc6IRYvXoyUlBQcP34cwIO7b8TFxTk9\n",
              "MGcbrlsCJk6fTrsGBwdDp9Nh2bJl0Gq1MJvNopfR36cIMeYKorcQ+/fvx6pVq+Dl5YXr16+joqIC\n",
              "a9aswaFDh0QtZ/HixVi0aBGysrKwf/9+ZGVloaSkRGw4bAANh+MO0QmRl5eHsrIy4YHf8fHx+Pff\n",
              "f0UtYzg+RWiwDMSuoth1DOUEEp0Q3t7eCA4OtvnM19dX1DLsPUXo0YTo7fkQj+v84+OE/hvu36Ho\n",
              "hAgICEBDQ4PQW33s2DGMHj3a6YE9lJeX12No+YQJE5Cdnd2jbuZjlmGxWHD27FlMnTrV4y93dYe2\n",
              "Zmcfc8py7LVVpVJhxYoV4hcq9imNJSUlNHnyZJLL5ZSSkkLjxo3r9Umj9jQ0NFBAQAB1dnYSEVF3\n",
              "dzeNHTuWrl692qNuR0cHtbS02Lw6OjpEra+lpYUAUEtLi6j53BG3tX9EbSG6u7thsVhw/PhxnD59\n",
              "GkSE5ORkBAUFiUpC66cIZWVl2X2KkFQqhVQqFbV8xvpK9DPm4uPjnXLJaGVlJbKysnDnzh3hKUI6\n",
              "na7fy+1Na2sr5HI5WlpahDsOeipua/+IPoaIiYlxytkgfooQG4pEJ0RTUxMSEhKQnJwMmUwmfF5c\n",
              "XOzUwJxJKpUiJydnWOx6cVv7x+FdpkWLFmH79u346quvcPfuXYwaNcqmvC/PoGZsqHE4IaZMmYKy\n",
              "srIe7xnzJH0ayyTyOJwxt+HwMUR7ezsuXrwo3LHv4fuHJk2a5JIAGRtQjnZYqFQqUqvVvb6ioqKc\n",
              "1jHSF8uWLSOVSkUAbDoJq6qqaNq0aRQTE0OJiYl06dIlh8qGsse1VaVSUWxsLMXHx1N8fDzt2bNH\n",
              "KHPHtra3t1NGRgbFxMTQpEmTKD09Xei4bWhooOnTp5NGo6G4uDg6ceKEMJ+9MkeI7qkeik6cOEG1\n",
              "tbWkUqlsfiRpaWlkMBiIiGjfvn2UmJjoUNlQ9ri2PjptzR3b2t7eTgcPHqTu7m4iIvr0008pNTWV\n",
              "iIjmz59POTk5RER09uxZCgsLI7PZ/MQyR3hEQjxk/aOwNzxEzNCRocrRhPCEthI9GDKkUqmIiMjf\n",
              "35/q6+uFsqSkJDpy5MgTyxzhsfdlsjei1l6ZO5s3bx50Oh0WLFgg3JTaU9paWFiIjIwM3LlzB52d\n",
              "nQgJCRHK1Go1jEaj3TJHeWxCDDcnT55EeXk5ysrKoFAoPKpfKDc3F9euXUNeXp7L1+WxCREREYH6\n",
              "+np0dXUBeHCq2Gg0IjIy0m6Zu3oY+4gRI7By5UqcOnUKgP3vwR189NFHKC4uxuHDh+Hn54fg4GD4\n",
              "+Pjg1q1bQp2amhpERkbaLXOUxyaE9YhaADYjau2VuaP79++jublZmC4qKsLkyZMB2P8ehrr8/HwU\n",
              "FRXhyJEjNiOqX375ZWzbtg0AUFJSgrq6OqSmpj6xzCFOON4ZdIsWLaKwsDDy9vYmpVJJ0dHRRER0\n",
              "5coVeuaZZygmJob0ej2Vl5cL89grG8p6a2t1dTUlJCSQTqejp59+mmbNmkXXr18X5nHHttbW1hIA\n",
              "Gj9+vHAqeerUqUREdOvWLXrhhRdIo9HQxIkT6ddffxXms1fmCNHDvxnzZB67y8RYX3BCMGaFE4Ix\n",
              "K5wQjFnhhGDMCicEY1Y4IRizwgnBmBVOCMascEIwZoUTgjEr/wfxOM1+d6BfYQAAAABJRU5ErkJg\n",
              "gg==\n",
              "\">\n",
              "        \n",
              "      </div>\n",
              "      <script></script>\n",
              "      <script type=\"text/javascript\">\n",
              "        (() => {\n",
              "          const chartElement = document.getElementById(\"chart-64879a29-28be-40dc-b01f-9d2f6b33b0ba\");\n",
              "          async function getCodeForChartHandler(event) {\n",
              "            const chartCodeResponse =  await google.colab.kernel.invokeFunction(\n",
              "                'getCodeForChart', [\"chart-64879a29-28be-40dc-b01f-9d2f6b33b0ba\"], {});\n",
              "            const responseJson = chartCodeResponse.data['application/json'];\n",
              "            await google.colab.notebook.addCell(responseJson.code, 'code');\n",
              "          }\n",
              "          chartElement.onclick = getCodeForChartHandler;\n",
              "        })();\n",
              "      </script>\n",
              "      <style>\n",
              "        .colab-quickchart-chart-with-code  {\n",
              "            display: block;\n",
              "            float: left;\n",
              "            border: 1px solid transparent;\n",
              "        }\n",
              "\n",
              "        .colab-quickchart-chart-with-code:hover {\n",
              "            cursor: pointer;\n",
              "            border: 1px solid #aaa;\n",
              "        }\n",
              "      </style>"
            ]
          },
          "metadata": {}
        },
        {
          "output_type": "display_data",
          "data": {
            "text/plain": [
              "<google.colab._quickchart_helpers.SectionTitle at 0x79bb68f59090>"
            ],
            "text/html": [
              "<h4 class=\"colab-quickchart-section-title\">2-d distributions</h4>\n",
              "<style>\n",
              "  .colab-quickchart-section-title {\n",
              "      clear: both;\n",
              "  }\n",
              "</style>"
            ]
          },
          "metadata": {}
        },
        {
          "output_type": "display_data",
          "data": {
            "text/plain": [
              "import numpy as np\n",
              "from google.colab import autoviz\n",
              "\n",
              "def scatter_plots(df, colname_pairs, figscale=1, alpha=.8):\n",
              "  from matplotlib import pyplot as plt\n",
              "  plt.figure(figsize=(len(colname_pairs) * 10 * figscale, 10 * figscale))\n",
              "  for plot_i, (x_colname, y_colname) in enumerate(colname_pairs, start=1):\n",
              "    ax = plt.subplot(1, len(colname_pairs), plot_i)\n",
              "    df.plot(kind='scatter', x=x_colname, y=y_colname, s=(32 * figscale), alpha=alpha, ax=ax)\n",
              "    ax.spines[['top', 'right',]].set_visible(False)\n",
              "  plt.tight_layout()\n",
              "  return autoviz.MplChart.from_current_mpl_state()\n",
              "\n",
              "chart = scatter_plots(X, *[[['age', 'sex'], ['sex', 'cp'], ['cp', 'trestbps'], ['trestbps', 'chol']]], **{})\n",
              "chart"
            ],
            "text/html": [
              "      <div class=\"colab-quickchart-chart-with-code\" id=\"chart-62111643-24c8-4ec6-8486-8f654d15fb2a\">\n",
              "        <img src=\"data:image/png;base64,iVBORw0KGgoAAAANSUhEUgAAA+MAAAD2CAYAAAC9d1ZlAAAAOXRFWHRTb2Z0d2FyZQBNYXRwbG90\n",
              "bGliIHZlcnNpb24zLjcuMSwgaHR0cHM6Ly9tYXRwbG90bGliLm9yZy/bCgiHAAAACXBIWXMAAA9h\n",
              "AAAPYQGoP6dpAACLcklEQVR4nO3de3wU1fk/8M/Mzt5y2VwhAZIQQgAFhBCuIoh4pdqClUvVqqSC\n",
              "RC3l61erYq0arQWr1tZqlVgsfpWfVC6KqWhrqaggICAENComQEgCuUBum032Njvn98dmh91kN9lN\n",
              "9p7n/XrtC/bM7OyZmd3JPnPOeQ7HGGMghBBCCCGEEEJI0PChrgAhhBBCCCGEEDLQUDBOCCGEEEII\n",
              "IYQEGQXjhBBCCCGEEEJIkFEwTgghhBBCCCGEBBkF44QQQgghhBBCSJBRME4IIYQQQgghhAQZBeOE\n",
              "EEIIIYQQQkiQUTBOCCGEEEIIIYQEGQXjhBBCCCGEEEJIkEVFMP7iiy+GugqEkACh7zch0Yu+34RE\n",
              "N/qOE9KzqAjGT58+HeoqEEIChL7fhEQv+n4TEt3oO05Iz6IiGCeEEEIIIYQQQiIJBeOEEEIIIYQQ\n",
              "QkiQUTBOCCGEEEIIIYQEWUCD8VWrViE7Oxscx6G0tNTjeq+//jpGjRqFkSNH4q677oLVag1ktQgh\n",
              "fnLttddiwoQJyMvLw+zZs3HkyBG369F3nJDwZjKZcOONN2L06NGYOHEirrnmGlRUVAAAGhoaMG/e\n",
              "PIwaNQrjx4/H559/Lr+up2WEEEII6VlAg/FFixZhz549GD58uMd1Tp06hcceewy7d+9GRUUF6uvr\n",
              "8dprr/mtDhZRQl2rCRZR8ut2mg0W7Pq+Hs0Gi0/rGkwijtW0wGAS3W6n8pwBf/7PcVSeM7j8v+uy\n",
              "o1VN+J+3D+NoVRMA4ExTB/6+5yTONHWgodWEd7+qRkOrqduyrtvp+v7Or/32TAse2XoU355pAQDs\n",
              "Pl6Hn637AruP13Xb7r6KBtyxfj/2VTT0up1d357FT1/ejV3fnnX5f9dlAFBep8fT/yxDeZ2+2/Fw\n",
              "fo+u++z8ut7W7el4dD1fXV8bCP76zAbD5s2bcezYMZSWluL+++9HQUFBt3UC/R0PxjkhxF827avA\n",
              "tKc/xqZ9FaGuSjcrVqzA8ePHcfToUSxYsADLly8HAKxevRozZsxAeXk5NmzYgFtvvVW+odbTMn+I\n",
              "pOshISQy0XWGhBLHGGOBfpPs7Gxs374deXl53ZY999xzOHHiBNatWwcA+PDDD7FmzRrs2bPH6+3f\n",
              "f//9eOGFF7qVl1a3oKikDI3tZqTEqlE0fxzyMhN9rn/X7YxKi8O2r2ogMYDngHvn5uLX147pdV0O\n",
              "gIIHGDioBR6X5qRg1/EGeTuD49Wo05vd1iFWxaPd4v4ioVIAFpv7uqfrXLep0yigN3VfmeeA0Wnx\n",
              "+L6uzatjwgPwdMkSeCDQ17PkWCWa2t3/4Ou6j572uaft8Bwwd8xg7DvZCLMoQS3wGDtEh0Onm+V1\n",
              "Fk/JwHOLJvZzT1z56zMbCm+88Qb+/Oc/d+sF09/vuKfvNwA8uPUothyqkZ8H4pwQ4i/Zq3d0K6t8\n",
              "5oYQ1KR3hw4dwqJFi1BZWYm4uDhUVFQgPT0dADBt2jSsWbMGV199dY/LvNHT9zuSr4eEELuevuPh\n",
              "gK4zJNRCPma8qqrKpeU8OzsbVVVVHtc3m83Q6/UuD5ute6BlESUUlZShprkDKgWPmuYOFJWU+XzX\n",
              "q+t2Tp9vw5ZD9uAaACQGvLKrAs0GS6/rMnQGqYyhw2LDf79vcNmOp0AcgMdAHPAciAPdt+kpKJUY\n",
              "vA7EAc+BOBD4QByAx0Ac6L6Pnva5p+1IDPjv9w3osNjAc4DRYnMJxAFgy6Eav7bG+uszG2x33HEH\n",
              "MjMz8dhjj+Gtt97qttyX77i332/A3iLuHIgD/j8nhPiLp5bwcGwhB+xzAy9YsACNjY2wWq1ysA1c\n",
              "+A73tMwdX77fkXo9JIREDrrOkHAQ8mDcV2vXrkVCQoLL48CBA93Wa2q3oLHdjAStEjEqAQlaJRrb\n",
              "zWhq796tvCddt6NWCvIyjrP/KzGgtKa553WdtqngOfBOBZzzQhJWeA4QeN7lfDnbU3HOb+/lr89s\n",
              "sL355puorq7G008/jYcffrhf2/L2+w14Pvb+PCeE+Muf/nvSp/JQWrNmDSoqKrB27Vq/bteX73ek\n",
              "Xg8JIZGDrjMkHIQ8GM/KysLp06fl55WVlcjKyvK4/iOPPILW1laXx7Rp07qtlxyrQkqsGq1GKzos\n",
              "IlqNVqTEqpEcq/Kpfl23Y7aK8jJHB3+eA/Iyknpe12mbNonJLeLO2yHhR2KAKEku58vZrNxBfnsv\n",
              "f31mQ2Xp0qXYtWsXGhsbXcp9+Y57+/0GPB97f54TQvzlf6/K8ak8VJ5//nm8++67+OijjxATE4OU\n",
              "lBQIgoC6ujp5Hcd3uKdl7vjy/Y706yEhJPzRdYaEg5AH4wsXLkRJSQnq6urAGMO6detw8803e1xf\n",
              "rVZDp9O5PBQKRbf1VAKPovnjkJEUA4tNQkZSDIrmj4NK8G2Xu25neGo8Fk/JkFtKHWPGk+JUva7L\n",
              "wT6eGhyHGJUCV1002GU76Tq1x3rEqjzXW9V992Vdt6nTuF+Z54CL0uM9b6jr+j0s8/EQ90lyrNLj\n",
              "sq776Gmfe9oOzwFXXTQYMSoFJAZoVQpMGZ7kss7iKRkYnKDxodY989dnNlhaWlpw9uxZ+fn27duR\n",
              "kpKC5ORkl/V8+Y57+/0GgMEJGiyekuFS5u9zQoi/3HJprk/lofDCCy9g06ZN+M9//oPExES5fPHi\n",
              "xXLOh4MHD+LMmTOYM2dOr8u68uX7HWnXQ0JI5KHrDAkLLIBWrFjBhg0bxhQKBRs8eDAbOXIkY4yx\n",
              "ZcuWsffff19e77XXXmM5OTksJyeH3Xnnncxisfj0Pv/7v//rcZnZamO1LUZmttr6thMettPUZmaf\n",
              "fFfHmtrMPq3bZrSyo9XNrM1odbudUw1t7E8ff89ONbS5/L/rstLTjWzV//uKlZ5uZIwxVtPYzl7f\n",
              "fYLVNLaz+hYj23aoitW3GLst67qdru/v/Nqymma2ekspK6tpZowx9vn3tWzJq3vY59/Xdtvu3vJ6\n",
              "dvvf9rG95fW9bueTsjPsxpc+Z5+UnXH5f9dljDH2Q20r+13JN+yH2tZux8P5Pbrus/Prelu3p+PR\n",
              "9Xx1fW0g+OszG2iVlZVs6tSpbPz48WzChAnsqquuYkeOHGGM+fc73tP3m7HgnBNC/OXtveVs6u/+\n",
              "zd7eWx7qqriorq5mAFhOTg6bOHEimzhxIps2bRpjjLG6ujp2zTXXsNzcXDZ27Fj2ySefyK/raZk3\n",
              "evt+R8r1kBDiXm/f8XBA1xkSSkHJph5o4Z6pkRDSd/T9JiR60febkOhG33FCekb9MAghhBBCCCGE\n",
              "kCCjYJwQQgghhBBCCAkyCsYJIYQQQgghhJAgo2CcEEIIIYQQQggJMgrGCSGEEEIIIYSQIKNgnBBC\n",
              "CCEkRCyihLpWEyyiFOqqEEIICTIh1BUghBBCCBmISqtbUFRShsZ2M1Ji1SiaPw55mYmhrhYhhJAg\n",
              "oZZxQgghhJAgs4gSikrKUNPcAZWCR01zB4pKyqiFnBBCBhAKxgkhhBBCgqyp3YLGdjMStErEqAQk\n",
              "aJVobDejqd0S6qoRQggJEgrGCSGEEEKCLDlWhZRYNVqNVnRYRLQarUiJVSM5VhXqqhFCCAkSCsYJ\n",
              "IYQQQoJMJfAomj8OGUkxsNgkZCTFoGj+OKgE+mlGCCEDBSVwI4QQQggJgbzMRGwuvBRN7RYkx6oo\n",
              "ECeEkAGGgnFCCCGEkBBRCTzSEzShrgYhhJAQoFuwhBBCCCGEEEJIkFEwTgghhBBCCCGEBBkF44QQ\n",
              "QgghhBBCSJBRME4IIYQQQgghhAQZBeOEEEIIIYREuezsbIwZMwZ5eXnIy8vDO++8AwAoLy/HzJkz\n",
              "MXr0aEydOhVlZWXya3paRgjpPwrGCSGEEEIIGQDeeecdlJaWorS0FD/72c8AAIWFhVixYgV++OEH\n",
              "PPzwwygoKJDX72kZIaT/KBgnhBBCCCFkAGpoaMChQ4dw2223AQAWLlyI6upqVFRU9LiMEOIfFIwT\n",
              "QvrEZDLhxhtvxOjRozFx4kRcc801bv9AV1ZWQqFQyN3i8vLycOLEiRDUmBBCCBnY7rjjDlxyySVY\n",
              "tmwZzp07h+rqagwZMgSCIAAAOI5DVlYWqqqqelzmjtlshl6vd3nYbLag7RshkYiCcUJIn61YsQLH\n",
              "jx/H0aNHsWDBAixfvtztevHx8XK3uNLSUowcOTLINSWEEEIGts8//xzHjh3D4cOHkZqaiqVLl/p1\n",
              "+2vXrkVCQoLL48CBA359D0KiDQXjhJA+0Wg0uP7668FxHABgxowZqKysDG2lCCGEEOJWVlYWAECp\n",
              "VOK+++7D7t27kZmZidraWoiiCABgjKGqqgpZWVk9LnPnkUceQWtrq8tj2rRpwdk5QiIUBeOEEL94\n",
              "8cUXsWDBArfL2tvbMXXqVOTn5+Opp57y2G2NurgRQggh/tfe3o6Wlhb5+aZNmzBp0iQMHjwY+fn5\n",
              "2LhxIwBg27ZtyMjIQG5ubo/L3FGr1dDpdC4PhUIR8H0jJJJRME4I6bc1a9agoqICa9eu7bZsyJAh\n",
              "OHPmDA4ePIidO3di9+7d+OMf/+h2O9TFjZDQWbVqFbKzs8FxHEpLS+XyDz/8EPn5+cjLy8P48ePx\n",
              "f//3f/KyhoYGzJs3D6NGjcL48ePx+eefh6DmhJDe1NfXY+7cuZgwYQIuueQSfPbZZ3jzzTcBAMXF\n",
              "xSguLsbo0aPxzDPPYMOGDfLrelpGCOk/IdQVIIREtueffx7vvvsudu7ciZiYmG7L1Wo1Bg8eDABI\n",
              "Tk7GnXfeibfffhsPPfRQt3UfeeQR3H///S5ljz32WGAqTghxsWjRIjz00EOYNWuWXMYYw2233YZP\n",
              "P/0UEyZMQGVlJS666CLcdNNNiI+Px+rVqzFjxgz861//wsGDB/HTn/4Up06dglKp9EudDCYRJ88b\n",
              "kJMahzgN/WSJZBZRQlO7BcmxKqgEagsKtpycHBw5csTtsjFjxmDfvn0+LyOE9F9A/7KVl5dj6dKl\n",
              "OH/+PBISEvDGG29g3LhxLutIkoRf//rX+Ne//gVBEJCSkoK//e1vHrvAEELCxwsvvIBNmzZh586d\n",
              "SExMdLtOQ0MDkpKSoFQqYTab8e6772LSpElu11Wr1VCr1S5l1MWNkOC4/PLL3ZZzHCd3b9Xr9UhJ\n",
              "SZG/p5s3b5ZnUZg6dSqGDh2Kzz77DFdffXW/67P5UDWKSspgFiWoBR5F88dhyZTMfm+XBF9pdQuK\n",
              "SsrQ2G5GSqwaRfPHIS8zMdTVIoSQkAvorcnCwkKsWLECP/zwAx5++GEUFBR0W6ekpARffPEFjh49\n",
              "imPHjuGqq67Cb37zm0BWixDiBzU1NXjggQfQ0tKCuXPnIi8vD9OnTwcAPP7441i3bh0AYM+ePZg0\n",
              "aRImTpyI/Px8pKen49FHHw1l1QkhXuI4Du+88w5uuukmDB8+HLNmzcL//d//QaVSobGxEVarFenp\n",
              "6fL62dnZfpn2yGASUVRSBqPFBp4DjBYbikrKYDCJAdlPEjgWUUJRSRlqmjugUvCoae5AUUkZLKIU\n",
              "6qoRQkjIBaxlvKGhAYcOHcLHH38MAFi4cCFWrlyJiooKl1ZvjuNgNpthMpkgCAL0ej0yMjICVS1C\n",
              "iJ9kZGSAMeZ22VNPPSX//6abbsJNN90UrGoRQvxIFEU8/fTTePfdd3H55Zfj4MGDmD9/Pr7++mt5\n",
              "JgVvrV27Fk8++aRL2YwZM9yue/K8AWZRgqDgIPA8AAlmUcLJ8wZMyEjs496QUGhqt6Cx3YwErRIx\n",
              "KvvPzsZ2M5raLUhP0IS4doQQEloBaxmvrq7GkCFDIAj2Cy/HccjKyup2x/wnP/kJrrjiCqSnp2PI\n",
              "kCH473//6/JDvivKtkwIIYQER2lpKc6ePSt3YZ86dSoyMjJw5MgRpKSkQBAE1NXVyetXVlb6Zdqj\n",
              "nNQ4qAUeoo3BarNBtDGoBR45qXH+30kSUMmxKqTEqtFqtKLDIqLVaEVKrBrJsapQV83vLKKEulYT\n",
              "tfoTQrwW8gwahw4dwjfffIMzZ87g7NmzuOqqq3D33Xd7XJ+yLRNCCCHB4Zhn+LvvvgMAVFRU4MSJ\n",
              "ExgzZgwAYPHixfKQlIMHD+LMmTOYM2eO2235Mu1RnEbAnbNGgOMAUQI4Drhz1ghK4haBVJ3j/TOS\n",
              "YmCxSchIikHR/HFRl8SttLoFS4r3YXHxXiwp3ofS6pZQV4kQEgEC9lfN8QdcFEUIggDGGKqqqrrd\n",
              "MX/zzTdx5ZVXysmfli5dimuvvdbjdinbMiGEEOJ/hYWF2LFjB+rq6nDdddchPj4eFRUVeO2117Bk\n",
              "yRLwPA9JkvDyyy/Lf8v/8Ic/4Pbbb8eoUaOgUqmwceNGv2RSt4gS9pSfR1KMEhqlAiarDXvKz2PV\n",
              "laOiLogbCPIyE7G58NKozabuPC4+QauUx8VvLrw06vaVEOJfAQvGBw8ejPz8fGzcuBEFBQXYtm0b\n",
              "MjIyumVJz8nJwYcffohf//rXUKlU+OCDDzB+/HiP26Vsy4QQQoj/FRcXuy2/5ZZbcMstt7hdlpaW\n",
              "JueG8SfHOOPEGBViVAI6LCKNM45wKoGP2nNH4+IJIX0V0P5excXFKCgowJo1a6DT6bBhwwYAwPLl\n",
              "yzF//nzMnz8fv/zlL/Hdd99h4sSJUCqVSE9Pl7u8EUIIIWTgcYwzrmnuAAC0Gq3ISIqJynHGJPLR\n",
              "55UQ0lcBDcbHjBmDffv2dStfv369/H+1Wo2//e1vgawGIYQQQiKIY5yxY27qaB1nTKIDfV4JIX1F\n",
              "mVAIIYQQEnbyMhOxcdl0nDxvQE5qHCVvI2Et2sfFE0ICg/6yEUIIISTslFa3yC2NKbFqFM0fh7zM\n",
              "xFBXixCPonlcPCEkMOi2HSGEEELCinN2apWCl7NT0/zNhBBCogkF44QQQggJK12zUydolXJ2akII\n",
              "ISRaUDBOCCGEkLDiyE7darSiwyKi1WhFSqyaslNHMIsooa7VRL0bCCHECQXjhBBCCAkrjuzUGUkx\n",
              "sNgkyk4d4UqrW7CkeB8WF+/FkuJ9KK1uCXWVCCEkLFACN0IIIYSEHcpOHR2cx/8naJXy+P/NhZfS\n",
              "OSWEDHh0FSSEEEJIWLKIEhraqGtzJBtI4/8NJhHHalpgMImhrgohJEJQyzghhBBCws7mQ9UoKimD\n",
              "WZSg7uy2vmRKZqirRXzkGP9f09wBAGg1WpGRFBN14//p80oI6QtqGSeEEEJIWDGYRBSVlMFosYHn\n",
              "AKPFhqKSMmpxjEADYfw/fV4JIX1FLeOEEEIICSsnzxtgFiUICg4CzwOQYBYlnDxvwISMxFBXj/go\n",
              "2sf/0+eVENJX0XU1JIQQQkjEy0mNg1rgIdoYREmCaGNQCzxyUuNCXTXSRyqBR3qCJuoCcYA+r4SQ\n",
              "vou+KyIhhBBCIlqcRkDR/HHQqhSQGKBVKVA0fxziNNShj4Qf+rwSQvqKrhKEEEIICTtLpmTi+vFD\n",
              "cPK8ATmpcRTYkLBGn1dCSF/QlYIQQgghYSlOI9CYWxIx6PNKCPEVdVMnhPSJyWTCjTfeiNGjR2Pi\n",
              "xIm45pprUFFR4XbdDz74ABdddBFGjRqFm266CXq9Psi1JYREIosooa6V5hknhBASnSgYJ4T02YoV\n",
              "K3D8+HEcPXoUCxYswPLly7utYzAYsGzZMmzfvh3l5eUYOnQofve73/mtDg9uOoTs1Tvw4KZDftsm\n",
              "IYGy8KX/IHv1Dix86T+hrkrYK61uwZLifVhcvBdLivehtLol1FUihJCQoBuT0YuCcUJIn2g0Glx/\n",
              "/fXgOA4AMGPGDFRWVnZb76OPPsKkSZNw0UUXAQDuvfdebNq0yS91yF69A1uO1gMAthytR/bqHX7Z\n",
              "LiGBkL16B746YwEAfHXGQp/XHlhECUUlZahuagcPoLqpHUUlZfRDlBAy4NCNyehGwTghxC9efPFF\n",
              "LFiwoFt5VVUVhg8fLj/Pzs5GbW0tRFHstq7ZbIZer3d52Gw2t+/nqSWcWshJOPLUEk4t5O41tVtw\n",
              "ttUIg9mGs62mzn+NaGq3hLpqhBASNI4bkzXNHVApeNQ0d9CNyShDwTghpN/WrFmDiooKrF27tl/b\n",
              "Wbt2LRISElweBw4ccLuuo0Xc23JCQsnRIu5t+UAXpxZgMInyD06LKMFgEhGnpryzhJCBo6ndgsZ2\n",
              "MxK0SsSoBCRolWhsN9ONyShCwTghpF+ef/55vPvuu/joo48QExPTbXlWVhZOnz4tP6+srMSQIUMg\n",
              "CN1/VD/yyCNobW11eUybNs3t+y6emOZTOSGhNHmYyqfygc5gFhGvEaBS2H+mqBQ84jUCDObuPWoI\n",
              "ISRS9TYWPDlWhZRYNVqNVnRYRLQarUiJVSM51re/HTTmPHxRME4I6bMXXngBmzZtwn/+8x8kJia6\n",
              "XWfevHk4fPgwvv/+ewDAK6+8gptvvtntumq1GjqdzuWhUCjcrvvcLVN8KicklLb96hqfyge65FgV\n",
              "hiRoEa8VMDRBi3iNgCEJWp9/gBJCSLjyZiy4SuBRNH8cMpJiYLFJyEiKQdH8cVAJ3odwNOY8vFEw\n",
              "Tgjpk5qaGjzwwANoaWnB3LlzkZeXh+nTpwMAHn/8caxbtw4AEB8fj/Xr1+PGG29Ebm4uampq8Nhj\n",
              "j/mlDpXP3CC3hC+emIbKZ27wy3YJCYTKZ26QW8InD1PR57UHzj9AJTBkJPv+A5QQ0t2GDRvAcRy2\n",
              "b98OAGhoaMC8efMwatQojB8/Hp9//rm8bk/LSP/4MhY8LzMRmwsvxZbCmdhceCnyMhMD8j4kNGjw\n",
              "FSGkTzIyMsAYc7vsqaeecnk+f/58zJ8/PyD1eO6WKXjuloBsmhC/C+eW8FWrVqGkpASnT5/GkSNH\n",
              "kJeXB8CeWPGBBx7Av//9b2g0GkycOBEbN24EAJSXl2Pp0qU4f/48EhIS8MYbb2DcuHF+qY/jB2hT\n",
              "uwXJsSoKxAnpp8rKSvztb3/DjBkz5LLVq1djxowZ+Ne//oWDBw/ipz/9KU6dOgWlUtnjMtI/XceC\n",
              "A5DHgqcnaLqtrxJ4t+X+fh8SfPSXjRBCCCFYtGgR9uzZ4zL7AWD/sc5xHH744Qd8/fXXeP755+Vl\n",
              "hYWFWLFiBX744Qc8/PDDKCgo8GudWtot2FtxDi1RnKzIYBJxrKYFBlN0j4dvNliw6/t6NBvoXIaC\n",
              "JElYvnw5XnrpJajVarl88+bNuPvuuwEAU6dOxdChQ/HZZ5/1uoz0j7/GgofL+5C+o5ZxQgghhODy\n",
              "yy/vVtbe3o7XX38dNTU14DgOAJCeng7A3oX10KFD+PjjjwEACxcuxMqVK1FRUYHc3Nx+1+fBrUex\n",
              "5VCN/HzxlAw8t2hiv7cbTjYfqkZRSRnMogR1Z9f8JVMyQ10tv3v+4+N4ZVcFJAbwHHDv3Fz8+tox\n",
              "oa6WX4X7uXzhhRdw2WWXYfLkyXJZY2MjrFar/J0G7NOPVlVV9bjME7PZDLPZ7FLmaXrSgc4xFKeo\n",
              "pAyN7eY+jQUPp/chfUfBOCGEEELcOnHiBJKTk7FmzRrs3LkTWq0WRUVFuOqqq1BdXe0yMwLHccjK\n",
              "ykJVVZXbYNyXH+oNrSaXQBwAthyqwYPXjMHgKOlaaTCJKCopg9Fig6DgYLTYUFRShuvHD0GcJnp+\n",
              "njUbLHIgDgASA17ZVYFlM0cgKS46WufC/Vx+88032LZtW8DHfK9duxZPPvmkS5lzl3jiypehOBZR\n",
              "6vOQHRryE94CejbKy8sxc+ZMjB49GlOnTkVZWZnb9b7++mtcccUVuPjii3HxxRfj3XffDWS1CCGE\n",
              "EOIFURRx+vRpjB07FocOHcJf/vIX/OxnP0N9fb3P21q7di0SEhJcHgcOHHC77p6Kcz6VR6KT5w0w\n",
              "ixIEBQeB5yEoOJhFCSfPG0JdNb8qrWmWA/HOzhWQmL08WoT7udy9ezcqKysxatQoZGdnY//+/Vix\n",
              "YgU2b94MQRBQV1cnr1tZWYmsrCykpKR4XOaJL9OTEjvHWPCeAmR/ZEP35n1IaAT0jHgzlqyjowML\n",
              "FizA008/je+++w7ffPMNZs+eHchqEUIIIVHv8ccfR0tLCxhjuOGGG5Camopt27b5tI2srCzwPI+f\n",
              "//znAIBJkyZhxIgR+Prrr5GZmYna2lqIon18LGMMVVVVHn+s+/JDfVbuIJ/KI1FOahzUAg/RxiBK\n",
              "EkQbg1rgkZMaF+qq+VVeRhL4ziDckfOT5+zl0SLcz+U999yD2tpaVFZWorKyEjNmzMBrr72Ge+65\n",
              "B4sXL5ZnPzl48CDOnDmDOXPmAECPy9zxZXpS4h3Khh79AhaMO8aS3XbbbQDsY8mqq6tRUVHhst7b\n",
              "b7+NGTNmYNasWQAAhUKBQYOi548tIYQQEgrvv/8+EhMTsXPnTgiCgC+++AJPP/20T9tITU3FVVdd\n",
              "hX//+98AgFOnTuHUqVO4+OKLMXjwYOTn58uZ1bdt24aMjAyP48V9+aE+OEGDxVMyXMoWT8mImi7q\n",
              "ABCnEVA0fxy0KgUkBmhVChTNHxcW3Zr9KSlOhXvn5soBuWPMeLR0UQci+1z+4Q9/wN69ezFq1CgU\n",
              "FBRg48aNcrb0npaR4OiaDT1Bq5SzoZPoELCrhLdjyb799luo1Wr8+Mc/Rk1NDSZMmIA//vGPHgNy\n",
              "Sg5BCCGE9I7n7ffbP/vsMyxevBhjxoyRk7C5U1hYiB07dqCurg7XXXcd4uPjUVFRgXXr1mHZsmV4\n",
              "+OGHwfM8iouLMWzYMABAcXExCgoKsGbNGuh0OmzYsMFv9X9u0UQ8eM0Y7Kk4h1m5g6IqEHdYMiUT\n",
              "11yUhtKaZuRlJEVVgOrs19eOwbKZI6J6P5dMycT144fg5HkDclLjwjoQ//TTT+X/p6WlyUkYu+pp\n",
              "GQkORzb0muYOAECr0YqMpBjKhh5FQn6lEEURO3fuxP79+zF06FD85je/wT333IOtW7e6XZ+SQxBC\n",
              "CCG9i42NxR/+8Af84x//wBdffAHGGCwWz60pxcXFbstzcnKwa9cut8vGjBmDffv2+aW+7gxO0OCm\n",
              "yeGTkdrfSqtb5CzHKbFqFM0fh7zMxFBXKyCS4lSYe1FaqKsRUHEaARMyEkNdDRJFKBt69AvYmfR2\n",
              "LFlWVhbmzp2LYcOGgeM43Hbbbdi/f7/H7VJyCEIIIaR3b7zxBmpra/Hss88iLS0NJ06ckIeOkdAb\n",
              "aGNBLaKEulZT1O4fIYHiyIa+pXAmNhdeGrU37AaqgAXj3o4lW7JkCQ4ePAi9Xg8A+PDDDzFxoud5\n",
              "RCk5BCGEENK73Nxc/PnPf8a0adNw5swZ5ObmYvXq1aGuFuk0kMaC+iMbNCEDGWVDj14BPaPFxcUo\n",
              "Li7G6NGj8cwzz8hjyZYvX46SkhIA9pbx3/zmN5g5cyYmTJiATz75RM7cSAghhJC+OXr0KC6++GJM\n",
              "mDABl1xyCcaOHYtjx46Fulqkk2MsaEuHBXqjBS0dFqTEqqNuLOhA6wFACCG+COiYcU9jydavX+/y\n",
              "/Pbbb8ftt98eyKoQQgghA8ry5cvx1FNPYfHixQCArVu3YtmyZTh48GCIa0YAe0vXrdOzUFRShhaj\n",
              "CerO59HW8tW1BwAAuQdAehQm5SOEEF9E1xWfEEIIIQAAk8kkB+IAsGjRom6zkZDQsYgS3v6yCjEq\n",
              "BTIStYhRKfD2l1VR12Ls6AHQarSiwyKi1WiNyh4AhBDSFxSME0IIIVEoPz/fZQqjzz77DJMnTw5d\n",
              "hfrAYBJxrKYFBpMY6qr4nXOLsU6rjNox445s0OkJGrSZRaQnaKI2GzQlqSOE+CrkU5sRQgghxP8O\n",
              "Hz6MjRs3Ijs7GwBQWVmJsWPHIj8/X14ezjYfqkZRSRnMogR1Z0C3ZEr0THM2kOYP/qG+DScb2mEW\n",
              "JRiMIn6ob4u6jNADaZo6Qoj/UDBOCCGERKGXX3451FXoM4NJRFFJGYwWGwQFB6PFhqKSMlw/fgji\n",
              "NNHx02WgzB8sn0tr57m0Rt+5dE5Sl6BVyknqNhdeGpDz6ZiByBOdTuf39yTEIkpoarcgOVYVddep\n",
              "UIqOqyAhhBBCXMyZMwcAUFNTA47jMGzYsBDXyHsnzxtgFiXwPCBJAM8DZlHCyfMGTMhIDHX1/MYx\n",
              "f3A0/8B1PpeMRee5dAw5iFUpYLNJiFUpApqkLjExERzHgTHWbRnHcbDZbH5/TzKwUc+PwPH5ql9e\n",
              "Xt6tzF3GdEIIIYSEjmNqs0suuSTipjbLSY2DJDHYJMDG7P9KEkNOalyoq+Z30T5/cE5qHFjnORQ7\n",
              "zylj0XUuk2NVsIgSTjcZUdlkxOkmIyyiFLAhB5IkwWazQZKkbg8KxIm/0fSEgeXzlf/KK6/E5s2b\n",
              "5efPPvss7rjjDr9WihBCCCH945jarLm5GU1NTXjqqaewbNmyUFfLK1WNBnRt82Od5SSynG8zQepy\n",
              "MiVmL48W7SYRDXrXmQoa9Ga0ByHxYHV1Nd5++228/fbbOHPmTMDfb6DyZ3K+SEv013V6wmhNNhkq\n",
              "Pgfjn376KZ599lncfffd+MlPfoLdu3fjyy+/DETdCCGEENJHkTy12Vv7TvtUTsLX9lL3AaKn8khU\n",
              "WtMs3zziOv9lneWB9P7772PSpEnYvHkztmzZgkmTJuGf//xnQN9zICqtbsGS4n1YXLwXS4r3obS6\n",
              "JSy2FSw0PWFg+RyMjxw5En/84x+xYcMGHD58GK+//jqSk5MDUTdCSAjs378fTz/9NH7/+99j//79\n",
              "HtdbtWoVsrOzwXEcSktL3a7z6aefQqvVIi8vT34YjcYA1ZwQ4iySpza7/dLhPpWT8HVjnvtcBZ7K\n",
              "I1FeRhL4zijcEZTznL08kJ588kns378f27dvx3vvvYe9e/fiiSeeCOh7DjT+7KIdqd29HckmM5Ji\n",
              "YLFJUZtsMlR8TuD2xz/+Ea+88gp27dqFw4cPY8aMGdiwYYOcKIYQErmef/55vPTSS7jpppsAADff\n",
              "fDNWrVqF+++/v9u6ixYtwkMPPYRZs2b1uM0xY8Z4DNYJIf43adIkcBwHq9WKt956CyNGjAAAnDp1\n",
              "CuPHjw9x7bwzdlgi0nVq1Dl1/U3XqTF2WGLoKkX6JHtQHKYMT8Kh0xdaiacMT0L2oOgZM54Up8LC\n",
              "yRnYcqhGLls4OQNJcYFtObTZbMjNzZWf5+bmQpLCO7CLNF27aAPoc3I+f24r2AZCsslQ8TkY37lz\n",
              "Jw4cOICUlBTMnDkTM2fOxC233ILjx48Hon6EkCB67bXXcPjwYaSkpAAAHnvsMcyYMcNtMH755ZcH\n",
              "u3qEEC/8+c9/DnUV+s0iSkhP0MIsSrDZJCgUPNITtLCIEv0IjEBb75mJynMGbC89gxvzhkVVIA7Y\n",
              "P6/l9QYkxyihFniYO58H+vM6ePBgrF+/HnfeeScAYMOGDRg0aFDA3m8gcnTRrmnuAAC0Gq3ISIrp\n",
              "Uxdtf24rFBzJJol/+XyF+PDDD5GSkiKPO8vPz8ehQ4f8XjFCSPDpdDo5EAeA5OTkfs9XeuLECeTn\n",
              "52Pq1Kl45ZVXelzXbDZDr9e7PCgzLCG+mTNnDubMmYMTJ07I/3cuiwSOFqSkGCWGJsUgKYYSBkW6\n",
              "oUkxuHnacAxNigl1VfxO/rzGqpAar0FSrCoon9d169Zh/fr10Gg00Gq1WL9+PdatWxfQ9xxoHF20\n",
              "hyZq0WG1YWiits9dtB3bGpKggcEkYkiChrp7E9+D8W+++Qbjx4/HyJEjAQBfffUVfve73/m9YoSQ\n",
              "4LvyyitRUFCA3bt3Y/fu3Vi2bBmuvvpqHDt2rE9TIuXn56OmpgaHDx/Ge++9h3Xr1rnMxtDV2rVr\n",
              "kZCQ4PI4cOBAf3aJkAHr5Zdf7lb217/+NQQ18V1yrApapQJVTUaUN7ShqskIrVIRMS1IxFUkJq3y\n",
              "RagSXI0cORL79+9HU1MTGhsbsW/fPvn3OfEvDgDHLiTo66sf6ttwoqEd59stONHQjh/q2/xRPRLB\n",
              "fO6m/qtf/Qrr1q3Dr371KwD2H9t33HEHnn32Wb9XjhASXFu2bAFgT/Tk7J133gHHcTh58qRP23Nu\n",
              "Vc/IyMAtt9yC3bt3Y8mSJW7Xf+SRR7p1iX/sscd8ek9CBroDBw5g3759OHfuHP7yl7/I5a2trRGT\n",
              "TR0AGLMnw2IMANf5L4k4zkmrErRKOWnV5sJLo6ZF0NHi+cT73+BcmxnD+tF66qva2lqcOnUKonhh\n",
              "GjUaRubKIkp9Huvs+PyeaTEiQavEmRZjnz+/BpOIopIyGK02CAoORqsNRSVluH78EMRpeg7J+rMP\n",
              "JLz5HIwbDAaXhE0cx0GlojvVhESDF198EbNnz0ZSkj0DbHNzM7744gv8+Mc/7tP2amtrkZaWBp7n\n",
              "0dbWhg8++KDHeY7VajXUarVLmUKh6NN7EzJQ1dbWorS0FB0dHThy5IhcrtPp8MYbb4SuYj5oarfg\n",
              "bIsRNscE1YzhbIsxIhIdEVeRnLTKVwwA4y5kVA+03//+93juueeQk5Mj/63kOI56lDkprW5BUUkZ\n",
              "GtvNSIlVo2j+OORlJnr9en9+fk+eN8AsShAUHASeByDBLEo4ed6ACRme69TffSDhzedgXBAEWK1W\n",
              "cJy9o0Z1dTX9WCYkSjz++OMumc8TExPx+OOPuw3GCwsLsWPHDtTV1eG6665DfHw8KioqsHz5csyf\n",
              "Px/z58/Htm3b8Oqrr0IQBIiiiMWLF+MXv/hFEPeIkIFnwYIFWLBgAT766CP86Ec/CnV1+sRmk9Bu\n",
              "cc0X0W6xwWajTNGRJtKTVnnD0Xp6trP19Gw/Wk998fe//x0nTpxwyfVCLvBHrwx/fn5zUuOgFngY\n",
              "LTYAEkQbg1alQE6q54SGA6FnyUDn81lcuXIlbrzxRpw7dw6//e1vMXv2bDz00EOBqBshJMQ4jvOY\n",
              "QK24uBg1NTUQRRH19fWoqKgAAKxfvx7z588HYL9elJWV4ejRoygrK0NRUZF8I48QElhVVVVobW0F\n",
              "YP8uTpkyBZ9//nmIa+Wdz8rrfSon4WsgzFHctfU0QRuchINpaWkUiPfAH+fFX59fg0nEyfMGrP7R\n",
              "GGhVCkgM0KoUKJo/rscu6qH6bJHg8bll/LbbbkNOTg7ef/99nDt3Dm+99RZmz54diLoRQoIsPj4e\n",
              "e/fuxcyZMwEAX3zxBeLj40NcK0JIX/z1r39FYWEhvvjiC3z99df4/e9/j1//+tcR0YV1aIL7jNue\n",
              "ykl4i/Y5ioPd+u9IqHrNNdfgvvvuw6233gqN5kKX6QkTJgTkfSONv85Lfz+/mw9Vo6ikDGZRglrg\n",
              "sfpHFyEvMxE5qXG9jhWPpp4l/R33Hq3j5n0OxufNm4d//OMfmDBhAsaPH49///vfuOOOO/DUU08F\n",
              "on6EkCB69tln8dOf/hQXXXQRAKC8vBzvvfdeiGtFCOkLQbD/if/kk09wxx134LrrrsMjjzwS4lp5\n",
              "Z0p2ChQ8d2HMOAAFz2FKNrUCkvDjaD11jOsNdOv/ggULXJ6///778v/7kmw1WgX7vLgjJ22zdCZt\n",
              "s9jwzEff48Bvru41EAfCYx/8ob/j3kurW+QEiYPi1XhywfioGTfvczBeX1+PxMREbN68GTfeeCOe\n",
              "e+455OfnUzBOSBS49NJL8d1332Hfvn0AgJkzZyIxMTG0lSKE9AnP83jnnXfwzjvvYMeOHQAAiyUy\n",
              "ujbGaQTclD8MWw7VyGU35Q/z6scrCT8DIQFVMFv/T506BQAoKSlxm3SVXOCP89Kfz68jaZuCBxQc\n",
              "B8Yzr5K2dd2Hjcum4+R5g1et6eGmv+PeLaKEh7Yexclz7WBgaGgz46GtR/HBr2ZH3E0Jd3zeA6vV\n",
              "CgD4/PPPcfXVV0OpVMp33wkhkS8pKQnXX389rr/+egrECYlgf/3rX7Fp0ybcddddGD58OH744Qdc\n",
              "eeWVHtdftWoVsrOzwXGcSyJHhw0bNoDjOGzfvl0ua2howLx58zBq1CiMHz/eb2PSDSYRO47VAgAU\n",
              "nWkmdhyrhcEk9vAqEo6cf4irFLz8Q9wiRl8yPpXAIz1BE7QA4fHHH5cDceBC0tVoZhEl1LWafPr8\n",
              "9HReettefz+/OalxEHgOogSYRAmiBAg85zFpm7v6lFa34LbXv8Qv3z6M217/EqXVLV69d7jo77j3\n",
              "Or0Jlec7wBiDwPNgjKHyfAfq9KYA1zw4fL5ajB8/Hj/60Y/wwQcf4Morr0RHR0cg6kUIIYSQfpg+\n",
              "fTq2b9+Ou+++GwAwevRol3nHu1q0aBH27NmD4cOHd1tWWVmJv/3tb5gxY4ZL+erVqzFjxgyUl5dj\n",
              "w4YNuPXWW+Wb9v3haE0CAFtnT3VHa1K0aTZYsOv7ejQbIqPXgq8cP8QFyYLalg4IkiVqE1AZTCKO\n",
              "1bSE7KZRT0lXo0FpdQuWFO/D4uK9WFK8r99BqTfb628gqRJ4pOlcp0BL07m/MeCuPtFwM8sx7r3V\n",
              "aEWHRUSr0YqUWLXX497t92OZfcpA5pg6kCFa0gH7HIy/8cYbKCwsxK5duxATE4Pm5masXbs2EHUj\n",
              "hBBCSB8dO3YM48ePx8iRIwEAX331VY+zn1x++eXIyMjoVi5JEpYvX46XXnoJarXaZdnmzZvlYH/q\n",
              "1KkYOnQoPvvss37XPSc1zmW8OADYJNbjFECR6PmPj2Py7/+DX7xxCJN//x88//HxUFfJ75JjVahp\n",
              "MqKuA+iwMtR1ADVNxohMQNWTzYeqMW3NTvz0lb2YtmYnNh+qDvh7OpKuOkRz0lV/B6Xebq+/gWRT\n",
              "uwUMDNkpMfKDgXUL5h31qW5qBw+guqkdRSVlqNeb0Nhuhk4jQKngodMIEXczq78Z6dN0GgxPiQXP\n",
              "cbAxBp7jMDwltttNjkjlczCu0Whw4403YsSIEQCAYcOGYd68eX6vGCGEEEL6btWqVVi3bh0GDRoE\n",
              "AMjPz5fHjvvihRdewGWXXYbJkye7lDc2NsJqtSI9PV0uy87ORlVVldvtmM1m6PV6l4enVrxdZTU+\n",
              "lUeiZoMFr+yqgOOeg8SAV3ZVRF0L+VeV58G6lLHO8mjhnKSL5wCjxYaikrKAt5A/++yzuOmmm3DF\n",
              "FVfgiiuuwJIlS/DCCy8E9D1Dxd9TfHm7vf4GksmxKmiVCtQ0G1Hd3IGaZiO0SkW3YL6p3YKzrUYY\n",
              "zDacbTV1/msEA6ARFDjd2IHy+jacbuyARuj++nDnGLu/pXAmNhde6lPOCJXA47nFEzF2qA6DdGqM\n",
              "HarDc4snRsV4caAPCdwIIYQQEv4MBgNmzZolP+c4DiqVbz/gvvnmG2zbts0vY8HXrl2LJ5980qWs\n",
              "a7d3hxc+OeGx/CeTs/tdl3BQWtMsB+IcBzBmD8hLa5ox96K00FbOj1791H1m71c/PYlLcwcHuTaB\n",
              "4Y8kXX0xkJKu+jrFV2/TYPmyPW+SwLl7P4sooV5vAmP2Lzrn6HDd9e4UgDi1AINJhEWUICg4WEQJ\n",
              "BpOIeJUAk2iTh+sAgMkqok5vQrqH7u7hyjF2vy/yMhOx9e6ZUTm1WfTsCSGEEEJkgiDAarWC4+w/\n",
              "AKurq6FQKHzaxu7du1FZWYlRo0YhOzsb+/fvx4oVK/Dqq68iJSUFgiCgrq5OXr+yshJZWVlut/XI\n",
              "I4+gtbXV5TFt2jS3695/5UifyiNRXkYS+M5Bj44f5zxnL48m91yR41N5JPI1SZc/DZSkq760UHsz\n",
              "FtzXFu+eksA53m/Rur346Stf4GBlk1y25LV9ON1oxOB4FXIHxyErWQuTaOvWAm8wi4jXCFAp7NtX\n",
              "KXjEawScbDSgtsU1UVl1swk/W+e6b31JbBdpgp0gMVgC2jJeXl6OpUuX4vz580hISMAbb7yBcePG\n",
              "uV2XMYarrroKhw8fRktLSyCrRQghhES9lStX4sYbb8S5c+fw29/+Fhs3bsSzzz7r0zbuuece3HPP\n",
              "PfLzK664Avfddx9uvPFGAMDixYuxbt06FBUV4eDBgzhz5gzmzJnjdltqtbrbmHNPNwcuGpbsU3kk\n",
              "SopT4d65uXJXdZ4D7p2bi6S4yOp+2pusZPcBqafySORI0lXVdCGpsackXaTvvG2h9nYaLcf26vQm\n",
              "cECfxiA73u/UeQOMZhvONBux9PUDGJqoQYvRihilAhJjqGs1AwBMVhuyUuK6tcDHqQWkxqkh2hji\n",
              "1ALazSKGJGgRpxS65c8AAAXPyfv26A0X4/c7vovqqQOjWUCvEoWFhVixYgV++OEHPPzwwygoKPC4\n",
              "7p/+9Cc5yQwhhBBC+ue2227Do48+iltvvRUWiwUbN27EkiVLPK5fWFiIjIwM1NTU4LrrrkNubm6v\n",
              "7/GHP/wBe/fuxahRo1BQUICNGzdCqVT2u+7vHHSf/MpTeaT69bVj8NWj12BDwRR89eg1+PW1Y0Jd\n",
              "Jb/797d1PpVHIuckXbmDYj0m6Qq1a6+9FhMmTEBeXh5mz56NI0eOALA3ns2cOROjR4/G1KlTUVZW\n",
              "Jr+mp2Wh0FvrqK9jy7+t1WPVpiO4df3+HjO0e2p5bmq34GyLEXqjCEtn0Gy02nDqfDv0HVbU6k2Q\n",
              "JAYJwNlWM1qMImaNSnWpv2PqsnMGM4xWG0yiDRnJ9pb6GI0ABd89b3is2r5v5w1mPPF+cLKtD4TW\n",
              "91AIWMt4Q0MDDh06hI8//hgAsHDhQqxcuRIVFRXd/sCXlZVh+/bt2LBhA7Zs2RKoKhFCCCEDgs1m\n",
              "wyWXXIJvv/0WM2fO9Oo1xcXFva7z6aefujxPS0uT/87708+mZmL9F5Vuy6NNrEbAxUMSEKuJzjQ+\n",
              "141Nx1MffOe2PFo4jz9O0CphMIs9jmcOlc2bN8td2d977z0UFBTg6NGjcuNZQUEBtm7dioKCAhw8\n",
              "eBAAelwWLL2N/3bmy1hwb1vRS6tbUFRS5rblOU4toM1klZMUMtin4rIxwMYYFBzgCF0VPCBJwN/3\n",
              "nMLdl49EnEboVgebTUJKrBobl02Xl49IjcXJc/ZpHW0MUHCA1SZBbxKRptOg1WiRbz4AkG8+9DQ+\n",
              "25dj2tsxIP0TsJbx6upqDBkyBIJg/2BwHIesrKxuWVatVivuuusuFBcXezWWzZdsrIQQQshApFAo\n",
              "MGjQIHR0dPS+chgala7D8OQYl7LhyTEYla4LUY0Cw9/zJoejYckxmDLcdRz8lOFJGNbl/Eay/mbc\n",
              "DhbnMeWtra3gOE5uPLvtttsA2BvPqqurUVFR0eOyYPH1O+LLufCmFb23KdAMZhEaZff4RcEBKoVr\n",
              "i7aS5yEoODm5n7s6JMao0Ga2wmAW5f25bnw6JAY5iVtqvBpWicn7lhqn8WnqNV+PaTTMdR7OQn4b\n",
              "9sknn8RNN92Eiy++GJWVlb2u70s2VkIIIWSgys3NxWWXXYbFixcjLu7C+NxVq1aFsFbesYgSkmJV\n",
              "aDVaYZUkKHkeSbEqWEQp7AKcvrowr3AHtEoe1U2ex7ZGMosoQZQYEjQKMHDgwCBKLKrOJeDdeOZw\n",
              "cMcdd2DXrl0AgA8//LDHxrOEhASPy9wNYzGbzTCbzS5l/Wkw82X8tzNvz4U3reiOYDlebQ+449UK\n",
              "l5bnOLUAsyiBA+TWcY4DslNiOseM86husR8TkTHYbAxalUJO7tdTHSyihOqmDry+2z4jgYKzz7ig\n",
              "N1rxwa9mIzM5Rr754Gi17u1GUF+OadcbBoB3re/EOwG7UmRmZqK2thaiaL+zwxhDVVVVtyyrn332\n",
              "GV566SVkZ2dj1qxZ0Ov1yM7Oxrlz59xu15dsrIQQQshAVVdXh7y8PJSXl+PIkSM4cuRIQLqUB0JT\n",
              "uwVVTR1oMVrRbrahxWhFVVNH2I3B7Q/HPja2W1DTYkJj5/No2kfgwn7qTTboTSL0JltU7idgD3Qa\n",
              "2sJ7TO2bb76J6upqPP3003j44Yf9uu21a9ciISHB5XHgwIE+b68/c4t7k3nbm1b05FgVwIBTjUac\n",
              "ONeOU41GgEEO2A1mEXEaASqBh1LBQaXgkRqnxm9uGIvM5FiA55GZpIVG4MEYoFUpUDR/HOI6h6V4\n",
              "qsO3tXosKd6HW9fvh9EqgcHeMs4AmEUJ7RZRrqcvc3j35Zg6bhj40vpOvBewlvHBgwcjPz8fGzdu\n",
              "REFBAbZt24aMjIxud9J2794t/7+yshJ5eXk9tpD7ko2VEEIIGahqa2uxY8cOl7L8/PwQ1cY3agWP\n",
              "5i4/DpvbLVArwrO1sS8Gwj4C9v1s6bC4jKlt6Yi+/dx8qBpFJWUwixLUnQHWkinhm+Ng6dKluPvu\n",
              "u5GRkSE3ngmC4NJ4ptPpPC5z55FHHsH999/vUvbYY4/1uY6+zi3uLefx0r21oltECefaXFv7z7WZ\n",
              "5Z4dybEqDE3QwmaT7HOFm0UMTdRi9qhBmD1qkLxdS2fX9JzUODkQd+haBwBYUrwPNc0diFV1D9Uk\n",
              "BqTHu7ZIezuHd1+OqeOGwePvf4NzBjOGJmrdtr77Og6d2AX0SBUXF6O4uBijR4/GM888gw0bNgAA\n",
              "li9fjpKSkkC+NSGEEDIgWSwWOZ9KW1ubnF+luroa7e3toa6eV042GtB1Mh/WWR4tjje0ud3H4w1t\n",
              "oahOwFS32H/0c04P5/JoYDCJKCopg9FiA88BRosNRSVlMJjEUFdN1tLSgrNnz8rPt2/fjpSUFJfG\n",
              "MwAujWc9LXNHrVZDp9O5PPrTYBaIsfjuxkv31Ip+8rwBVolBUHDQCPYx3xabhIOVjXJAXjR/HDKT\n",
              "YyEByEyOlevovN04jYAJGYlyUrauWcmd13VuvVYqumdS5wDUtZm6lXujX8eUAZLE0O3CBe/GoUd6\n",
              "NvZA1T+gY8bHjBmDffv2dStfv3692/Wzs7NpjnFCCCGkHxy5VTiOQ0JCglyu0+nwwAMPhLBm3kvU\n",
              "qlzGYAL2H6CJ2ujpFtn9J3bP5ZEqJzUOGqUCHRYbBB4QJUCrvDBmNhqcPG+AWZQgKDgIPA9AkpN0\n",
              "TchIDHX1ANgTti1evBhGoxE8z2PQoEH44IMPwHEciouLUVBQgDVr1kCn08mNZwB6XBYM/hyL35fx\n",
              "0jmpcVALPDosNoBnECWA54Dfbi/DoPgLWcW9raM3WcmdW6/j1BdCNfsnCy5jzvvC12NqESU8tPUo\n",
              "Tp5rBwNDo8GCh7YexQe/mg2VwHt1XCM9G3sg6099CAghhJAo8sQTT0CSJKxYsQKSJMmPlpaWfnUZ\n",
              "DabM5Bhkdsm27a4sko0bmtAt27JKwWHc0AQPr4hMcRoBRfPHQavkITFAq+RdxsxGA0fAJtoYREmC\n",
              "aGNQC3xY3XAYPnw4Dhw4gK+//hpHjx7Fzp07kZeXB+BC49kPP/yAQ4cO4ZJLLpFf19OyYPFm/Lc3\n",
              "+jJeOk4j4M5ZI8DBfiMJADSCAmqBQ1VTB554/xuXLutN7Ra3LacWUUJVUwcef/+bXrOSO1qvhyVq\n",
              "YRElZCZpoRZ4cDyHmC5jzp2331OrbdflvhzTOr0Jlec7wBiDwPNgjKHyfAfq9Cavjms4ZmP3pZU7\n",
              "0PWPnishIYQQQmSvvvpqqKvQZyqBx+B4NaqaLnRlHhyvjqpxiHEaAQsmDcOWQzVy2YJJw6IqSHUY\n",
              "nRaPUYPjUd9mQlq8BqPT4kNdJb9y3HBwjBnvmqSLhIe+jJe2iBL+/U0dFDwHiTFIDDDbbKhtNcNi\n",
              "s8FgErG7/BxS4tQeW04draoNehPOG8wYFK/2Kis5A8A4IClWhT8smoA4teB2zHlvrbb9bdXlOmvD\n",
              "OivFOp87biX2dlzDLRu7r8cj0PWPnr9qhBBCCIkKZ5o6cOh0s0vZodPNONMUXeOMdxyrBQdAwdt/\n",
              "8O44VhtW44z9wdGqdLbViDi1gLOtxpC3igXCkimZOPCbq/HevTNx4DdXh3XytoHKl/HSjpbT6uYO\n",
              "nG5sh8QYBM4eftokwCzawBggMYY/7/zBY4u3c6uqprN3SL3ejHaz1WNWcvk702JEjFKBsy1GPPuv\n",
              "47goXee2Rbxrq+2j730tX0cuTKHYDh5AdVO7nM/A25bhNJ0Gw1NiwXMcbIyB5zgMT4lFmk7j1XEN\n",
              "p2zsfWnlDnT9KRgnhPTJqlWrkJ2dDY7jUFpa6nG9119/HaNGjcLIkSNx1113wWq1Bq+ShJCI9O9v\n",
              "63wqj0SOccYcBzDJPjexY5xxNHG0KgkccLbFCIGD19NTRRrnJF0kfDh3SfZmGjDnZGQr3z4MCZ3J\n",
              "B3lObg3mOA5qQYHB8So0tJlxrs3ktpu24/Ov0whQCQoM1qnBcxyMouebAb50p3deFwDajCK+r2uT\n",
              "k6g1tVtwttUIg9mGs60mGMw2nG5qx+Livfjpq19g0bq9bpOtOVMJPJ5bPBFjh+owSKfG2KE6PLd4\n",
              "oku9ezqu/krE548Ean0ZqhCIRILO6GpBCOmTRYsW4aGHHsKsWbM8rnPq1Ck89thjOHz4MNLS0rBg\n",
              "wQK89tpr+OUvf+m3emz58gRe+O9J3H9VDhZPH+m37RISCI9vO4K3Dp7F7VOH4qmFk0JdnbB13dh0\n",
              "PPXBd27Lo0VOahxsklOKOgaAsbAaZ+wPybEq1DQZ5WR8RqsFHEBzFJOg8NQl2VP34q7JyBr0Jig4\n",
              "DjYOECUJPAcIPIcYtQCtkkdDmwUcBwgch3azDalxDHqT6NJNW6tUyMnPOHAYkRqLvxdMlVuW61pN\n",
              "LonUnLt9izaGdrOIjGT33emd120zirDY7OPX6/X2Higblk6FwSTC0plg0NFa32a0t5yf05vx4Jaj\n",
              "2LFqdo/BZV5mIt5ePsPj9GxAz9Or9TcRn78SqPV1ujx/JhLsilrGCSF9cvnllyMjI6PHdbZu3Yr5\n",
              "8+cjPT0dHMfh7rvvxqZNm/xWhxGrd+DB975Hrd6CB9/7HiNW7+j9RYSESPbqHXjz4FkwAG8ePIts\n",
              "+rx69O2ZJp/KI9GJBr1P5ZHqix/q3E7h9sUP0dPLgYQfiyihujPBmi9dkru2nCbGqJAQo8SowXFI\n",
              "jVNj3NAE/O6nlyArOQbnDfaefolaJSw2CW0mEdVNRiTHqlxaTlnnF4BzmishTafBt7V6t9OBqQQe\n",
              "t07PQofFhpoWIzqsNtw6PcttAOhotU3TaSAyBpXAIyNJi8QYFRrbzahu6UC8RoCS58AYg4Kzf/8k\n",
              "xqDg7OPgTze2o7q5o8dW59LqFvx8/X7c/dZX+Pn6/b22prvTl0R8fT2PPdWhr63c/kok2BUF44SQ\n",
              "gKmqqsLw4cPl59nZ2aiqqvK4vtlsludEdjxsNpvbdbd8ecLtD7wtX57wQ80J8a/Htx3xqXyg+/Mn\n",
              "7r/Hnsoj0d/3VPpUHqn+4uGceSonpL9Kq1uweN1eLHp1L76r1UMt8C5dkuv0Jo+Bp7vxwQkaJXi+\n",
              "M4gFw+i0eLx8az5S4lUYlqhBm1kEA6DozHauUSowdogOgD24bzVZwXMAwMBzQKvJinq9yePYZYso\n",
              "4e0vq6BV8shI1ECr5LFx/2lUNXW4rXNeZiLeWXEpxqTFI05tn9fdMa45JzUOOo0S9ldxrr+bOHv3\n",
              "ewnAyrcPe5wj3DG1WdlZPerbTCg7q8dDW48GPO+DY7jAktf24bvatm7nsa9DXbwZqhBMFIwTQsLG\n",
              "2rVrkZCQ4PI4cOCA23Vf+O9Jn8oJCaW3Dp71qXygu+9K90NOPJVHojtnZftUHqnunTPCp3JCeuLN\n",
              "FF6OwPGcwQyLjaG2xYRGgxkt7RZolYoeA8+uLadDE7UwiTYcrzOgyWDB97VteHDLUSTFqBCvFlDT\n",
              "YoLJKkFi9mA8JU6F5g6LHCjGqQW0dlhhsdnnKLfYWOdzyePYZUfrfGKMCjqtChqlAt/X6nFz8T63\n",
              "dQbs+QrW3HQJMpNju7X4duadc+RDh0rBg+c4iJIEjuOg4Dg06E0eW517m9osEJyHC2gFHhJjvSa+\n",
              "80WgWrn7IvQ1IIREraysLJw+fVp+XllZiaysLI/rP/LII2htbXV5TJs2ze2691+V41M5IaF0+9Sh\n",
              "PpUPdNmDdD6VR6KsZPdjwz2VR6qc9ESfygnxxDmxmqeg1DlwVCrsYY4E4GyrCc1GK1qMVpxtMfbY\n",
              "3dm55fRPP8tDfasJErO3aju6dTe0mezdz9mFtmaJMZdA0SJKOF7fBqvNdfuiZJ8fzFOGbufW+Xaz\n",
              "FfV6MyQGCHzPXbTdtfg2tVtgtNqQlazFqMHxGJ4Sg8RYJUanxcvTDCbEKJEYo/LY6tzb1GaB4Dxc\n",
              "IFatRJpODZ4DTFb/J1ALtejYC0JIWFq4cCFKSkpQV1cHxhjWrVuHm2++2eP6arUaOp3O5aFQKNyu\n",
              "u3j6yG5/CLjOckLCjadkbZTEzb13Dlb7VB6JSmuafSqPVK0d7mfQ8FROiDveTknlHDhK0oVlCt4e\n",
              "N5/TmxGvVvTabd3RcqpU8JAASMzeqi0xe3Df3GFFq8kKQcFD6MyybpMY0nRaFM0fh29r9Vi0bi/u\n",
              "2fgVpC5j6mwSA8fB49hl59Z5oyjZu5NzQK3eiDajiNpWo8cu2l1bfB2Bvd4kwmqToDeJGJqgxebC\n",
              "S/HuvZdhc+GlGJqg7XHart6mNguErsMFzKKEi4bo8I/CS8Oia7k/UTBOCOmTwsJCZGRkoKamBtdd\n",
              "dx1yc3MBAMuXL0dJSQkAICcnB08++SQuu+wy5ObmYtCgQSgsLPRbHU49cwOe++lFGKJT4bmfXoRT\n",
              "z9zgt20T4m+Vz9yAO6YOBQfgjqlDUUmfV49+NtX9HM2eyiNRXkZS5zjSC3jOXh5NRqfFQ92lBUst\n",
              "8BidFh+iGpFI5O2UVM6Bo3MQrFTwUCjsY6abO0Q58Oyt23pyjMrtjf/MRK2cpdzRDVyl4PFGwVSM\n",
              "HaLDg1uO4tuzejR6CJottp6nWcvLTMTGZdPx5yV5UPIcRBuTX9dmEhGn9m5CLEdgPzRRiw6rDUMT\n",
              "7TcL4jQC0hM0iNMIvSY082ZqM39zl2jtqQXjkZUcEzUt4g40tRkhpE+Ki4vdlq9fv97l+V133YW7\n",
              "7rorYPVYPH0ktYaTiPHUwknUGu6FUek6DE+OwemmDrlseHIMRqVHTzf1pDgVFk7OwJZDNXLZwskZ\n",
              "SIqLrim/4jQC7ro8B3/9pAIM9kDmrstzonIubosoBWTqI+L9lFSOwPHx979Bg96E+jYzwADRJsEm\n",
              "2W8EZSZr0WK0YliiFh0WG862GJGgVcqt7ZsLL5XPX3OHpVvLtsSAmhYj4jUCbDYGG7O3xFtsEgre\n",
              "OID/uWoUTje2y13b3Wk32+T6pido5LHwjs+OYyqv+jYTrDbW2bLPoFRwiNMIMJhFn75DHACOwW3X\n",
              "cm+m7crLTMTWu2cG9fMdyOnEwkl07hUhhBBCIpZFlHDeYHYpO28wBzx7bzBZRAmlVS1Q8BwUnD35\n",
              "U2lVS1TtI2Dfzy2HquUszgzAlkPVUbef3oxnJn3ny5RUjsBx+y9n4e45OeA4QJTsXb3vujwH2+65\n",
              "DFsKZ+LlW/NhEm09trZbRAlSl2hckhhiVAokaJUQGbOPAYc9SD9e14ZnPvre3p2d2d/XnfR4tfx/\n",
              "R/b3m175AovX7cXByiaX5GWM2ZO/Mdhb+xM0Sq+Tlzm6959pMUKrUuBMi9Ft935vEpqFIulZOCVa\n",
              "C5To3TNCCCGERKSjVc1ot7hOa9huseFoVfSMp67Xm+ytZ1LnfL+SPTFUfQAzFIfCqQYD6vWuN1bq\n",
              "9WacajCEqEb+5+14ZtI/vkxJpRJ4JMeqsO9EE5JilBiWqEFSjBJ7ys/L5yUppvs0Zl3HS6sEHoou\n",
              "zdsKnoNK4LslcEPn0+qmjm6v6erbWj0A99OGPbz1GM4bTEjQKqFVCeDlbdnfi/Mhc5q33ftDqbcM\n",
              "+dEu+voIEUIIISSifV5xzmP51JyUINcmMBjsLWcMgMWpZY31+KrIU9Xc7rF8zNDoGHbQNeABIAc8\n",
              "6QmBS3I1UHTt/u/tMXU+LypBAbXAo7bViCXF+9Bmtgfet07PwttfVqGx3ey2tT1Np8GQBA2qm41y\n",
              "2ZAEDQQFD5Now9AENapbLtxskmDvCm4f0y3CJl1oOXfF7EGo3oST59qd1mGoaurAqLQ4nGszd3av\n",
              "Z1AreGSnxsJqs8FotXn92XLu3i/aGNrNIjKSu3fv90YghmE4uuM3tpuREqtG0fxxUZWczRsUjBNC\n",
              "CCEkrMwZlYqXPjnhtjxaJMeoIPCcyw91geeQHBNdY8YnekhI56k8Enk7npn4rj/BWnKsChpBgVPn\n",
              "L9wQUvAcRJuExBgVapo78PaXVdi4bDoMZtFjkMl1aYrmOPv3NCVWjapGAzi43kQTFDyGJmpwtsUI\n",
              "geft49a7eHR7GYYmnsRds0fA1iVYt0kMK68Yib/tqcR5gwkapQIqgYco2bOhe/vZcgTPS6Zk4Hcf\n",
              "fIumdgvUAo9bp2d5DKY9BdyBCJqde5R4GrM/EAycPSWEEEJIRKhqMvpUHokMZhEJMUqoO6dGUit4\n",
              "JMQoYTCLoa6aX0kAdF0STek0AqKpQ6ov45mJ9/rT/d/R6nxhVmx7kjWbxLp12TaYxW7jkh1dp6ub\n",
              "OnC21fW6c7bViKYOC4rmj0N6Qky3buOxagH3XT0amcmxHruUqwT7/vx114luSd4UPIdLMpOwcdl0\n",
              "vPLzyXj9jinITon16bPlyGGwaN1ePPnPb2EWJXCd+/W3z0+6PYae8h4EahhGJHShDwZqGSeEEEJI\n",
              "WJk+wn1XdE/lkSg5VmX/8WmwgIHBxoAErfeJmSJFcqwK6QkatJsNYMw+3jU9QRN1+zlQMj8Hk7fd\n",
              "/7u25jpacRv0Jpw3mDEozt5NnTGGOr0FzR1WcBznsQeDcytwnEohTyvmYLMxWDunJvt/y6bj0j/8\n",
              "F2arBAUP2CTAZLVh+ogUzC4chMOnm3Hz3/Z327cYlb3bvN5kRVZKDKoaO+TZBnIGxaJeb8KqTUfk\n",
              "luj/mTsSzUYrZuUOwuBeuqc7B88xSgXMXYLmk+ftuSkyk2PcvqZrK3WghmFQjxI7CsYJIYQQElZM\n",
              "NvctLp7KI5Uj9xPXOeEQi7YB453sQTgntxJG6376Mp6Z9M6bYK1r9+lHb7gYv9/xHWqaO6DTCBAl\n",
              "hlr9hZbWwTo10nUaNHdY3LYydw1K6/Tdu5hznH1OcQAw2yTotEq0MiskxqASLkw9lq7RYFiStttw\n",
              "FAAwWSR0WO1dzh+94WI8/cG3ONdmxqB4NX7747HyPiRolThe14ZfvPkVAIDngHvn5uLX147xeNyc\n",
              "g2d3DfM2iaHDJHp8TdeAO1BBs6NHieP8DdQeJRSME0IIIQSrVq1CSUkJTp8+jSNHjiAvLw8mkwk3\n",
              "33wzvv32W2i1WgwePBivvvoqcnNzAQANDQ244447cOLECajVarzyyiu4/PLL+12X1g6rT+WRqKnd\n",
              "ApNoQ1ayFipBAYtog0n0PjFTpBgo+0n8zxGsPf7+NzhnMGNootYlWHPXmvvE+2XQm6xI0CqhFhTd\n",
              "5gjXd1jx71WXw2yT3PZg6BqUijYJzV2uOxID4joD1uRYFYYmaGGzSYhT24PwoQlaOVBN02kwIjUW\n",
              "J88Z7B3mGaAUeEhgciCemRSDNwqmobqlAzmpcTCYRXurvFqAJDEYrTaX935lVwWWzRyBpDj3wbBz\n",
              "8Kz0kNW9xWT1+BrANeB2nIcn3v8G59rMGNblPPQH9SihMeOEEEIIAbBo0SLs2bMHw4cPdylfsWIF\n",
              "jh8/jqNHj2LBggVYvny5vGz16tWYMWMGysvLsWHDBtx6662wWvsfMI9Oi4e6y48ytcBjdFp8v7cd\n",
              "Lhw/fs/pjag834ZzemO3aZWigWM/65s7cOpcG+qbO6JyPwHAYBJxrKYFBlN0jfsPNQ4Ax9Ctldfd\n",
              "mGO9yYIErRKtRiua2ru3alttEqpbOjzOXe34vDqmO2vxcAPwZKN9aj5HoJqZHAsJQGZyrEugqhJ4\n",
              "XDc+XZ53nAG4c1Y2tt49U27FX/DXPbjs2U+w/M1DuO31L1Hd3AEOHCobO3CqsaPbe0sMKK1xnebR\n",
              "eXow5xwGnjqhpDrNc+7o5v/oDRf3mPeAAWCc/2d8GAhzifeEWsYJIYQQ4rZFW6PR4Prrr5efz5gx\n",
              "A88//7z8fPPmzaioqAAATJ06FUOHDsVnn32Gq6++ul91idMIsEmuXdJtkoQ4TfT8bFEJPMrr9Wi3\n",
              "2H/amsBQXq+Puh+k8n52Nu6Zgajcz82HqlFUUgazKEHdGQwtmZIZ6mpFNEfL95kWIxK0SpxpMbpk\n",
              "2/bUmrtkSgae3vEdzE4tyg4MQEqMCsdqWpCTGtftmqISeDx6w8WdLez23hutJkO37cQpL7zOU+uu\n",
              "RZRQ3dyBv31+EhcmLgM27KnEilkj5a7obUYRls4pzGw2CU/+swz1raYej824IQny/z1lOt9ceCnq\n",
              "9SYsfHUvGpwyuqfp1MhMinH7WkdLfdf9KCopw9nO83C2y3kg/UNHkBBCCCFeefHFF7FgwQIAQGNj\n",
              "I6xWK9LT0+Xl2dnZqKqqcvtas9kMvV7v8rDZuv9YBoBd355F10S9omQvjxb7KhrQbnHdyXaLhH0V\n",
              "DSGqUWAMhP00mEQUlZTBaLGB5wCjxYaikjJqIe+Fc2uuO71l23aXxf7RGy7G5kM10Crdj99XKjhc\n",
              "/afP8NNX9mLamp3YfKjaZXlpdQt+v+O7zq7uKqy6alS3bOc8B8S4CeKdW3cdmclveW1/twRqJlHC\n",
              "wdNNaGw3I1YlQAKDoOAgMYY4tYCGNjNEiUHgAZWbSI3n7GPVHcfQU6ZzlcAjTafp1svIMd7d3Wt/\n",
              "v+O7bt3FHedBpxGgVPDQaYQ+ZT3v7Xz76zWRJnpuMRNCCCEkYNasWYOKigr897//7dPr165diyef\n",
              "fNKlbMaMGW7X/YubOcYd5XPHDu3T+4ebVz896bH80tzBQa5N4AyE/Tx53gCzKEHBc+A5DgoeMIsS\n",
              "Tp43YEJGYqirF5a8mbfam8RhXVulHYFjYow9oDzbYgKDvfVRAmAWGbjO4Ndx0+T68UMQpxG6jUGv\n",
              "15vw6qcnuo07Z05jxt1x3o7GQ8uxWmGfq/xMixE8OFhs9uDZYBYxJFELg1GE0WoDc3q5grN3URd4\n",
              "Dg1tZqTpNL1mOq/Xm1CvN4Hn7EG8xCCXKRW8V1nS3c3XPiI11qehJqXVLfLY/0Fxajy1YHyv85QH\n",
              "Ym7zcEQt44QQQgjp0fPPP493330XH330EWJi7N0bU1JSIAgC6urq5PUqKyuRlZXldhuPPPIIWltb\n",
              "XR7Tpk1zu+6qK0f6VB6J7rkix6fySDUQ9jMnNQ4Kzp4x2yxKECUGBcchJzUu1FULS97OW+1o+R6W\n",
              "qIXRYvOYOMw5i73FJiEpRmUf820WAc4+1lyh4KDsbOFW8BwEnoeg4OSbJoD7lvhzbeZuLeMcZx+z\n",
              "7U2Lfqxa6Xad1e99gw6LDcmxKiTGKqFVKZAQo0RmciyevvESFC0YB61SYZ+JoPM1NuYYr83hf/5x\n",
              "GEuK96G6MweDY4x7q9HqkpOBdb5OYvbeRRKzP7fYJFhtEpIdx8rNa7vus317zOW5NyyihAe3HMW3\n",
              "Z/U4pzfj27N6PLjlaI+t3YGa2zwcUcs4IYQQQjx64YUXsGnTJuzcuROJiYkuyxYvXox169ahqKgI\n",
              "Bw8exJkzZzBnzhy321Gr1VCr1S5lCoXC7bqXjU73qTwSTc5OlVvrHPjO8mhyUXqiT+WRinVJa9X1\n",
              "ObnA13mrvUkc5tyKqlUqkBSjgtEqQqtUQKngkahVos1oQYtJhE1i4DgJoo1Bq1LIN02cW+IZY2ju\n",
              "sGJIggYNBtdEcBIDHn3vGAbrYuTWWue5zp23o9MI8vzjDgoe0Cp5NHdYMDRRi/VLpyI5RgWDWXTp\n",
              "Ij5iUAzqWs1oM1ogdgblNmbPn+HcrdyRCM7d9GDxKntGdmc2ieG+TUfQYrJCIyiQHKuC0WrzOLVY\n",
              "U7sFRqvrjAhGq/czItTrTTjd2A6JMSh5HlZJwunG7nOdd33PQMxtHo6oZZwQQgghKCwsREZGBmpq\n",
              "anDdddchNzcXNTU1eOCBB9DS0oK5c+ciLy8P06dPl1/zhz/8AXv37sWoUaNQUFCAjRs3Qql03xLk\n",
              "i6Z2C9J0roF7mk7t8xjFcNbUbsGwZC3SYwXEqHikxwoYlqyNqn0Eumd97q08Ep08b4DE7N2I1QpO\n",
              "7k7saHElrrpmLPfUIuucOCxGqZATh3VtHe3aitrUbkGMSoFNd12K/7tzGkakxkICQ1ZqHO6dmwut\n",
              "yj7lmValQNH8cXISN0dLfFKMCjXNRrSbbTBZJagV3cMlpUIht9YerGzCkuJ9WLTuC9z41y9wtKZF\n",
              "HstulRhS49QumeDjNfYW8wStEs0dFqgUPOI0gjzm3NGSfLzOgFajFZbOFm3nmFolKOQx9JlJMdhc\n",
              "eCm2FM7ExmXTka7TyMeouqVDbsV2rkN1ixEqhf2GgEapwP9bPgObCy912w3ccb70JhFWmwS9SfRp\n",
              "RgRHaz7XWQmu83lPN1e8/YxEg4C2jJeXl2Pp0qU4f/48EhIS8MYbb2DcuHEu63zyySdYvXo1DAYD\n",
              "OI7DDTfcgGeeeQY8T/cJCCGEkGApLi52W86Y559MaWlp+Pjjj/1elzi1gDaTCA6AoOAg2hjaTCLi\n",
              "1NHToU9uPbPYMCTB/qMzPQp/bOZlJMljVR14zl4eLXJS46AWeBgtNkiw76tWyVM3dQ8cQa+jJbun\n",
              "FllvWkfdrdfUYYFSwWNqdjI2LpuOk+cNcvb0uy8f6fLc2dghOsSoFIjTKJGoFdBqtMLkpmt0jEoB\n",
              "QcHjvMEk3wgwWSWcbTFh6d8P4P/unIYNS6di36lG3P+PIwAujNlu6bAiUWuFwSx2GwMPuLYkC059\n",
              "5B1fIRsDTFaby+tVAo86vanbGOvcQXHQKBXosNig4O1d1TkAiU7HynFDwFNmdG/PlyfpOg2yU2Nw\n",
              "8lw7REkCx3HITo1Bus5zC3d/3zOSBPSvWmFhIVasWIGCggJs3boVBQUFOHjwoMs6SUlJ+Mc//oGc\n",
              "nByYTCZcffXVePPNN1FQUBDIqhFCCCEkTBnMIuI0AkSJQZIYlIK95chRHg0Gyo/NpDgV7p2bi1d2\n",
              "VUBi9oDk3rm5SIqLnpsOcRpBPpdmUerW4kq68zQdmDNvErj1tp67JGBjh+gwON79vNZN7RY0dViQ\n",
              "FGMPVj2NUW7usMJqk5Cm06KlwwKT1QarjYHn7IHy/2w6guYOCyyiBJvzvGadeuoWfqElmcHTvVBz\n",
              "l9cbTCIefe9r1OtNSNAq5Vb7zYWX2j+b75fBbJOgFTgM0mnQZrKCMQaDWURmcu/J2Lw5X56oBB7P\n",
              "LpqIJ97/BufazBgUr8aTC8b3uo3+vGckCdhVoqGhAYcOHZLvmC9cuBArV65ERUUFcnNz5fUmTZok\n",
              "/1+j0SAvLw+VlZWBqhYhhBBCwpwje69F7ByrKTF5bGM0GSg/Nq++OA2ffF+Per0ZaTo1rr44LdRV\n",
              "8rslUzJx/fghHltcSXfOidc8LffmhpWn9QCgqKQM1U3t0CgVqG5qx4NbjiJGpUBTh8Vthm7nwF60\n",
              "MXRY3QfjDW1maJQK3DwtA3/95ATMoj1qlph9THhtqz2Lu8BDDsIdcTUH4M2CaRgxOM7td965Jdnm\n",
              "FI0rFRxskr21/OWfT8YlwxKgEniUVrfgN+9+jeP1bRA4Dglapcs0cKPT4jFycCwa9GYM1qkxZ8xg\n",
              "/H3PKbQYTVALPG6dnuXVtae389WTvMxEbLl7ps/Xuv68Z6QI2JWiuroaQ4YMgSDY34LjOGRlZaGq\n",
              "qsolGHdWV1eHrVu34oMPPvC4XbPZDLPZNZGCp3lKCSGEEBJ5LKKEer3Jpaxeb5Lnzo0m0f5j0zGe\n",
              "t0FvRqJWiQa9WW6xi7ZzGacRaCozP+vthpUjcdrYIbpu69W1mlDV1I7mdisYrACAFqOIBK0SSTGu\n",
              "rceO7ao6g9OikjI0d1ihUnBQKThYbK5N1EMSNDCYbVi743sYu7SeO5K1KXhAwfMQpQvLOQCJMUqY\n",
              "Jc9ZwZ1bkhv0JjS2W2CxMVg765CeoJUDccf3q15vhMBzsIgSapqMiNcIyEiOQZxaQFFJGWpb7S3m\n",
              "Z1uM+PueU9AqFRgUp0a7RcTbX1bhxrxhAf8+Rvu1rq/C5iqo1+vxk5/8BA899BCmTJnicb21a9ci\n",
              "ISHB5XHgwIEg1pQQQgghgXTyvAHWzl+0jhGTVptECbEikLvpohwtdoR4wxHEdQ0WS6tbuiVOc15P\n",
              "reDR0mF1SRRmkxji1QKUCh46jdDts2gRJbz9ZRW0Sh4ZiRpoBL5bIA4A8WoFTBab2/HkgL1F3CbZ\n",
              "55t3SNIKiFXxMIsS7v1/X2FJ8T4crGxCXaupW3d4R0vyO3fPxOAuySyd83g4z6uekaSFSuAhMoa0\n",
              "BA2K5o+DwSy6fP/i1ALMooQ4tQBdlxZ0EhoBC8YzMzNRW1sLURQB2D84VVVVbucfbWtrw7x587Bg\n",
              "wQLcf//9PW7Xl3lKCSGEEBJ5MhMvTHfDPJSTyDCQsiKHM5PJhBtvvBGjR4/GxIkTcc0116CiogKA\n",
              "fWjpvHnzMGrUKIwfPx6ff/65/LqeloWSo0X41HkDzrVZ8H2dHkv/fgAHK5vkdapbOtyOua5p6UB5\n",
              "QxuqmozQKl2HvzgHtzqtCjFOSSOds5G3GEVYJQlKBYeuU25rBR4aZfdpG5uNIgwWCTYbg1pQ4NR5\n",
              "A5b+/QAWrduLxev24r/f1bsE5SqBBwegQW+f61yp4MBz9l5Cjp5Dzt8vAIhTKzAmLR7vrLgUY4fo\n",
              "XOddt4gwmEWoBR7tFpG+j2EiYMH44MGDkZ+fj40bNwIAtm3bhoyMjG5d1A0GA+bNm4d58+bht7/9\n",
              "ba/bVavV0Ol0Lg9P85QSQgKrvLwcM2fOxOjRozF16lSUlZV1W+fTTz+FVqtFXl6e/DAajSGoLSEk\n",
              "UphtEhJjXH8cJsaoYLZ57toZqSyi5LZlLFo4xvOm6dRo7bAiTaeOykR1kWDFihU4fvw4jh49igUL\n",
              "FmD58uUAgNWrV2PGjBkoLy/Hhg0bcOutt8Jqtfa6LJSa2i04bzDBZJVgkxgUPAeT1eYy9VlmYow8\n",
              "rZcrzjHRVrdgvevNI5PFBr5zOi4Fb/+X5+wPjVIBrUqBVKdkhDFKBe6+YiQMZs9DaM02CUqeg8kq\n",
              "wWS1wSxKKDurxz0bv8KidXtRWt0ir8twYVozq43J/3dUWyXwePSGizE4XgOzaENmcizW3HQJKs4Z\n",
              "sKR4H36+fj9MVhuSYlSw2CRkJsfK065ZbJJPiSOj/VoVKgHNLlFcXIyCggKsWbMGOp0OGzZsAAAs\n",
              "X74c8+fPx/z58/Hiiy/iwIEDaG9vx7vvvgsAWLx4MR599NFAVo0Q4gfezJgAAGPGjEFpaWnwK0gI\n",
              "iUjJsSqIXQJv0SZFXeuNu0zP7ub5jXQ7v6vHd7VtkJh9yqmd39VH5X6GM41Gg+uvv15+PmPGDDz/\n",
              "/PMAgM2bN8ut5FOnTsXQoUPx2Wef4eqrr+5xWX85xnt7m9DLef3kWBV0GhXOtpjA8xwkBih5Hq1G\n",
              "qzz1mdlm746tN4nyNjgOGJagRoxaCYtog0m0uUyV1jUZXGZKLG4ZlYrXd5+EWZSgUfJ47MdjceVF\n",
              "aahu7sDvPvgW5wxmjBsaj1/MHIF544dg34nzve5LU7sFVpsExoDzbWYwAAqeQ3WT6zj25BgVBJ6D\n",
              "6DQ3oMBzSO68WVla3YLf7/gOepMVCVoVHr3hYowdosOS4n2oae5AglaJpnYLhiVq8feCqUjT2bvx\n",
              "35g3zKdj7+9rla/nPpoFNBgfM2YM9u3b1618/fr18v8fffRRCrwJiUDezphACCG+Oqc3ufyABgC9\n",
              "ScQ5vQnDkqOjq7qjm63jB7O7ZFLRoNlgkac1A+yteq/sqsCymSOianqzSPPiiy9iwYIFaGxshNVq\n",
              "RXp6urwsOzsbVVVVPS5zx5cky74Gd+7Wf3LBONy+/ssL47Y5hhjVhW7njvHRLph96kSloIDe5H6e\n",
              "765J476t1ePz4+dQ32ZCWrwGY4cmID1Bgzq9CZz9bSHwPHLT4hGnETBleDI4uA6x6UrROX+48zoS\n",
              "Y0jQKFDfZu+GnpkcA4NZhErgXcamqwReLne+htTrTfj9ju/wl1smeZx33TlRnbfJ1Px9rRooNyG9\n",
              "FT1Xe0JIUPU0Y0JXJ06cQH5+PqZOnYpXXnnF4zbNZjP0er3Lg2ZLIGTg+fe3dT6VRyLH2NR4tX2o\n",
              "XbxaEZWJlEprmuVA3NFjWGL28mhjMIk4VtMCQ5cbSeFmzZo1qKiowNq1a/26XW+TLDsHdyoFLwd3\n",
              "nro/e1r/4nQdMpK1UPAcBJ4Dx3Eu3c6bOyywdclaznNAmk7baxdt52C1qKQMZ1uN0AgKnG014on3\n",
              "v8HJcwY88f43ONNihFalwJkWo7wPSXEq/PLK3G5jyR0UPPCnmychNU4Fdee4cAAAA6pbzGhss2Dl\n",
              "24dRWt0CtYJHW5fPU5tJhFrBy9cQncY1IR0H+DVPgz+TMPp67gcCCsYJIQGVn5+PmpoaHD58GO+9\n",
              "9x7WrVuHzZs3u12XZksghADAdWPTfSqPRMmxKoABpxqNOHGuHacajQBD1HXFz8tIkv/PPJRHg82H\n",
              "qjFtzU789JW9mLZmJzYfqg51ldx6/vnn8e677+Kjjz5CTEwMUlJSIAgC6uou3OiqrKxEVlZWj8vc\n",
              "8TbJsq/Bnaf1T543wCxKGJ6sRe7gOGQla+Vu54D988ZzPHgAKgUHHvapxl6+NR9bCmdic+GlvbbI\n",
              "NrVbUNtqRJtRxNlWI1qNVpTV6nHz3/bju9o2qAXe7T6sunIUxg6NR4zKNdRScADAQaXgMTQxBnFq\n",
              "BdJ0ajkg4wAMilfJwf0PDW3dWtgZgFON7UiOVUEjKFDVZERFgwFVTfYbBmk6TZ/HhbvjzySMNLtC\n",
              "dxSME0L6xNsZE3Q6HRISEgAAGRkZuOWWW7B7926326TZEgghAHDynN6n8khkESWca3Pt0nuuzTyg\n",
              "W4gilcEkoqikDMbOZF9Giz2RWLi1kL/wwgvYtGkT/vOf/yAxMVEuX7x4MdatWwcAOHjwIM6cOYM5\n",
              "c+b0uqwrb5Ms+xrceVo/JzUOKbFq6E0irDYJepPosp10nQbZqTHgeQ42xsDzHLJTY5CZHON2qjR3\n",
              "4tQC2kwiLDYJErPP9S3aGGIEDhJjqNeb0W62dtuHpnYL9CYRafFqlyRyEgPUAo/RafEomj8Omcmx\n",
              "UAo8xgyJR0qcClnJWiTHquUg1erhehCjsh9Xx7ZZZ8jueO7oau/tTYeeOMbR+yO4p9kVuqNgnBDS\n",
              "J97OmFBbWwups5tYW1sbPvjgA0yaNMntNmm2BEIIALy864RP5ZHo5HkDrBKDoOCgEXgICg5WiUXd\n",
              "XOqeuqNHUzd1RwutoOAg8PZzaRalsDqXNTU1eOCBB9DS0oK5c+ciLy8P06dPBwD84Q9/wN69ezFq\n",
              "1CgUFBRg48aNUCqVvS7rK1+DO0/rx2mEHrejEng8u2gixg3VIS1eg3FDdXh20USfMoc3dVig4O2t\n",
              "0c45JTUqpb1FmwNM1u7v7Qg628w2pDoFmlqlQq67c8C8pXAmMpJioDe5Tjk2NEnbLVjjAcSqBTS1\n",
              "W2C02pCVrMWowfHIStbCaL3QM8DT/Ox94a/g3p+BfbQIaAI3Qkh082bGhG3btuHVV1+FIAgQRRGL\n",
              "Fy/GL37xixDXnBASzlbOHYkvN3zltjxa5KTGQS3wMFpsAA/YJAatSoGc1LhQV82v8jKSwHOAUzJo\n",
              "8Fx0dVN3OZeQINrC71xmZGSAuZt0G0BaWpqcjNWXZf3RNUlab8GYp/V7205eZiK23D3T58zhT7z/\n",
              "Dc61mZEQI8Bg6p67xmSxwixKuGiIDi/fmo90nWvQ2zUr+yXDdFh6aTbmjR8ClcCjrtUk10cem+60\n",
              "fkZSDB694WJ7lnUFB8nmlE1dwSEpxv7alFh1Z2I1zmNCOn/xJelbT3w999GOgnFCSJ95M2PCypUr\n",
              "sXLlymBWixAS4WaPSYdKAVicfgOrFPbyaBGnEXDnrBF4ZVcFRImB54A7Z41AnCa6fpolxamQn5WE\n",
              "Q6cvtITnZyVFVSZ1RwttUUkZzKIErepC6yfxzNfgztP6vW3H18zhD209ipPn2sHAUNd6IdeBc4b0\n",
              "DpHJrbpZHmZ4cA4649QCDGYR39Xp8fsd37nNJO68fnVzB36/4zvU640Qba43USTYs6NnJcd0C+Aj\n",
              "pZXZX4F9NKCrBCGEEELCisEkQlAoYHGaTUFQKGAwiVET4FhECXvKzyNRK0CrEmC0iNhTfh6rrhwV\n",
              "ET+mvdVssOBwlWuX9MNVzWg2WKIqIF8yJRPXjx+Ck+cNyEmNi5rP6UBTpzeh8nwHGGMQFDwsncPs\n",
              "OEDu4aFVKvCPu2YgIymm1++qSuBRpzehqKQM5w0mNLVbO1u0VW6nCFMJPJJjVbh741eoae5AjJKX\n",
              "bwAICg6SxMABONdmQrpOQ63MUYDOGCGEEELCivMYXMd46nAbg9tfjqzCSbFqJMeqkRSrjsqswi5T\n",
              "m3Uml4rWqc3iNAImZCRSIB5mHOO/vUmO6Jj9m9n/cUqQBtiY/d9LR6YgZ1Cc12PPHVN5KTgOJqsN\n",
              "RrMNWqXCYyZx52kPBQUPRefbiDYmf5f+5x9HsKR4H0qrW/w6NrwvfDm+pDu6WhBCCCEkrOSkxkHg\n",
              "7QG42NkupBb4sBqD21+OBE81zR0AgFajNaDjPUPFecy4Y8hytI0ZJ+GrtLoFj7//Dc4ZzBgUp8ZT\n",
              "C8b3mHwsTafB8JRYnDrfDhtj6DavGIBdxxu87tnhPJWXRqmAUmGG1SahzSSi3eJ+jLc87WGT0aXc\n",
              "8T2SJOYyR/fmwkvl9wp263hpdYvcTb5rt3viHWoZJ4QQQkhYUQk8BuvULmWDdeqo6oLpSPA0JEED\n",
              "g0nEkARNxIz39EVSnAr3zs0F39nCyHPAvXNzo6qLOglPFlHCg1uO4tuzepzTm/HtWT0e3HK0xxZc\n",
              "lcDjucUTMXaoDoN0amSlaOVlfenZ4TyVl8lqg0bJQ6NUwMaYxzHe7qY9BIDslFgoeIDjOKiECy3r\n",
              "u8vPYUnxPiwu3iu3lgeDc6u/880BaiH3DbWME0IIISSsOLptDk/WykmTpM7yaEr680N9G040tMPc\n",
              "2VL2Q31bVLYqXX1xGnZ9X4/6VjPSEtS4+uK0UFeJDAD1ehNON7ZDYgwCz0GUGE43tqNeb0Kmh6Rr\n",
              "gD2R2tbODOw8gBnP/LfPPTu6ZlUfkRqHR2+4GJmdLeLubr45T3uoAGDuTOBmFm3gOjvSW0Qb9CYR\n",
              "QxO1+Mt/y3GmxYgErdLtOHT7+pLfW86dW/1jVPaQ0tHtPpqu04FGwTghhBBCwkpyrApapULOaMyB\n",
              "Q86g2Kjqwm0wiSgqKYPRaoOg4GC02lBUUobrxw+JqjHHjtazer0ZCTFK1OvNboMFQvyNobNbNwMs\n",
              "nQGt5L7neTfO2b4XTs7AlkM18rKFkzN86tnha5I1x1R5HZ3THgLo7Flivw4yBphEGzKSYvCrK3NR\n",
              "9M+yHgPiQHUlHyhDbQIteq72hBBCCIkajlYoR0uQhymSI5ZzkjqB5wFIcpK6CRmJoa6e31DrGQmV\n",
              "5BiV3CLuIPAckmO8DxYtooTyegNSYlVQKjhYbQzl9QZYRMmnm0m+TOXlOu2hPRAvnJODpZeOkANd\n",
              "R2APoMeA2LkreU8t597o2rretdU/kqZWCycUjBNCCCEkrDS1W2ASbchK1kIlKGARbTCJtqgK4Byt\n",
              "X0aLDYAE0cagVSmiKkkdQK1nJHQMZhG6GCVYhxUSY+A5DroYJZo6LDCYRa9aqR03kxJj7DeTOixi\n",
              "wG8mOaY9TIpRQavkYbRK2HeiCf979Ri5vs7v3VNA7K+bYZ5a12lqtf6jI0YIIYSQsOKc9MhoEdFq\n",
              "tCIlVh1VAVycRkDR/HHQqhT2uYtVChTNHxdVXdSBC2NmhyZq0WG1YWiillrPSFAkx6owNEGLOLUC\n",
              "QxM0iFMrkKhVYuXbh71OduZ8LdIbrWjtCPy1yPkGQFKsGokx7qdAc3AExFsKZ2Jz4aUuXdCd69/R\n",
              "x2tpb4naQj21WqSjo0YIIYSQsKISeNw6PQtGq4SaFhOMVgm3Ts+Kuh97S6Zk4ouHrsT6Oybji4eu\n",
              "xJIpmaGuUsBwADjmmMeZkMBz3AjKTI6FBCAjKQaMAWdbjF5n/3ZcizosNtS0GNFhtQX8WtSXANpT\n",
              "QOw4BhlJMbDYpD51Je/auu5pfnTSN9H1V40QQgghfbJq1SpkZ2eD4ziUlpbK5eXl5Zg5cyZGjx6N\n",
              "qVOnoqyszKtl/WERJbz9ZRViVApkJGoRo1Lg7S+rom7KnNLqFvzi/w7i8ZIy/OL/DgZtSqJgcrSq\n",
              "nWkxQqtS4EyLkaY/IkHj3Gr88q35MIk2n4JKx7VIq+SRkaiBVskH/FrkjwDaWU8t597wR+s68YyC\n",
              "cUIIIYRg0aJF2LNnD4YPH+5SXlhYiBUrVuCHH37Aww8/jIKCAq+W9YejJSZOxQNgiFPxUdcSM1Dm\n",
              "6HWcS51GgFLBQ6cRou5ckvDmaDVO02l8DiovdBlXQadVITFGFZTPb38D6K7605Xc3zcHiKvoGphE\n",
              "CCGEkD65/PLLu5U1NDTg0KFD+PjjjwEACxcuxMqVK1FRUQGdTudxWW5ubr/qkhyrgtkqoaHNLJcN\n",
              "jo+ulpiBkmV8IExTRyKDI6h8/P1vcM5g7jF/gSNzeJxaCFkCQl8ysAcaJWoLHArGCSGEEOJWdXU1\n",
              "hgwZAkGw/1zgOA5ZWVmoqqpCQkKCx2XugnGz2Qyz2exSZrPZ3L5vu0nEuTbXdc+1mdFuEqHyYX7f\n",
              "cDaQsoxH+zR1JLL0lr+ga+bwW6dn4e0vqwb89F3hdHMgmgy8TxIhhBBCgm7t2rVISEhweRw4cMDt\n",
              "uqU1zXDEa44fzKyzPFoMlK6fztPU5Q6OQ1ayVp6mjpBg8iZ/gbvhI29/WYWNy6b7rcs4Ic6oZZwQ\n",
              "QgghbmVmZqK2thaiKEIQBDDGUFVVhaysLOh0Oo/L3HnkkUdw//33u5Q99thjbtfNy0gCzwESgxyU\n",
              "85y9PJoMhK6fzj0AErQc9CYxansAkPDh6Gbu/L3yZmiIp3UMZpFahUlARN9VnxBCCCF+MXjwYOTn\n",
              "52Pjxo0AgG3btiEjIwO5ubk9LnNHrVZDp9O5PBQKhdt1k+JUuHduLvjOZnGeA+6dm4ukKOmi7iza\n",
              "5+gdKD0ASPgorW7BkuJ93eYS9yYrOGUOJ8FGLeOEEEIIQWFhIXbs2IG6ujpcd911iI+PR0VFBYqL\n",
              "i1FQUIA1a9ZAp9Nhw4YN8mt6WtZfv752DJbNHIHSmmbkZSRFZSA+UAyEHgAkPDh3M0/QKuVZCjYX\n",
              "XirfGHKMB3d3Y8ibdQjxJwrGCSGEEILi4mK35WPGjMG+fft8XuYPSXEqzL0oLWDbJ8FDyZ9IMPTW\n",
              "Fd2bG0N084gEE326CCGEEEIIIRHPm27m3gwN8ffwEYsooa7V5JIsjhAgwMF4eXk5Zs6cidGjR2Pq\n",
              "1KkoKytzu97rr7+OUaNGYeTIkbjrrrtgtVoDWS1CiJ/Qd5wQQggh4SIccxR4GsNOCBDgYLywsBAr\n",
              "VqzADz/8gIcffhgFBQXd1jl16hQee+wx7N69GxUVFaivr8drr70WyGr1Sdc7Wj3d4eppmcEk4lhN\n",
              "Cwwm0e37NLSa8O5X1WhoNXVb1/l512XNBgt2fV+PZoPF5f+97UtP23Gui7v9cl73TFMH/r7nJM40\n",
              "dXTbj671cV5Wec6AP//nOCrPGdy+R0/Ho7xOj6f/WYbyOn239+/pPbsuc37uy3nu7Th7Oua+LAt3\n",
              "4fAd/9Ub+5G9egd+9cZ+v22TkEDJXr1DfhAykPT2+4cQf3F0Mw+HqcjcTZXWdTq1YNUjUn9rRruA\n",
              "jRlvaGjAoUOH8PHHHwMAFi5ciJUrV6KiosIl0+rWrVsxf/58pKenAwDuvvturFmzBr/85S8DVTWf\n",
              "lVa3yIkcUmLVuHV6Ft7+skp+XjR/nPxF77qu87LNh6pRVFIGsyhB3XnnbsmUTPl9Htx6FFsO1cjP\n",
              "FZ1pZNUCjxsmDMGOY7UwixIUnH2qF4nZl12ak4JdxxsgMbhwZJ/99bVj3O4LGHCuzQyrxHrcDgBc\n",
              "ddFgNHaOw0mJVWNUWhy2fVXTbd2nPvgO6To16vTmbtvgOWB0Wjy+r2vrtuzP/63ARenx0CgV8nuk\n",
              "xKrw3+8b3B4PnUaQ32P9F5Uu7z88OQbVzR2QWM/vyXNAflYSDlc1Q2L2uWwH6dRQC3yv5/n5j4/j\n",
              "lV0V8nt0Pc7OevpM9LQs3IXDd9w5oPnn94345+odqHzmhn5vl5BA6BqAZ9PnlQwQvf3+IcTfwiVH\n",
              "gTfTqQVaJP/WHAgC1jJeXV2NIUOGQBDsHzyO45CVlYWqqiqX9aqqqjB8+HD5eXZ2drd1nJnNZuj1\n",
              "epeHzWYLzE7A8x2t6qb2bne4err7ZTCJKCopg9FiA88BRosNRSVl8h3ihlaTSyAOADaJgQNDh8WG\n",
              "LYdqYLTYwIHBYmOw2hgABqPFhv9+7z6Alhjwyq4KueXWuX4CB1Q3G2ESJXCd9fG0HQD47/cNOH3e\n",
              "AJWCR3VTB7Yc6h6IO7gLxB31cRcUO3xf14bKzveoaupwCcS7Hg9P7wEAp5s65Lr19J4SAw6dbpbX\n",
              "ZQAa9GYowHo8z80GixyIO7bjfJyd9fSZCJe7pX0ViO+4L99vTy3h1EJOwpGnlnBqISfRrrffP4RE\n",
              "s1BPlRbpvzUHgohL4LZ27VokJCS4PA4cOBCw9+t6RytWJcAsSohTC4hRCUjQKuU7XF3XdV528rwB\n",
              "ZlGCoOAg8DwEBQezKOHkeXv37D0V59y+P8dxUDjmWeUBBX/hlAkcJ8/B2u11nf9KDCitae62L7yX\n",
              "23GmVPCIUQlQKrxYuc84xKgEuRW821LO+/fuadWui5yfM3A9nufSmgsBvOM9nI+zs54+Ez0tG6h8\n",
              "+X7/8/tGn8oJIYQEX2+/fwiJZqEew06/NcNfwD4JmZmZqK2thSja73wyxlBVVYWsrCyX9bKysnD6\n",
              "9Gn5eWVlZbd1nD3yyCNobW11eUybNi0wO4Hud7TazSLUAg+DWex2h6unu185qXFQCzxEG4MoSRBt\n",
              "9q7hOalxAIBZuYPcvj9jDDZHC6wE2KQLd7JExjy2TjuKeQ7Iy0jqti+Sl9txZrVJ6LCIna3ygcLQ\n",
              "YRFh81Ahxrx/755W7brI+TkH1uN5zstIkm9eON7D+Tg76+kzEeq7pf0ViO+4L9/vn1yU4lM5IYSQ\n",
              "4Ovt9w8h0S6UY9gj/bfmQBCwYHzw4MHIz8/Hxo0bAQDbtm1DRkaGy1hSwD7OtKSkBHV1dWCMYd26\n",
              "dbj55ps9bletVkOn07k8FApFoHaj+x2tZPsdrczk2G53uHq6+xWnEVA0fxy0KgUkBmhVChTNH4c4\n",
              "jb2L7+AEDRZPyXB5bwXPgYFDjEqBxVMyoFUpwMBBpeA6W6c5aFUKXHXRYLct246xzElxqm77IjIg\n",
              "M0kLjcCDddbH03YA+5jx4alxsNgkZCbHYPGUDI/rpuvUbst5DrgoPd7jsb4oPR7Zne+RlRyDqy4a\n",
              "7PF4eHoPABieHCPXraf35DlgyvALgTUHYLBODRu4Hs9zUpwK987NdXkP5+PsrKfPRKjvlvZXIL7j\n",
              "vny/XyqY4VM5IaHkaWw4jRkn0a633z+EDAT+nirNl/eN5N+aAwILoO+//57NmDGDjRo1ik2ePJkd\n",
              "O3aMMcbYsmXL2Pvvvy+v99prr7GcnByWk5PD7rzzTmaxWHx6n//93//1a73dMVttrLbFyMxWm9vn\n",
              "Pa3rrM1oZUerm1mb0er2fepbjGzboSpW32Lstq7z867LmtrM7JPv6lhTm9nl/73tS0/bca6Lu/1y\n",
              "XremsZ29vvsEq2ls77YfXevjvOxUQxv708ffs1MNbW7fo6fj8UNtK/tdyTfsh9rWbu/f03t2Xeb8\n",
              "3Jfz3Ntx9nTMfVkW7oLxHe/t+71ywz42/OEP2MoN+/q2E4QE0fCHP5AfJDh/v0l46O33D4lO9B0P\n",
              "D5H8WzPacYz50O83TN1///144YUXQl0NQkgA0PebkOhF329Coht9xwnpGfVRIIQQQgghhBBCgoyC\n",
              "cUIIIYQQQgghJMgoGCeEEEIIIYQQQoKMgnFCCCGEEEIIISTIoiKB20033YTs7OxQV6NPbDYbDhw4\n",
              "gGnTpgV0irZIRcfHveHDh+N//ud/Ql2NoOjt+x1JnxGqa2BEY10Hync8mr7ffTUQ9hEYGPtJ3+/u\n",
              "/PEbPRI+O+Fex3CvHxD+dQzU9zsqgvFIptfrkZCQgNbWVuh0ulBXJ+zQ8SG9iaTPCNU1MKiu0Wsg\n",
              "HK+BsI/AwNjPgbCPoRAJxzXc6xju9QPCv46Bqh91UyeEEEIIIYQQQoKMgnFCCCGEEEIIISTIKBgn\n",
              "hBBCCCGEEEKCjILxEFOr1XjiiSegVqtDXZWwRMeH9CaSPiNU18CgukavgXC8BsI+AgNjPwfCPoZC\n",
              "JBzXcK9juNcPCP86Bqp+lMCNEEIIIYQQQggJMmoZJ4QQQgghhBBCgoyCcUIIIYQQQgghJMgoGCeE\n",
              "EEIIIYQQQoKMgvEQ2LBhAziOw/bt2wEADQ0NmDdvHkaNGoXx48fj888/D20FQ8RsNmPlypUYNWoU\n",
              "LrnkEtx2220AgPLycsycOROjR4/G1KlTUVZWFuKakmDw9ry//vrrGDVqFEaOHIm77roLVqvVq2XB\n",
              "rusnn3yCadOmYezYsRg3bhweeughSJIEAKisrIRCoUBeXp78OHHiRMjq+umnn0Kr1brUx2g0ysvD\n",
              "6bhu2LDBpZ6pqam46aabAAT3uK5atQrZ2dngOA6lpaUe1wuHz2ukGAjXfm8/N5HMZDLhxhtvxOjR\n",
              "ozFx4kRcc801qKioCHW1AuLaa6/FhAkTkJeXh9mzZ+PIkSOhrlJE8PQ96OkaEMzrg7v69fa5vuKK\n",
              "KzBixAj5b8+f/vSngNXPUx0BIDs7G2PGjJHr8c4778jLQn0MGxsbXf4+jx49GoIgoKmpCUDwj2FP\n",
              "57SnWK3fcRwjQXXq1Cl26aWXshkzZrD33nuPMcbYL37xC/bEE08wxhg7cOAAGzZsGLNYLKGrZIjc\n",
              "d999bOXKlUySJMYYY7W1tYwxxubOncs2bNjAGGNsy5YtbMqUKaGqIgkib877yZMn2ZAhQ1htbS2T\n",
              "JIn95Cc/YS+//HKvy0JR18OHD7MTJ04wxhgzGo3ssssuk19z6tQplpCQEJC69aWuu3btYhMnTnT7\n",
              "+nA7rl2NGzeObd26lTEW3OP62WefserqajZ8+HB25MgRt+uEy+c1UgyEa783n5tIZzQa2Y4dO+S/\n",
              "7S+99BKbM2dOaCsVIM3NzfL/3333XTZhwoTQVSaCePoe9HQNCOb1wV39evtcz5kzR/6dHwyejmFP\n",
              "15ZQH8OunnvuOfbjH/9Yfh7sY9jTOe0pVutvHEfBeBDZbDZ21VVXsUOHDrl8wGJjY+XAkzHGpk6d\n",
              "yv7zn/+EqJahYTAYWHx8PGttbXUpr6+vZ/Hx8cxqtTLGGJMkiaWlpbHy8vJQVJMEibfn/dlnn2WF\n",
              "hYXy8x07drDLLrus12WhqGtXv/zlL+WLd7CCRm/r2lMwHs7Hdf/+/WzQoEHyH8FgBuMOPf3QCIfP\n",
              "a6QYaNf+aA7Guzp48CAbPnx4qKsRcBs2bPB4HSXuOX8PeroGhOr60NP3tOvnOtiBpIO3wXg4HsOL\n",
              "LrrI5ZiF6hg6OJ/TnmK1/sZx1E09iF544QVcdtllmDx5slzW2NgIq9WK9PR0uSw7OxtVVVWhqGLI\n",
              "nDhxAsnJyVizZg2mTJmC2bNn47///S+qq6sxZMgQCIIAAOA4DllZWQPu+Aw03p73qqoqDB8+XH7u\n",
              "/N3paVko6uqsrq4OW7duxY9//GO5rL29HVOnTkV+fj6eeuop2Gy2kNb1xIkTyM/Px9SpU/HKK6/I\n",
              "5eF8XF9//XXcfvvtUCqVclkwjqu3wuHzGino2h+9XnzxRSxYsCDU1QiYO+64A5mZmXjsscfw1ltv\n",
              "hbo6Eauna0A4Xh/cfa5Xr16NSy65BD/72c9w8uTJENXM/pm85JJLsGzZMpw7dw5A+F1j9+7di+bm\n",
              "ZpffRUBoj6HjnPYUq/kjjqNgPEi++eYbbNu2Db/97W9DXZWwJIoiTp8+jbFjx+LQoUP4y1/+gp/9\n",
              "7GcQRTHUVSPEr/R6PX7yk5/goYcewpQpUwAAQ4YMwZkzZ3Dw4EHs3LkTu3fvxh//+MeQ1TE/Px81\n",
              "NTU4fPgw3nvvPaxbtw6bN28OWX280d7ejn/84x9YtmyZXBZux5WQgW7NmjWoqKjA2rVrQ12VgHnz\n",
              "zTdRXV2Np59+Gg8//HCoq0OCwN3n+q233sL333+PY8eOYfbs2d2CzGD5/PPPcezYMRw+fBipqalY\n",
              "unRpSOrRm9dffx133HGHfHMACO0xDOa1ioLxINm9ezcqKysxatQoZGdnY//+/VixYgU2b94MQRBQ\n",
              "V1cnr1tZWYmsrKwQ1jb4srKywPM8fv7znwMAJk2ahBEjRuD06dOora2Vg3LGGKqqqgbc8RloMjMz\n",
              "vTrvWVlZOH36tPzc+bvT07JQ1BUA2traMG/ePCxYsAD333+/XK5WqzF48GAAQHJyMu68807s3r07\n",
              "ZHXV6XRISEgAAGRkZOCWW26R6xOOxxUAtmzZgnHjxmHs2LFyWbCOq7fC4fMaKXw9/yT8Pf/883j3\n",
              "3Xfx0UcfISYmJtTVCbilS5di165daGxsDHVVIlJP14Bwuj54+lxnZmYCsLc4r1y5EidPngzJZ8Fx\n",
              "TJRKJe677z75b2A4HUODwYDNmzfjzjvvdCkP1THsek5TUlI8xmo9LfMWBeNBcs8996C2thaVlZWo\n",
              "rKzEjBkz8Nprr+Gee+7B4sWLsW7dOgDAwYMHcebMGcyZMyfENQ6u1NRUXHXVVfj3v/8NADh16hRO\n",
              "nTqFyy67DPn5+di4cSMAYNu2bcjIyEBubm4oq0sCbPDgwV6d94ULF6KkpAR1dXVgjGHdunW4+eab\n",
              "e10WiroaDAbMmzcP8+bN69ZDpqGhQc6cbTab8e6772LSpEkhq2ttba2c6b2trQ0ffPCBXJ9wO64O\n",
              "r7/+ukurOBC84+qtcPi8Rgpfzz8Jby+88AI2bdqE//znP0hMTAx1dQKipaUFZ8+elZ9v374dKSkp\n",
              "SE5ODmGtIldP14BwuT54+lyLooj6+nr5+bZt25CWloaUlJSg1q+9vR0tLS3y802bNsl/A8PlGALA\n",
              "O++8g4kTJ+Kiiy6Sy0J1DD2d055itX7HcX0d1E76xzkpQV1dHbvmmmtYbm4uGzt2LPvkk09CW7kQ\n",
              "OXHiBLviiivY+PHj2YQJE+SMyN9//z2bMWMGGzVqFJs8eTI7duxYiGtKgsHTeV+2bBl7//335fVe\n",
              "e+01lpOTw3Jyctidd97pksGyp2XBruvTTz/NBEFgEydOlB9PP/00Y4yxbdu2sXHjxrEJEyawsWPH\n",
              "spUrVzKTyRSyur700kts7Nixcn2eeOIJObsoY+F1XB3rxcXFMb1e7/L6YB7XFStWsGHDhjGFQsEG\n",
              "Dx7MRo4c6bau4fB5jRQD4drv6XMTTaqrqxkAlpOTI1/7pk2bFupq+V1lZSWbOnWq/BvmqquuGjBJ\n",
              "+frL0/egp2tAMK8P7urX0+faYDCwyZMny5+FK6+8kpWWlgasfp7qeOLECZaXl8cuueQSNn78eDZ/\n",
              "/nx26tQp+TWhPoYOl156Kfv73//usn4ojmFP57SnWK2/cRzHGGP+uZdACCGEEEIIIYQQb1A3dUII\n",
              "IYQQQgghJMgoGCeEEEIIIYQQQoKMgnFCCCGEEEIICYGioiKYTCa/bW/79u3Yv3+//PzTTz9FXl6e\n",
              "37ZP/IuCcUIIIYQQQggJgSeffNJtMO6YdsxXXYNxEt4oGCce/fznP8eUKVMwYcIE3HDDDfIcesXF\n",
              "xRg9ejTy8/Pxu9/9DhzHya85ePAgrrzySkyZMgWTJk3Cli1bQlV9QkgPjEYjfvazn2Hs2LGYOHEi\n",
              "rr32WgDAW2+9henTpyM/Px+XX345jh49CkmSMG/ePDz//PMAgBMnTiAjIwPHjx8P5S4QQry0b98+\n",
              "zJo1CxMnTsSECRPw/vvvIzs7Gw8++CAmT56M3NxcPPfcc6GuJiEDzt133w0AmD17NvLy8nD99dfj\n",
              "zjvvxOWXX47x48cDcP93GQD279+PyZMnIy8vD+PHj8err76KDz/8ECUlJXjuueeQl5eH9evXA7AH\n",
              "9nfccQfGjx+PyZMno7S0FIC91Xz8+PFul5WXl+Oyyy7DxIkTcckll3SblpX4iR8zwpMo09DQIP9/\n",
              "7dq1rLCwkH399dcsPT2d1dbWMsYYe/zxx5njY9Tc3Mzy8vLY2bNnGWOMnTt3jmVmZrKamprgV54Q\n",
              "0qN3332XXXvttfLzxsZGtmfPHvajH/1Inv7r888/Z2PHjmWM2b/P2dnZbNeuXSw/P5+9/fbbIak3\n",
              "IcQ3jY2NbPDgwezzzz9njDFms9lYY2MjGz58OLv99tuZJEny3+svvvgixLUlZOABwJqbmxljjC1d\n",
              "upRNmDBBnqqzp7/L8+fPd/lb3NTUJG/jT3/6k1y+a9cuBoDt3LmTMcbYO++8w8aMGcMkSepx2apV\n",
              "q9iaNWvk7TQ2NgbmAAxwQmhvBZBw9vbbb+Ott96CyWSCyWRCamoqPvnkE8ybNw/p6ekAgLvuugtP\n",
              "PfUUAGDv3r04efIkfvSjH7ls5/jx4xg2bFjQ608I8WzixIn47rvvcO+992LOnDm4/vrr8f777+Po\n",
              "0aOYPn26vF5TUxOMRiNSU1OxceNGzJ07FwUFBbjllltCWHtCiLf27duHMWPGYPbs2QAAnueRnJwM\n",
              "AFi2bBk4jkNqaipuuukm7Ny5EzNnzgxldQkZ8BYvXoz4+HgA6PHv8ty5c/G73/0O5eXluPLKKzFr\n",
              "1iyP28zOzsZVV10FAFiyZAlWrFiB6urqHpddfvnlePDBB2EwGDBnzhxcffXVgdrlAY26qRO39uzZ\n",
              "g7/85S/48MMP8c033+CFF15wO57FuYs6Ywzjxo1DaWmp/KiqqsKVV14ZzKoTQryQk5ODb7/9FvPm\n",
              "zcMXX3yB8ePHo7m5GUuXLnX5DtfW1kKr1QIAjhw5gpSUFJw5cwaMsRDvASHE35z/phNCQiMuLk7+\n",
              "P2PM49/l++67Dzt27MCQIUPwm9/8Bvfee6/X78FxnMfvu2PZwoUL8cUXX2DMmDF4+eWX8eMf/7jf\n",
              "+0a6o2CcuNXc3Iz4+HikpKTAYrGguLgYADB37lz8+9//RkNDAwDg9ddfl18zc+ZMnDp1Cjt37pTL\n",
              "SktLYbFYglt5QkivampqwHEc5s+fj+effx6MMdx2223YuHEjqqqqAACSJOHQoUMAgMOHD+P555/H\n",
              "kSNHAADPPvtsyOpOCPHezJkzUV5ejt27dwOwf6+bmpoAAG+88QYAe0vbe++9J7eOEUKCJz4+Hq2t\n",
              "rW6XzZ8/3+Pf5ePHj2PEiBG466678Jvf/EZO2qbT6bptr7KyErt27QIAbN26FWlpacjIyOhxWXl5\n",
              "OdLS0nDHHXfg2WefpaRwAULd1Ilb8+bNw8aNGzFmzBikpKTg6quvxpkzZ+QEDpdddhni4+Mxb948\n",
              "JCQkAACSkpKwY8cO/PrXv8YDDzwAq9WKrKwsbN++PbQ7Qwjp5uuvv8YjjzwCxhhEUcTtt9+OOXPm\n",
              "4Nlnn8VPf/pTiKIIi8WCG264AaNHj8bNN9+Mv//970hPT8ebb76JadOmYdasWbjssstCvSuEkB4k\n",
              "JSXhvffewwMPPIC2tjbwPI/f/e53AIBBgwZh8uTJaG1txcqVK6mLOiEh8MADD+Caa65BTEwMhg4d\n",
              "6rJs9uzZbv8uT5kyBS+//DI++eQTqFQqKBQK/PGPfwQA3H777SgoKMD27dvxy1/+Erm5uRg3bhze\n",
              "eOMNrFq1CiqVCps2bZJbxj0t27p1KzZu3AiVSgVJkrBu3bqgH5uBgGPU15D4qK2tTR7L8uKLL+Jf\n",
              "//oXPvrooxDXihBCCCHeys7Oxvbt22n+YUIGsE8//RT33XefnEGdBB+1jBOfrV69Gl988QWsViuG\n",
              "Dh0qd2EnhBBCCCGEEOIdahknhBBCCCGEEEKCjBK4EUIIIYQQQgghQUbBOCGEEEIIIYQQEmQUjBNC\n",
              "CCGEEEIIIUFGwTghhBBCCCGEEBJkFIwTQgghhBBCCCFBRsE4IYQQQgghhBASZBSME0IIIYQQQggh\n",
              "QUbBOCGEEEIIIYQQEmQUjBNCCCGEEEIIIUH2/wF6UaI4XS1IBwAAAABJRU5ErkJggg==\n",
              "\">\n",
              "        \n",
              "      </div>\n",
              "      <script></script>\n",
              "      <script type=\"text/javascript\">\n",
              "        (() => {\n",
              "          const chartElement = document.getElementById(\"chart-62111643-24c8-4ec6-8486-8f654d15fb2a\");\n",
              "          async function getCodeForChartHandler(event) {\n",
              "            const chartCodeResponse =  await google.colab.kernel.invokeFunction(\n",
              "                'getCodeForChart', [\"chart-62111643-24c8-4ec6-8486-8f654d15fb2a\"], {});\n",
              "            const responseJson = chartCodeResponse.data['application/json'];\n",
              "            await google.colab.notebook.addCell(responseJson.code, 'code');\n",
              "          }\n",
              "          chartElement.onclick = getCodeForChartHandler;\n",
              "        })();\n",
              "      </script>\n",
              "      <style>\n",
              "        .colab-quickchart-chart-with-code  {\n",
              "            display: block;\n",
              "            float: left;\n",
              "            border: 1px solid transparent;\n",
              "        }\n",
              "\n",
              "        .colab-quickchart-chart-with-code:hover {\n",
              "            cursor: pointer;\n",
              "            border: 1px solid #aaa;\n",
              "        }\n",
              "      </style>"
            ]
          },
          "metadata": {}
        }
      ]
    },
    {
      "cell_type": "code",
      "source": [
        "model.score(X_test, y_test)"
      ],
      "metadata": {
        "colab": {
          "base_uri": "https://localhost:8080/"
        },
        "id": "Q4leFVLWq3VN",
        "outputId": "496b4696-cd31-46d0-b260-84390b627eb2"
      },
      "execution_count": 75,
      "outputs": [
        {
          "output_type": "execute_result",
          "data": {
            "text/plain": [
              "0.7704918032786885"
            ]
          },
          "metadata": {},
          "execution_count": 75
        }
      ]
    },
    {
      "cell_type": "code",
      "source": [
        "from sklearn.metrics import classification_report\n",
        "\n",
        "gnb_report = classification_report(y_test, gnb_preds)\n",
        "print(gnb_report)"
      ],
      "metadata": {
        "colab": {
          "base_uri": "https://localhost:8080/"
        },
        "id": "1f-QS19xrrUz",
        "outputId": "75dad7e9-d20b-4164-8bc8-7791366259c9"
      },
      "execution_count": 76,
      "outputs": [
        {
          "output_type": "stream",
          "name": "stdout",
          "text": [
            "              precision    recall  f1-score   support\n",
            "\n",
            "           0       0.91      0.72      0.81        29\n",
            "           1       0.79      0.94      0.86        32\n",
            "\n",
            "    accuracy                           0.84        61\n",
            "   macro avg       0.85      0.83      0.83        61\n",
            "weighted avg       0.85      0.84      0.83        61\n",
            "\n"
          ]
        }
      ]
    },
    {
      "cell_type": "code",
      "source": [
        "from sklearn.metrics import accuracy_score\n",
        "\n",
        "gnb_acc_score = accuracy_score(y_test, gnb_preds)\n",
        "gnb_acc_score\n"
      ],
      "metadata": {
        "colab": {
          "base_uri": "https://localhost:8080/"
        },
        "id": "74IPTD94r-D0",
        "outputId": "1cf73ef9-781e-4190-b8f9-946f968190ea"
      },
      "execution_count": 77,
      "outputs": [
        {
          "output_type": "execute_result",
          "data": {
            "text/plain": [
              "0.8360655737704918"
            ]
          },
          "metadata": {},
          "execution_count": 77
        }
      ]
    },
    {
      "cell_type": "code",
      "source": [
        "from sklearn.metrics import confusion_matrix\n",
        "from sklearn.metrics import ConfusionMatrixDisplay\n",
        "\n",
        "gnb_conf_matrix = confusion_matrix(y_test, gnb_preds)\n",
        "gnb_conf_matrix"
      ],
      "metadata": {
        "colab": {
          "base_uri": "https://localhost:8080/"
        },
        "id": "Uw5QldussRRH",
        "outputId": "583d8a64-e22e-4ec4-c1ea-306f4dc89b89"
      },
      "execution_count": 80,
      "outputs": [
        {
          "output_type": "execute_result",
          "data": {
            "text/plain": [
              "array([[21,  8],\n",
              "       [ 2, 30]])"
            ]
          },
          "metadata": {},
          "execution_count": 80
        }
      ]
    },
    {
      "cell_type": "code",
      "source": [
        "gnb_disp = ConfusionMatrixDisplay(gnb_conf_matrix, display_labels=[\"Not heart disease\", \"Heart disease\"])\n",
        "gnb_disp.plot()"
      ],
      "metadata": {
        "colab": {
          "base_uri": "https://localhost:8080/",
          "height": 472
        },
        "id": "oPUGonYNsczi",
        "outputId": "068f1f35-cdab-4397-decb-c8da78c9e054"
      },
      "execution_count": 83,
      "outputs": [
        {
          "output_type": "execute_result",
          "data": {
            "text/plain": [
              "<sklearn.metrics._plot.confusion_matrix.ConfusionMatrixDisplay at 0x79bb5b573c40>"
            ]
          },
          "metadata": {},
          "execution_count": 83
        },
        {
          "output_type": "display_data",
          "data": {
            "text/plain": [
              "<Figure size 640x480 with 2 Axes>"
            ],
            "image/png": "[encoded data removed]"
          },
          "metadata": {}
        }
      ]
    },
    {
      "cell_type": "code",
      "source": [
        "51/61"
      ],
      "metadata": {
        "colab": {
          "base_uri": "https://localhost:8080/"
        },
        "id": "wFb_4B6JtQdP",
        "outputId": "f01fe3b4-135b-4d91-bb3f-56ab56a8ffda"
      },
      "execution_count": 84,
      "outputs": [
        {
          "output_type": "execute_result",
          "data": {
            "text/plain": [
              "0.8360655737704918"
            ]
          },
          "metadata": {},
          "execution_count": 84
        }
      ]
    },
    {
      "cell_type": "markdown",
      "source": [
        "### MODEL 4 => Support Vector Machines"
      ],
      "metadata": {
        "id": "f-Sj2HmRtdDP"
      }
    },
    {
      "cell_type": "code",
      "source": [
        "from sklearn import svm\n",
        "\n",
        "svm_model = svm.SVC()\n",
        "\n",
        "svm_model.fit(X_train, y_train)"
      ],
      "metadata": {
        "colab": {
          "base_uri": "https://localhost:8080/",
          "height": 75
        },
        "id": "TkibfnjD0uNn",
        "outputId": "437c84f8-a7fd-4e75-d057-7ce27ff1c81c"
      },
      "execution_count": 87,
      "outputs": [
        {
          "output_type": "execute_result",
          "data": {
            "text/plain": [
              "SVC()"
            ],
            "text/html": [
              "<style>#sk-container-id-1 {color: black;background-color: white;}#sk-container-id-1 pre{padding: 0;}#sk-container-id-1 div.sk-toggleable {background-color: white;}#sk-container-id-1 label.sk-toggleable__label {cursor: pointer;display: block;width: 100%;margin-bottom: 0;padding: 0.3em;box-sizing: border-box;text-align: center;}#sk-container-id-1 label.sk-toggleable__label-arrow:before {content: \"▸\";float: left;margin-right: 0.25em;color: #696969;}#sk-container-id-1 label.sk-toggleable__label-arrow:hover:before {color: black;}#sk-container-id-1 div.sk-estimator:hover label.sk-toggleable__label-arrow:before {color: black;}#sk-container-id-1 div.sk-toggleable__content {max-height: 0;max-width: 0;overflow: hidden;text-align: left;background-color: #f0f8ff;}#sk-container-id-1 div.sk-toggleable__content pre {margin: 0.2em;color: black;border-radius: 0.25em;background-color: #f0f8ff;}#sk-container-id-1 input.sk-toggleable__control:checked~div.sk-toggleable__content {max-height: 200px;max-width: 100%;overflow: auto;}#sk-container-id-1 input.sk-toggleable__control:checked~label.sk-toggleable__label-arrow:before {content: \"▾\";}#sk-container-id-1 div.sk-estimator input.sk-toggleable__control:checked~label.sk-toggleable__label {background-color: #d4ebff;}#sk-container-id-1 div.sk-label input.sk-toggleable__control:checked~label.sk-toggleable__label {background-color: #d4ebff;}#sk-container-id-1 input.sk-hidden--visually {border: 0;clip: rect(1px 1px 1px 1px);clip: rect(1px, 1px, 1px, 1px);height: 1px;margin: -1px;overflow: hidden;padding: 0;position: absolute;width: 1px;}#sk-container-id-1 div.sk-estimator {font-family: monospace;background-color: #f0f8ff;border: 1px dotted black;border-radius: 0.25em;box-sizing: border-box;margin-bottom: 0.5em;}#sk-container-id-1 div.sk-estimator:hover {background-color: #d4ebff;}#sk-container-id-1 div.sk-parallel-item::after {content: \"\";width: 100%;border-bottom: 1px solid gray;flex-grow: 1;}#sk-container-id-1 div.sk-label:hover label.sk-toggleable__label {background-color: #d4ebff;}#sk-container-id-1 div.sk-serial::before {content: \"\";position: absolute;border-left: 1px solid gray;box-sizing: border-box;top: 0;bottom: 0;left: 50%;z-index: 0;}#sk-container-id-1 div.sk-serial {display: flex;flex-direction: column;align-items: center;background-color: white;padding-right: 0.2em;padding-left: 0.2em;position: relative;}#sk-container-id-1 div.sk-item {position: relative;z-index: 1;}#sk-container-id-1 div.sk-parallel {display: flex;align-items: stretch;justify-content: center;background-color: white;position: relative;}#sk-container-id-1 div.sk-item::before, #sk-container-id-1 div.sk-parallel-item::before {content: \"\";position: absolute;border-left: 1px solid gray;box-sizing: border-box;top: 0;bottom: 0;left: 50%;z-index: -1;}#sk-container-id-1 div.sk-parallel-item {display: flex;flex-direction: column;z-index: 1;position: relative;background-color: white;}#sk-container-id-1 div.sk-parallel-item:first-child::after {align-self: flex-end;width: 50%;}#sk-container-id-1 div.sk-parallel-item:last-child::after {align-self: flex-start;width: 50%;}#sk-container-id-1 div.sk-parallel-item:only-child::after {width: 0;}#sk-container-id-1 div.sk-dashed-wrapped {border: 1px dashed gray;margin: 0 0.4em 0.5em 0.4em;box-sizing: border-box;padding-bottom: 0.4em;background-color: white;}#sk-container-id-1 div.sk-label label {font-family: monospace;font-weight: bold;display: inline-block;line-height: 1.2em;}#sk-container-id-1 div.sk-label-container {text-align: center;}#sk-container-id-1 div.sk-container {/* jupyter's `normalize.less` sets `[hidden] { display: none; }` but bootstrap.min.css set `[hidden] { display: none !important; }` so we also need the `!important` here to be able to override the default hidden behavior on the sphinx rendered scikit-learn.org. See: https://github.com/scikit-learn/scikit-learn/issues/21755 */display: inline-block !important;position: relative;}#sk-container-id-1 div.sk-text-repr-fallback {display: none;}</style><div id=\"sk-container-id-1\" class=\"sk-top-container\"><div class=\"sk-text-repr-fallback\"><pre>SVC()</pre><b>In a Jupyter environment, please rerun this cell to show the HTML representation or trust the notebook. <br />On GitHub, the HTML representation is unable to render, please try loading this page with nbviewer.org.</b></div><div class=\"sk-container\" hidden><div class=\"sk-item\"><div class=\"sk-estimator sk-toggleable\"><input class=\"sk-toggleable__control sk-hidden--visually\" id=\"sk-estimator-id-1\" type=\"checkbox\" checked><label for=\"sk-estimator-id-1\" class=\"sk-toggleable__label sk-toggleable__label-arrow\">SVC</label><div class=\"sk-toggleable__content\"><pre>SVC()</pre></div></div></div></div></div>"
            ]
          },
          "metadata": {},
          "execution_count": 87
        }
      ]
    },
    {
      "cell_type": "code",
      "source": [
        "svm_model.score(X_test, y_test)"
      ],
      "metadata": {
        "colab": {
          "base_uri": "https://localhost:8080/"
        },
        "id": "M0zkFpBP05xb",
        "outputId": "3d52e832-57a4-44dd-d742-7f568c38848b"
      },
      "execution_count": 88,
      "outputs": [
        {
          "output_type": "execute_result",
          "data": {
            "text/plain": [
              "0.639344262295082"
            ]
          },
          "metadata": {},
          "execution_count": 88
        }
      ]
    },
    {
      "cell_type": "code",
      "source": [
        "from sklearn.metrics import accuracy_score\n",
        "accuracy_score(y_test, svm_model.predict(X_test))"
      ],
      "metadata": {
        "colab": {
          "base_uri": "https://localhost:8080/"
        },
        "id": "GGH0ux7Q1IRN",
        "outputId": "3a36b1b8-66f7-4bb6-c8f1-709eb3dfa029"
      },
      "execution_count": 91,
      "outputs": [
        {
          "output_type": "execute_result",
          "data": {
            "text/plain": [
              "0.639344262295082"
            ]
          },
          "metadata": {},
          "execution_count": 91
        }
      ]
    },
    {
      "cell_type": "code",
      "source": [
        "from sklearn.metrics import classification_report\n",
        "\n",
        "svm_mat = classification_report(y_test, svm_model.predict(X_test))\n",
        "print(svm_mat)"
      ],
      "metadata": {
        "colab": {
          "base_uri": "https://localhost:8080/"
        },
        "id": "zgJG5BPk1Q5v",
        "outputId": "13eb6382-f63f-4f8e-de87-2ebe5a57c431"
      },
      "execution_count": 93,
      "outputs": [
        {
          "output_type": "stream",
          "name": "stdout",
          "text": [
            "              precision    recall  f1-score   support\n",
            "\n",
            "           0       0.68      0.45      0.54        29\n",
            "           1       0.62      0.81      0.70        32\n",
            "\n",
            "    accuracy                           0.64        61\n",
            "   macro avg       0.65      0.63      0.62        61\n",
            "weighted avg       0.65      0.64      0.63        61\n",
            "\n"
          ]
        }
      ]
    },
    {
      "cell_type": "code",
      "source": [
        "from sklearn.metrics import confusion_matrix\n",
        "\n",
        "svm_conf_mat = confusion_matrix(y_test, svm_model.predict(X_test))\n",
        "svm_conf_mat"
      ],
      "metadata": {
        "colab": {
          "base_uri": "https://localhost:8080/"
        },
        "id": "CfViZAtn1i_m",
        "outputId": "e4d2b1e9-29fe-42ef-f003-a1272b6a24d2"
      },
      "execution_count": 96,
      "outputs": [
        {
          "output_type": "execute_result",
          "data": {
            "text/plain": [
              "array([[13, 16],\n",
              "       [ 6, 26]])"
            ]
          },
          "metadata": {},
          "execution_count": 96
        }
      ]
    },
    {
      "cell_type": "code",
      "source": [
        "from sklearn.metrics import ConfusionMatrixDisplay\n",
        "\n",
        "svm_disp = ConfusionMatrixDisplay(svm_conf_mat, display_labels=[\"Not heart disease\", \"Heart Disease\"])\n",
        "svm_disp.plot()"
      ],
      "metadata": {
        "colab": {
          "base_uri": "https://localhost:8080/",
          "height": 466
        },
        "id": "170-vAWF1308",
        "outputId": "f3bf92a8-b3f0-4b60-fca7-2f5c53eb5c26"
      },
      "execution_count": 97,
      "outputs": [
        {
          "output_type": "execute_result",
          "data": {
            "text/plain": [
              "<sklearn.metrics._plot.confusion_matrix.ConfusionMatrixDisplay at 0x79bb5b6a6860>"
            ]
          },
          "metadata": {},
          "execution_count": 97
        },
        {
          "output_type": "display_data",
          "data": {
            "text/plain": [
              "<Figure size 640x480 with 2 Axes>"
            ],
            "image/png": "[encoded data removed]"
          },
          "metadata": {}
        }
      ]
    },
    {
      "cell_type": "code",
      "source": [
        "39/61"
      ],
      "metadata": {
        "colab": {
          "base_uri": "https://localhost:8080/"
        },
        "id": "JuzAcUxY2WB8",
        "outputId": "bb5ac00b-8bd2-4b22-ad63-1655eea5106a"
      },
      "execution_count": 98,
      "outputs": [
        {
          "output_type": "execute_result",
          "data": {
            "text/plain": [
              "0.639344262295082"
            ]
          },
          "metadata": {},
          "execution_count": 98
        }
      ]
    },
    {
      "cell_type": "markdown",
      "source": [
        "### MODEL 5 => Knearest Neighbor"
      ],
      "metadata": {
        "id": "vVmyx8uQ2a5G"
      }
    },
    {
      "cell_type": "code",
      "source": [
        "from sklearn.neighbors import KNeighborsClassifier\n",
        "\n",
        "knn = KNeighborsClassifier(n_neighbors=10, weights=\"distance\")\n",
        "\n",
        "knn.fit(X_train, y_train)"
      ],
      "metadata": {
        "colab": {
          "base_uri": "https://localhost:8080/",
          "height": 75
        },
        "id": "5mpFokz42l8o",
        "outputId": "3949e7bf-43b6-44ae-f410-7ef729386b17"
      },
      "execution_count": 111,
      "outputs": [
        {
          "output_type": "execute_result",
          "data": {
            "text/plain": [
              "KNeighborsClassifier(n_neighbors=10, weights='distance')"
            ],
            "text/html": [
              "<style>#sk-container-id-6 {color: black;background-color: white;}#sk-container-id-6 pre{padding: 0;}#sk-container-id-6 div.sk-toggleable {background-color: white;}#sk-container-id-6 label.sk-toggleable__label {cursor: pointer;display: block;width: 100%;margin-bottom: 0;padding: 0.3em;box-sizing: border-box;text-align: center;}#sk-container-id-6 label.sk-toggleable__label-arrow:before {content: \"▸\";float: left;margin-right: 0.25em;color: #696969;}#sk-container-id-6 label.sk-toggleable__label-arrow:hover:before {color: black;}#sk-container-id-6 div.sk-estimator:hover label.sk-toggleable__label-arrow:before {color: black;}#sk-container-id-6 div.sk-toggleable__content {max-height: 0;max-width: 0;overflow: hidden;text-align: left;background-color: #f0f8ff;}#sk-container-id-6 div.sk-toggleable__content pre {margin: 0.2em;color: black;border-radius: 0.25em;background-color: #f0f8ff;}#sk-container-id-6 input.sk-toggleable__control:checked~div.sk-toggleable__content {max-height: 200px;max-width: 100%;overflow: auto;}#sk-container-id-6 input.sk-toggleable__control:checked~label.sk-toggleable__label-arrow:before {content: \"▾\";}#sk-container-id-6 div.sk-estimator input.sk-toggleable__control:checked~label.sk-toggleable__label {background-color: #d4ebff;}#sk-container-id-6 div.sk-label input.sk-toggleable__control:checked~label.sk-toggleable__label {background-color: #d4ebff;}#sk-container-id-6 input.sk-hidden--visually {border: 0;clip: rect(1px 1px 1px 1px);clip: rect(1px, 1px, 1px, 1px);height: 1px;margin: -1px;overflow: hidden;padding: 0;position: absolute;width: 1px;}#sk-container-id-6 div.sk-estimator {font-family: monospace;background-color: #f0f8ff;border: 1px dotted black;border-radius: 0.25em;box-sizing: border-box;margin-bottom: 0.5em;}#sk-container-id-6 div.sk-estimator:hover {background-color: #d4ebff;}#sk-container-id-6 div.sk-parallel-item::after {content: \"\";width: 100%;border-bottom: 1px solid gray;flex-grow: 1;}#sk-container-id-6 div.sk-label:hover label.sk-toggleable__label {background-color: #d4ebff;}#sk-container-id-6 div.sk-serial::before {content: \"\";position: absolute;border-left: 1px solid gray;box-sizing: border-box;top: 0;bottom: 0;left: 50%;z-index: 0;}#sk-container-id-6 div.sk-serial {display: flex;flex-direction: column;align-items: center;background-color: white;padding-right: 0.2em;padding-left: 0.2em;position: relative;}#sk-container-id-6 div.sk-item {position: relative;z-index: 1;}#sk-container-id-6 div.sk-parallel {display: flex;align-items: stretch;justify-content: center;background-color: white;position: relative;}#sk-container-id-6 div.sk-item::before, #sk-container-id-6 div.sk-parallel-item::before {content: \"\";position: absolute;border-left: 1px solid gray;box-sizing: border-box;top: 0;bottom: 0;left: 50%;z-index: -1;}#sk-container-id-6 div.sk-parallel-item {display: flex;flex-direction: column;z-index: 1;position: relative;background-color: white;}#sk-container-id-6 div.sk-parallel-item:first-child::after {align-self: flex-end;width: 50%;}#sk-container-id-6 div.sk-parallel-item:last-child::after {align-self: flex-start;width: 50%;}#sk-container-id-6 div.sk-parallel-item:only-child::after {width: 0;}#sk-container-id-6 div.sk-dashed-wrapped {border: 1px dashed gray;margin: 0 0.4em 0.5em 0.4em;box-sizing: border-box;padding-bottom: 0.4em;background-color: white;}#sk-container-id-6 div.sk-label label {font-family: monospace;font-weight: bold;display: inline-block;line-height: 1.2em;}#sk-container-id-6 div.sk-label-container {text-align: center;}#sk-container-id-6 div.sk-container {/* jupyter's `normalize.less` sets `[hidden] { display: none; }` but bootstrap.min.css set `[hidden] { display: none !important; }` so we also need the `!important` here to be able to override the default hidden behavior on the sphinx rendered scikit-learn.org. See: https://github.com/scikit-learn/scikit-learn/issues/21755 */display: inline-block !important;position: relative;}#sk-container-id-6 div.sk-text-repr-fallback {display: none;}</style><div id=\"sk-container-id-6\" class=\"sk-top-container\"><div class=\"sk-text-repr-fallback\"><pre>KNeighborsClassifier(n_neighbors=10, weights=&#x27;distance&#x27;)</pre><b>In a Jupyter environment, please rerun this cell to show the HTML representation or trust the notebook. <br />On GitHub, the HTML representation is unable to render, please try loading this page with nbviewer.org.</b></div><div class=\"sk-container\" hidden><div class=\"sk-item\"><div class=\"sk-estimator sk-toggleable\"><input class=\"sk-toggleable__control sk-hidden--visually\" id=\"sk-estimator-id-6\" type=\"checkbox\" checked><label for=\"sk-estimator-id-6\" class=\"sk-toggleable__label sk-toggleable__label-arrow\">KNeighborsClassifier</label><div class=\"sk-toggleable__content\"><pre>KNeighborsClassifier(n_neighbors=10, weights=&#x27;distance&#x27;)</pre></div></div></div></div></div>"
            ]
          },
          "metadata": {},
          "execution_count": 111
        }
      ]
    },
    {
      "cell_type": "code",
      "source": [
        "knn.score(X_test, y_test)"
      ],
      "metadata": {
        "colab": {
          "base_uri": "https://localhost:8080/"
        },
        "id": "egUX8_Z03X6D",
        "outputId": "dfec6e55-02f7-4601-9a96-59ffd6d23513"
      },
      "execution_count": 112,
      "outputs": [
        {
          "output_type": "execute_result",
          "data": {
            "text/plain": [
              "0.5409836065573771"
            ]
          },
          "metadata": {},
          "execution_count": 112
        }
      ]
    },
    {
      "cell_type": "code",
      "source": [
        "acc = {}\n",
        "for i in range(5, 20):\n",
        "  knn = KNeighborsClassifier(n_neighbors=i)\n",
        "  knn.fit(X_train, y_train)\n",
        "  acc[i] = knn.score(X_test, y_test)"
      ],
      "metadata": {
        "id": "Ebkd2U1l3qGZ"
      },
      "execution_count": 113,
      "outputs": []
    },
    {
      "cell_type": "code",
      "source": [
        "acc"
      ],
      "metadata": {
        "colab": {
          "base_uri": "https://localhost:8080/"
        },
        "id": "2g-JrnyR4KQC",
        "outputId": "5e4dcb3b-6551-4358-ade8-9329f8a99099"
      },
      "execution_count": 114,
      "outputs": [
        {
          "output_type": "execute_result",
          "data": {
            "text/plain": [
              "{5: 0.5573770491803278,\n",
              " 6: 0.5573770491803278,\n",
              " 7: 0.5573770491803278,\n",
              " 8: 0.5901639344262295,\n",
              " 9: 0.5901639344262295,\n",
              " 10: 0.5737704918032787,\n",
              " 11: 0.5737704918032787,\n",
              " 12: 0.5901639344262295,\n",
              " 13: 0.6065573770491803,\n",
              " 14: 0.5901639344262295,\n",
              " 15: 0.6065573770491803,\n",
              " 16: 0.5901639344262295,\n",
              " 17: 0.5901639344262295,\n",
              " 18: 0.5573770491803278,\n",
              " 19: 0.5901639344262295}"
            ]
          },
          "metadata": {},
          "execution_count": 114
        }
      ]
    },
    {
      "cell_type": "code",
      "source": [],
      "metadata": {
        "id": "4_K9dK6B4K5X"
      },
      "execution_count": null,
      "outputs": []
    }
  ]
}